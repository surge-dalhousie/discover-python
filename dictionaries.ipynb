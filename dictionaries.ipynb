{
 "cells": [
  {
   "cell_type": "markdown",
   "id": "younger-initial",
   "metadata": {},
   "source": [
    "# Dictionaries\n",
    "---"
   ]
  },
  {
   "cell_type": "markdown",
   "id": "cellular-director",
   "metadata": {},
   "source": [
    "## Questions:\n",
    "- How can I organize data to store values associated with labels?\n",
    "- How do I work with such data structures?\n",
    "\n",
    "## Learning Objectives:\n",
    "- Be able to store data in dictionaries\n",
    "- Be able to retrieve specific items from dictionaries\n",
    "---"
   ]
  },
  {
   "cell_type": "markdown",
   "id": "intimate-humanity",
   "metadata": {},
   "source": [
    "## Dictionaries are mappings\n",
    "\n",
    "- Python provides a valuable data type called the **dictionary** (often abbreviated as \"dict\")\n",
    "- Dictionaries are collections, like lists or strings\n",
    "- However, dictionaries are *mappings*. Like a traditional dictionary that contains a word, followed by a definition, dictionaries are pairings of **keys** and **values**\n",
    "- A dictionary can be defined using curly braces that specify key-value mappings using the colon (`:`)\n",
    "- For example, the following defines a dictionary with four keys (`First Name`, `Last Name`, etc.), each with an associated value:\n",
    "\n",
    "~~~python\n",
    "my_info = {'First Name':'Annikki', \n",
    "           'Last Name':'Bogdana', \n",
    "           'Age':15, \n",
    "           'Height':1.66}\n",
    "~~~\n"
   ]
  },
  {
   "cell_type": "code",
   "execution_count": null,
   "id": "latest-smith",
   "metadata": {},
   "outputs": [],
   "source": []
  },
  {
   "cell_type": "markdown",
   "id": "artificial-jurisdiction",
   "metadata": {},
   "source": [
    "- Like lists, dictionaries can contain a mixture of data types. \n",
    "- Dictionary **keys** must be an *immutable* type, such as a string or number (int or float). This is because dictionaries are organized by keys, and once a key is defined, it cannot be changed. \n",
    "- Dictionary **values** can be any type. \n",
    "\n",
    "The values in a dictionary are accessed using their keys inside square brackets:\n",
    "\n",
    "~~~python\n",
    "my_info['First Name']\n",
    "~~~"
   ]
  },
  {
   "cell_type": "code",
   "execution_count": null,
   "id": "following-blocking",
   "metadata": {},
   "outputs": [],
   "source": []
  },
  {
   "cell_type": "markdown",
   "id": "educational-central",
   "metadata": {},
   "source": [
    "## Why Dictionaries?"
   ]
  },
  {
   "cell_type": "markdown",
   "id": "superb-bouquet",
   "metadata": {},
   "source": [
    "Dictionaries provide a convenient way for labelling data. For example, in the previous lesson on lists, we used an example of a list of life expectancies for a country (Canada) for different years:\n",
    "\n",
    "~~~python\n",
    "life_exp = [48.1, 56.6, 64.0, 71.0, 75.2, 79.2]\n",
    "~~~\n",
    "\n",
    "One limitation of using list like this, is that we don't know what years the values are associated with. For example, in what year was 48.1 the average life expectancy?\n",
    "\n",
    "Dictionaries solve this problem, because we can use the keys to label the data. For example define the following dictionary in which keys indicated years, and values are life expectancies:\n",
    "\n",
    "~~~python\n",
    "life_exp = {1900:48.1, 1920:56.6, 1940:64.0, 1960:71.0, 1980:75.2, 2000:79.2}\n",
    "~~~"
   ]
  },
  {
   "cell_type": "code",
   "execution_count": null,
   "id": "humanitarian-silence",
   "metadata": {},
   "outputs": [],
   "source": []
  },
  {
   "cell_type": "markdown",
   "id": "burning-surveillance",
   "metadata": {},
   "source": [
    "Now we can see the life expectancy associated with a given year like so:\n",
    "\n",
    "~~~python\n",
    "life_exp[1940]\n",
    "~~~"
   ]
  },
  {
   "cell_type": "code",
   "execution_count": null,
   "id": "ahead-cycling",
   "metadata": {},
   "outputs": [],
   "source": []
  },
  {
   "cell_type": "markdown",
   "id": "complicated-responsibility",
   "metadata": {},
   "source": [
    "What happens if we ask for a key that doesn't exist?\n",
    "\n",
    "~~~python\n",
    "life_exp[2021]\n",
    "~~~"
   ]
  },
  {
   "cell_type": "code",
   "execution_count": null,
   "id": "square-jerusalem",
   "metadata": {},
   "outputs": [],
   "source": []
  },
  {
   "cell_type": "markdown",
   "id": "offshore-spirit",
   "metadata": {},
   "source": [
    "We get a specific type of error called a KeyError, which tells us that the key isn't defined"
   ]
  },
  {
   "cell_type": "markdown",
   "id": "incredible-likelihood",
   "metadata": {},
   "source": [
    "## Dictionaries are mutable \n",
    "\n",
    "- We previously discussed the difference between *immutable* types like strings — whose contents cannot be changed — and *mutable* types like lists — which can be changed. Dictionaries are mutable.\n",
    "- This means we can:\n",
    "    - add new key:value pairs after the dictionary is first defined, and \n",
    "    - modify the values associated with existing keys\n",
    "- For example, we can add a new key:value pair by using the dict name plus square brackets to specify a new key, followed by `=` to assign the value to this key:\n",
    "\n",
    "~~~python\n",
    "life_exp[2020] = 83.2\n",
    "print(life_exp)\n",
    "~~~"
   ]
  },
  {
   "cell_type": "code",
   "execution_count": null,
   "id": "affiliated-retail",
   "metadata": {},
   "outputs": [],
   "source": []
  },
  {
   "cell_type": "markdown",
   "id": "seasonal-rubber",
   "metadata": {},
   "source": [
    "- We can also change the value for an existing key in the same way. In the example above we assigned the wrong value to 2020; it should be 82.3 not 83.2. So we can fix it like this:\n",
    "\n",
    "~~~python\n",
    "life_exp[2020] = 82.3\n",
    "print(life_exp)\n",
    "~~~\n",
    "\n",
    "Note that Python doesn't warn you if you're overwriting a value associated with an existing key."
   ]
  },
  {
   "cell_type": "code",
   "execution_count": null,
   "id": "loving-acrobat",
   "metadata": {},
   "outputs": [],
   "source": []
  },
  {
   "cell_type": "markdown",
   "id": "secondary-blink",
   "metadata": {},
   "source": [
    "### Dictionary keys cannot be renamed\n",
    "- Although dictionaries are mutable, we can't rename dictionary keys. However, we can delete existing entries and create new ones if we need to. \n",
    "- For example, below we add a life expectancy value for the year 2040, but we mistakenly make the key a string instead of an int like the other, existing keys:\n",
    "\n",
    "~~~python\n",
    "life_exp['2040'] = 85.1\n",
    "print(life_exp)\n",
    "~~~"
   ]
  },
  {
   "cell_type": "code",
   "execution_count": null,
   "id": "improved-laptop",
   "metadata": {},
   "outputs": [],
   "source": []
  },
  {
   "cell_type": "markdown",
   "id": "continental-preliminary",
   "metadata": {},
   "source": [
    "We can add another entry using the correct (int) key, but this doesn't delete the old entry:\n",
    "\n",
    "~~~python\n",
    "life_exp[2040] = 85.1\n",
    "print(life_exp)\n",
    "~~~"
   ]
  },
  {
   "cell_type": "markdown",
   "id": "manufactured-liverpool",
   "metadata": {},
   "source": [
    "In the above example, rather than manually entering the new value manually, we can copy it from the value corresponding to the original (incorrect) key:\n",
    "\n",
    "~~~python\n",
    "life_exp[2040] = life_exp['2040']\n",
    "print(life_exp)\n",
    "~~~"
   ]
  },
  {
   "cell_type": "code",
   "execution_count": null,
   "id": "global-thermal",
   "metadata": {},
   "outputs": [],
   "source": []
  },
  {
   "cell_type": "markdown",
   "id": "sapphire-baptist",
   "metadata": {},
   "source": [
    "We can remove a dictionary entry with the `del` statement. We learned about `del` in the lists lesson, including the fact that it is a Python *statement*, so it is followed by a space rather than parentheses:\n",
    "\n",
    "~~~python\n",
    "del life_exp['2040']\n",
    "print(life_exp)\n",
    "~~~"
   ]
  },
  {
   "cell_type": "code",
   "execution_count": null,
   "id": "durable-sitting",
   "metadata": {},
   "outputs": [],
   "source": []
  },
  {
   "cell_type": "markdown",
   "id": "blocked-ferry",
   "metadata": {},
   "source": [
    "## Dictionaries are unordered\n",
    "- Both strings and lists are *ordered* — the items exist in a string or list in a specific order. This is why we can use integers to index string or list items based on their position\n",
    "- Dictionaries, in contrast, are *unordered*. You access values by their keys, but because they are not ordered, you can't access values using numerical indexing. For example, this will fail:\n",
    "\n",
    "~~~python\n",
    "life_exp[0]\n",
    "~~~"
   ]
  },
  {
   "cell_type": "code",
   "execution_count": 8,
   "id": "coordinate-manchester",
   "metadata": {},
   "outputs": [
    {
     "data": {
      "text/plain": [
       "{1900: 48.1, 1920: 56.6, 1940: 64.0, 1960: 71.0, 1980: 75.2, 2000: 79.2}"
      ]
     },
     "execution_count": 8,
     "metadata": {},
     "output_type": "execute_result"
    }
   ],
   "source": [
    "life_exp"
   ]
  },
  {
   "cell_type": "markdown",
   "id": "atlantic-constitution",
   "metadata": {},
   "source": [
    "If you run the code above, you will get a `KeyError`, because Python interprets what's in the square brackets as a dictionary key, not a sequential index. This makes sense, since dictionary keys can be integers."
   ]
  },
  {
   "cell_type": "markdown",
   "id": "unlikely-workplace",
   "metadata": {},
   "source": [
    "## Dictionaries have properties\n",
    "\n",
    "Like other Python collections, dictionaries have a length property, which is the number of key:value pairs:\n",
    "\n",
    "~~~python\n",
    "len(life_exp)\n",
    "~~~"
   ]
  },
  {
   "cell_type": "code",
   "execution_count": null,
   "id": "african-business",
   "metadata": {},
   "outputs": [],
   "source": []
  },
  {
   "cell_type": "markdown",
   "id": "elegant-commercial",
   "metadata": {},
   "source": [
    "## Viewing all the keys or values in a dictionary\n",
    "\n",
    "You can view the entire set of keys in a dictionary like this:\n",
    "\n",
    "~~~python\n",
    "life_exp.keys()\n",
    "~~~"
   ]
  },
  {
   "cell_type": "code",
   "execution_count": null,
   "id": "oriental-colonial",
   "metadata": {},
   "outputs": [],
   "source": []
  },
  {
   "cell_type": "markdown",
   "id": "exotic-korean",
   "metadata": {},
   "source": [
    "Likewise, you can view all of the values using `.values()`:\n",
    "\n",
    "~~~python\n",
    "life_exp.values()\n",
    "~~~"
   ]
  },
  {
   "cell_type": "code",
   "execution_count": null,
   "id": "analyzed-bristol",
   "metadata": {},
   "outputs": [],
   "source": []
  },
  {
   "cell_type": "markdown",
   "id": "rotary-luther",
   "metadata": {},
   "source": [
    "What Python type are the results of the `.keys()` and `.values()` methods?"
   ]
  },
  {
   "cell_type": "code",
   "execution_count": null,
   "id": "norman-helena",
   "metadata": {},
   "outputs": [],
   "source": []
  },
  {
   "cell_type": "markdown",
   "id": "handy-monaco",
   "metadata": {},
   "source": [
    "## Finding a key in a dictionary\n",
    "\n",
    "If your dictionary is very large, it may not be feasible to visually scan through all the entries to determine if a particular key is present. You can use the `in` statement to check whether a key is in a dictionary:\n",
    "\n",
    "~~~python\n",
    "print(1900 in life_exp)\n",
    "print(1800 in life_exp)\n",
    "~~~"
   ]
  },
  {
   "cell_type": "code",
   "execution_count": null,
   "id": "immediate-toolbox",
   "metadata": {},
   "outputs": [],
   "source": []
  },
  {
   "cell_type": "markdown",
   "id": "martial-portfolio",
   "metadata": {},
   "source": [
    "## Dictionary values can be any type\n",
    "\n",
    "While dictionary keys must be an immutable type, such as strings or numbers, values can be any type — including lists, or other dictionaries.\n",
    "\n",
    "For example, here we create a dictionary in which each key is a country name, and the value is a list of life expectancies for different years:\n",
    "\n",
    "~~~python\n",
    "intl_life_exp = {'Canada':[48.1, 56.6, 64.0, 71.0, 75.2, 79.2],\n",
    "                   'Denmark':[51.3, 57.5, 66.1, 72.0, 74.2, 77.0],\n",
    "                   'Egypt':[32.7, 32.6, 33.8, 46.9, 58.0, 68.7]\n",
    "                  }\n",
    "intl_life_exp['Egypt']\n",
    "~~~"
   ]
  },
  {
   "cell_type": "code",
   "execution_count": null,
   "id": "compliant-syntax",
   "metadata": {},
   "outputs": [],
   "source": []
  },
  {
   "cell_type": "markdown",
   "id": "intimate-effort",
   "metadata": {},
   "source": [
    "Using lists in the above example has the same limitation talked about at the start of this lesson: we don't know what years correspond to the values in each list. Using a dictionary of dictionaries solves this problem: \n",
    "\n",
    "~~~python\n",
    "intl_life_exp = {'Canada':{1900:48.1, 1920:56.6, 1940:64.0, 1960:71.0, 1980:75.2, 2000:79.2},\n",
    "                   'Denmark':{1900:51.3, 1920:57.5, 1940:66.1, 1960:72.0, 1980:74.2, 2000:77.0},\n",
    "                   'Egypt':{1900:32.7, 1920:32.6, 1940:33.8, 1960:46.9, 1980:58.0, 2000:68.7}\n",
    "                  }\n",
    "intl_life_exp['Egypt']\n",
    "~~~"
   ]
  },
  {
   "cell_type": "code",
   "execution_count": 12,
   "id": "forbidden-above",
   "metadata": {},
   "outputs": [],
   "source": [
    "intl_life_exp = {'Canada':{1900:48.1, 1920:56.6, 1940:64.0, 1960:71.0, 1980:75.2, 2000:79.2},\n",
    "                   'Denmark':{1900:51.3, 1920:57.5, 1940:66.1, 1960:72.0, 1980:74.2, 2000:77.0},\n",
    "                   'Egypt':{1900:32.7, 1920:32.6, 1940:33.8, 1960:46.9, 1980:58.0, 2000:68.7}\n",
    "                  }"
   ]
  },
  {
   "cell_type": "markdown",
   "id": "seven-coverage",
   "metadata": {},
   "source": [
    "We can now obtain values for specific years, within specific countries, using a sequence of keys, working from the outside in:\n",
    "\n",
    "~~~python\n",
    "intl_life_exp['Denmark'][1940]\n",
    "~~~"
   ]
  },
  {
   "cell_type": "code",
   "execution_count": null,
   "id": "collective-photographer",
   "metadata": {},
   "outputs": [],
   "source": []
  },
  {
   "cell_type": "markdown",
   "id": "conservative-diving",
   "metadata": {},
   "source": [
    "---\n",
    "## Exercises\n"
   ]
  },
  {
   "cell_type": "markdown",
   "id": "subtle-hungarian",
   "metadata": {},
   "source": [
    "Create a dictionary called `weekdays` in which the keys are the names of the days of the week from Monday to Friday (not including weekends), and the values are numbers from 1-5 (with the key `Monday` associated with the value `1`, etc.)."
   ]
  },
  {
   "cell_type": "code",
   "execution_count": null,
   "id": "copyrighted-mapping",
   "metadata": {},
   "outputs": [],
   "source": []
  },
  {
   "cell_type": "markdown",
   "id": "protected-speed",
   "metadata": {},
   "source": [
    "Using the `weekdays` list you created, print the value for `Wednesday`"
   ]
  },
  {
   "cell_type": "code",
   "execution_count": null,
   "id": "phantom-schedule",
   "metadata": {},
   "outputs": [],
   "source": []
  },
  {
   "cell_type": "markdown",
   "id": "uniform-cornwall",
   "metadata": {},
   "source": [
    "Although dictionaries are not stored in an ordered fashion, it is possible to view a sorted list of dictionary keys using the `sorted()` function we learned in the previous lesson on lists. Try printing the sorted keys for `weekdays`"
   ]
  },
  {
   "cell_type": "code",
   "execution_count": null,
   "id": "authentic-hacker",
   "metadata": {},
   "outputs": [],
   "source": []
  },
  {
   "cell_type": "markdown",
   "id": "ignored-aside",
   "metadata": {},
   "source": [
    "Add key:value pairs for the weekend days to `weekdays`"
   ]
  },
  {
   "cell_type": "code",
   "execution_count": null,
   "id": "dimensional-colleague",
   "metadata": {},
   "outputs": [],
   "source": []
  },
  {
   "cell_type": "markdown",
   "id": "explicit-dollar",
   "metadata": {},
   "source": [
    "Check if the year 1940 is a key in the entry for Denmark in the intl_life_exp dictionary"
   ]
  },
  {
   "cell_type": "code",
   "execution_count": null,
   "id": "acquired-secondary",
   "metadata": {},
   "outputs": [],
   "source": []
  },
  {
   "cell_type": "markdown",
   "id": "biblical-updating",
   "metadata": {},
   "source": [
    "---\n",
    "## Summary of Key Points\n",
    "- dictionaries are a special type of collection called *mappings*\n",
    "- each dictionary entry is specified as a key:value pair\n",
    "- key:value pairs are assigned to variable names within curly braces: `{}`\n",
    "- keys must be immutable types, such as strings or numbers. \n",
    "    - however, dictionary values can be any Python type, including lists or other dictionaries\n",
    "- dictionaries are mutable, in that one can add or delete entries, or change the value of an entry\n",
    "    - however, dictionary keys cannot be renamed. Instead, you must delete the old key:value pair and create a new one\n",
    "- dictionaries are unordered, so you cannot access an entry based on its serial (sequential) position the way you can entries in a list\n",
    "    - instead, you access values based on their keys\n",
    "- the length of a dictionary is the number of key:value pairs it contains\n",
    "- you can see a list of all dictionary keys or values using the `.keys()` and `.values()` methods, respectively"
   ]
  },
  {
   "cell_type": "markdown",
   "id": "apart-furniture",
   "metadata": {},
   "source": [
    "---\n",
    "Licensed under [CC-BY 4.0](https://creativecommons.org/licenses/by/4.0/) 2021 by [SURGE](https://github.com/surge-dalhousie)"
   ]
  }
 ],
 "metadata": {
  "kernelspec": {
   "display_name": "Python 3",
   "language": "python",
   "name": "python3"
  },
  "language_info": {
   "codemirror_mode": {
    "name": "ipython",
    "version": 3
   },
   "file_extension": ".py",
   "mimetype": "text/x-python",
   "name": "python",
   "nbconvert_exporter": "python",
   "pygments_lexer": "ipython3",
   "version": "3.8.5"
  }
 },
 "nbformat": 4,
 "nbformat_minor": 5
}
