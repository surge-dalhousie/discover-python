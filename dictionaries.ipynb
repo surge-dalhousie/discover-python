{
 "cells": [
  {
   "cell_type": "markdown",
   "id": "mounted-afternoon",
   "metadata": {},
   "source": [
    "# Dictionaries\n",
    "---"
   ]
  },
  {
   "cell_type": "markdown",
   "id": "improved-finish",
   "metadata": {},
   "source": [
    "## Questions:\n",
    "- How can I organize data to store values associated with labels?\n",
    "- How do I work with such data structures?\n",
    "\n",
    "## Learning Objectives:\n",
    "- Be able to store data in dictionaries\n",
    "- Be able to retrieve specific items from dictionaries\n",
    "---"
   ]
  },
  {
   "cell_type": "markdown",
   "id": "opening-detroit",
   "metadata": {},
   "source": [
    "## Dictionaries\n",
    "\n",
    "Python provides a valuable data type called the **dictionary** (often abbreviated as \"dict\").\n"
   ]
  },
  {
   "cell_type": "markdown",
   "id": "powered-nelson",
   "metadata": {},
   "source": [
    "---\n",
    "This lesson is adapted from the [Software Carpentry](https://software-carpentry.org/lessons/) [Plotting and Programming in Python](http://swcarpentry.github.io/python-novice-gapminder/) workshop. \n",
    "\n",
    "Licensed under [CC-BY 4.0](https://creativecommons.org/licenses/by/4.0/) 2021 by Aaron J Newman"
   ]
  }
 ],
 "metadata": {
  "kernelspec": {
   "display_name": "Python 3",
   "language": "python",
   "name": "python3"
  },
  "language_info": {
   "codemirror_mode": {
    "name": "ipython",
    "version": 3
   },
   "file_extension": ".py",
   "mimetype": "text/x-python",
   "name": "python",
   "nbconvert_exporter": "python",
   "pygments_lexer": "ipython3",
   "version": "3.8.5"
  }
 },
 "nbformat": 4,
 "nbformat_minor": 5
}
