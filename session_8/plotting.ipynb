{
 "cells": [
  {
   "cell_type": "markdown",
   "metadata": {},
   "source": [
    "# Introduction to Plotting with Matplotlib\n",
    "\n",
    "---\n",
    "\n",
    "[Watch a walk-through of this lesson on YouTube](https://www.youtube.com/watch?v=6ATdPk3bRBk)"
   ]
  },
  {
   "cell_type": "markdown",
   "metadata": {},
   "source": [
    "## Questions\n",
    "- How can I plot my data?\n",
    "- How can I save my plot for publishing?\n",
    "\n",
    "## Learning Objectives\n",
    "- Create a time series plot showing a single data set\n",
    "- Create a scatter plot showing relationship between two data sets\n",
    "- Use methods to plot directly from pandas DataFrames\n",
    "- Customize basic features of a plot, such as axis labels, titles, colours, and line styles\n",
    "\n",
    "---"
   ]
  },
  {
   "cell_type": "markdown",
   "metadata": {},
   "source": [
    "<img src='https://matplotlib.org/stable/_static/logo2_compressed.svg' alt='Matplotlib' width=225>\n",
    "\n",
    "[Matplotlib](https://matplotlib.org/) is, effectively, the core plotting and data visualization package in Python. Many other packages use Matplotlib for data visualization, including pandas, NumPy, and SciPy. Matplotlib is not the only visualization package in Python, by any means. There are many others, including [seaborn](https://seaborn.pydata.org), [Altair](https://altair-viz.github.io), [ggpy](http://yhat.github.io/ggpy/), [Bokeh](https://docs.bokeh.org/en/latest/index.html), and [plot.ly](https://plot.ly). Some of the others are actually built on top of Matplotlib, but simply the syntax for creating specific, complex types of graphics relative to what's required in Matplotlib (these are called **wrappers** for Matplotlib). Others are entirely independent. Regardless, Matplotlib is the most widely-used and flexible package for data visualization in Python, and so it's valuable to learn it first, and then build out your skills from there. \n",
    "\n",
    "Matplotlib is also a very mature Python package, having been first released in 2003 and continuously updated since then. It has a strong development community, a detailed website with extensive documentation and many examples, and there is copious third party documentation in the form of blog posts, books, and more — much of which is freely available.\n",
    "\n",
    "## History\n",
    "\n",
    "Matplotlib's original developer, [John D. Hunter](https://en.wikipedia.org/wiki/John_D._Hunter) (1968-2012), was a neuroscience PhD student who needed to plot electrocorticography (ECoG) data (electrical data recorded directly from the surface of the brain). Hunter originally designed Matplotlib to emulate the plotting abilities of [Matlab](https://www.mathworks.com/products/matlab.html), but in Python. Matlab is a commercial programming language and environment, designed for — and widely used by — engineers and scientists. Hunter encountered limitations in Matlab that he wanted to work around. Because Matlab is a commercial product, rather than an open source one, development is controlled by a company (Mathworks). Although developers can write quite extensive and complex applications in Matlab, they are ultimately limited by the decisions that its developers have made. Hunter decided to switch his work to use Python, and wanted to develop a plotting interface that was similar to that used in Matlab. Indeed, this is where the \"Mat\" part of the name Matplotlib came from. "
   ]
  },
  {
   "cell_type": "markdown",
   "metadata": {},
   "source": [
    "## Importing Matplotlib\n",
    "\n",
    "We have previously covered how to import a Python package using the `import` command. We also covered how to import a package with an alias, using the syntax `import [pacakge] as [alias]` \n",
    "\n",
    "For Matplotlib, we will do this again, but we add an extra detail: Matplotlib, like many Python packages, is organized into a number of \"modules\" (essentially subsets of functions). The one that you will typically want to import for plotting is called `pyplot`. So we use the syntax below:\n",
    "\n",
    "~~~python\n",
    "import matplotlib.pyplot as plt\n",
    "~~~"
   ]
  },
  {
   "cell_type": "code",
   "execution_count": null,
   "metadata": {
    "collapsed": false,
    "jupyter": {
     "outputs_hidden": false
    }
   },
   "outputs": [],
   "source": []
  },
  {
   "cell_type": "markdown",
   "metadata": {},
   "source": [
    "## Generating a Plot\n",
    "Now we can draw a simple line plot using the `matplotlib.pyplot`'s `plot()` function, by creating two lists of data points (each 4 elements long), which represent time elapsed and distance traveled by some hypothetical object:\n",
    "\n",
    "~~~python\n",
    "time = [0, 1, 2, 3]\n",
    "position = [0, 100, 200, 300]\n",
    "\n",
    "plt.plot(time, position)\n",
    "~~~"
   ]
  },
  {
   "cell_type": "code",
   "execution_count": null,
   "metadata": {
    "collapsed": false,
    "jupyter": {
     "outputs_hidden": false
    }
   },
   "outputs": [],
   "source": []
  },
  {
   "cell_type": "markdown",
   "metadata": {
    "jupyter": {
     "outputs_hidden": false
    }
   },
   "source": [
    "You can see above that we used the Matplotlib alias `plt` followed by the name of a specific function in the package, `plot()`. This is the same syntax as when we used a pandas function, such as `pd.read_csv()`.\n",
    "\n",
    "Another thing to note is that above the plot is some text, something like: `[<matplotlib.lines.Line2D at 0x7f72bc26ce20>]`. This is part of the output of the `plt.plot()` command, but typically not something that we care to see. We can generate the plot without this extra output, by including the command `plt.show()` at the end of the cell. Recall that Jupyter only shows the output of the last output-generating command in a cell, and `plt.show()` shows the plot without the extra text. It's good to make a habit of putting `plt.plot()` as the last line of code in any Jupyter cell you generate a plot in.\n",
    "\n",
    "~~~python\n",
    "# since we defined time and position above, no need to re-assign them here\n",
    "plt.plot(time, position)\n",
    "plt.show()\n",
    "~~~"
   ]
  },
  {
   "cell_type": "code",
   "execution_count": null,
   "metadata": {
    "collapsed": false,
    "jupyter": {
     "outputs_hidden": false
    }
   },
   "outputs": [],
   "source": []
  },
  {
   "cell_type": "markdown",
   "metadata": {
    "jupyter": {
     "outputs_hidden": false
    }
   },
   "source": [
    "## Labelling Axes\n",
    "Matplotlib also allows us to modify the plot in many ways, which can improve the interpretability of a plot. For example, it's always good practice to label the axes of a plot. \n",
    "\n",
    "In most cases, the way we modify or enhance a Matplotlib plot are not by adding arguments to the `.plot()` command, but executing additional commands after `.plot()` that modify what was created by `.plot()`, culminating in the `plt.show()` command for the \"final reveal\":\n",
    "~~~python\n",
    "plt.plot(time, position)\n",
    "plt.xlabel('Time (hr)')\n",
    "plt.ylabel('Position (km)')\n",
    "plt.show()\n",
    "~~~"
   ]
  },
  {
   "cell_type": "code",
   "execution_count": null,
   "metadata": {
    "collapsed": false,
    "jupyter": {
     "outputs_hidden": false
    }
   },
   "outputs": [],
   "source": []
  },
  {
   "cell_type": "markdown",
   "metadata": {},
   "source": [
    "## Plotting pandas DataFrames\n",
    "\n",
    "pandas is integrated with Matplotlib, making it easy to generate plots of data stored in pandas DataFrames. Methods are defined for pandas DataFrames that generate plots using Matplotlib.\n",
    "\n",
    "### Import Data as a pandas DataFrame\n",
    "Let's try this by first importing pandas and loading in the Gapminder Oceania data (`data/gapminder_gdp_oceania.csv`):\n",
    "\n",
    "~~~python\n",
    "import pandas as pd\n",
    "df = pd.read_csv('data/gapminder_gdp_oceania.csv', index_col='country')\n",
    "~~~"
   ]
  },
  {
   "cell_type": "code",
   "execution_count": null,
   "metadata": {
    "collapsed": false,
    "jupyter": {
     "outputs_hidden": false
    }
   },
   "outputs": [],
   "source": [
    "')"
   ]
  },
  {
   "cell_type": "markdown",
   "metadata": {},
   "source": [
    "Let's see what this DataFrame looks like:\n",
    "~~~python\n",
    "df\n",
    "~~~"
   ]
  },
  {
   "cell_type": "code",
   "execution_count": null,
   "metadata": {
    "collapsed": false,
    "jupyter": {
     "outputs_hidden": false
    }
   },
   "outputs": [],
   "source": []
  },
  {
   "cell_type": "markdown",
   "metadata": {},
   "source": [
    "There are only two countries in this data set, which makes it easy to work with."
   ]
  },
  {
   "cell_type": "markdown",
   "metadata": {
    "jupyter": {
     "outputs_hidden": false
    },
    "tags": []
   },
   "source": [
    "### Plotting directly from a pandas DataFrame\n",
    "\n",
    "Our goal is to plot the GDP for a particular country (or countries), as a function of year. In other words, we want to plot a line for each country, with year on the *x* axis and GDP on the *y* axis.\n",
    "\n",
    "Let's run the pandas `.plot()` method on our DataFrame to generate a Matplotlib plot:\n",
    "\n",
    "~~~python\n",
    "df.plot()\n",
    "plt.show()\n",
    "~~~"
   ]
  },
  {
   "cell_type": "code",
   "execution_count": null,
   "metadata": {
    "collapsed": false,
    "jupyter": {
     "outputs_hidden": false
    }
   },
   "outputs": [],
   "source": []
  },
  {
   "cell_type": "markdown",
   "metadata": {},
   "source": [
    "We get a plot all right, but it's not the most intuitive way to look at the data. What happened here? \n",
    "\n",
    "We can see from the legend that Python generated a line for each year in the data set, with country on the *x* axis. This is because **by default, Matplotlib will use the rows of a DataFrame as the *x* axis**, and use columns to define the groupings that define individual lines. But in our DataFrame, the rows (indexes) are the countries. \n",
    "\n",
    "We can change this by ***transposing*** the DataFrame, an operation which swaps the rows and columns (rows become columns, and vice-versa). To transpose the DataFrame we us the `.T` operator (note that `.T` is an operator, not a method, so you shouldn't add parentheses after the `T`)\n",
    "\n",
    "~~~python\n",
    "df.T.plot()\n",
    "plt.show()\n",
    "~~~"
   ]
  },
  {
   "cell_type": "code",
   "execution_count": null,
   "metadata": {
    "collapsed": false,
    "jupyter": {
     "outputs_hidden": false
    }
   },
   "outputs": [],
   "source": []
  },
  {
   "cell_type": "markdown",
   "metadata": {},
   "source": [
    "You can see above that pandas + Matplotlib also recognizes the index of the DataFrame as labels, so a legend is automatically generated with the country names.\n",
    "\n",
    "Another important point to note is that we applied `.T` \"on the fly\" in generating the plot. That is, we didn't modify the DataFrame `df` stored in memory. We just passed the data from `df` through the `.T` operator when we generated the plot. You can see that `df` is not transposed by viewing it again:\n",
    "\n",
    "~~~python\n",
    "df\n",
    "~~~"
   ]
  },
  {
   "cell_type": "code",
   "execution_count": null,
   "metadata": {
    "collapsed": false,
    "jupyter": {
     "outputs_hidden": false
    }
   },
   "outputs": [],
   "source": []
  },
  {
   "cell_type": "markdown",
   "metadata": {
    "jupyter": {
     "outputs_hidden": false
    },
    "tags": []
   },
   "source": [
    "## Renaming Columns\n",
    "\n",
    "The *x* axis labels in the above plot are hard to read, because each column name contains not only the year, but the preceding text `gdpPercap_`,  e.g., `gdpPercap_1972`. It would be nice to remove this leading text so column labels are just the numerical years. \n",
    "\n",
    "Fortunately, pandas has a `.str.strip()` method, which removes from the string the characters stated in the argument. This method works on strings, which is why we call `str` before `.strip()`. To rename the columns, we can rely on the fact that pandas DataFrames have a `.columns` property that allows us to refer to the entire set of column labels. \n",
    "\n",
    "~~~python\n",
    "df.columns = df.columns.str.strip('gdpPercap_')\n",
    "df\n",
    "~~~\n"
   ]
  },
  {
   "cell_type": "code",
   "execution_count": null,
   "metadata": {
    "collapsed": false,
    "jupyter": {
     "outputs_hidden": false
    }
   },
   "outputs": [],
   "source": []
  },
  {
   "cell_type": "markdown",
   "metadata": {},
   "source": [
    "Now if we plot `df` again, the *x* axis labels are clearer:\n",
    "\n",
    "~~~python\n",
    "df.T.plot()\n",
    "plt.show()\n",
    "~~~"
   ]
  },
  {
   "cell_type": "code",
   "execution_count": null,
   "metadata": {
    "collapsed": false,
    "jupyter": {
     "outputs_hidden": false
    }
   },
   "outputs": [],
   "source": []
  },
  {
   "cell_type": "markdown",
   "metadata": {},
   "source": [
    "Look at the DataFrame now, to see the result:\n",
    "\n",
    "    df"
   ]
  },
  {
   "cell_type": "code",
   "execution_count": null,
   "metadata": {
    "collapsed": false,
    "jupyter": {
     "outputs_hidden": false
    }
   },
   "outputs": [],
   "source": []
  },
  {
   "cell_type": "markdown",
   "metadata": {
    "tags": []
   },
   "source": [
    "## Customizing Plot Appearance\n",
    "\n",
    "Matplotlib provides a huge number of options to customize the appearance of a plot. \n",
    "\n",
    "If we want to customize the colours of a plot with multiple categories (lines, bars, etc), we can pass a *keyword argument* (kwarg) to the `.plot()` method. To change line colours, we pass the kwarg `color=` followed by a list of color names, with the number of list items equal to the number of categories we're plotting (in this case, two). \n",
    "\n",
    "We can also add a label to the *y* axis using the `.ylabel()` function.\n",
    "\n",
    "~~~python\n",
    "df.T.plot(color=['red', 'blue'])\n",
    "plt.ylabel('GDP per capita')\n",
    "plt.show()\n",
    "~~~\n",
    "\n",
    "<div class=\"alert alert-block alert-info\">\n",
    "    <h3>Keyword arguments</h3>\n",
    "\n",
    "`color=` is a particular kind of argument to a function, called a ***keyword argument*** (***kwarg***). Recall that arguments are information provided to a function that alter how it runs. kwargs are arguments that use a keyword (in this case, `color`), followed by the `=` sign, followed by a value to pass to the argument. kwargs are commonly used for optional arguments. A Python function that takes multiple arguments needs to know how to interpret each argument. Mandatory arguments typically are required to be listed in a particular order, which allows the function to know how to interpret each one. However, optional arguments might not occur, so order would not be a good way of determining the meaning of the argument. The keywords allow the function to know how to interpret each kwarg.\n",
    "</div>\n",
    "\n"
   ]
  },
  {
   "cell_type": "code",
   "execution_count": null,
   "metadata": {
    "collapsed": false,
    "jupyter": {
     "outputs_hidden": false
    }
   },
   "outputs": [],
   "source": []
  },
  {
   "cell_type": "markdown",
   "metadata": {
    "jupyter": {
     "outputs_hidden": false
    }
   },
   "source": [
    "### Selecting subsets of a DataFrame\n",
    "\n",
    "Above we selected only the data from Australia using `.loc[]`, and assigned that to `gdp_australia`. But more efficiently, using the pandas `.plot()` method, we can *chain* together the `.loc[]` selector and the `.plot()` method to select the relevant data 'on the fly' rather than first defining a variable to hold that data. \n",
    "\n",
    "For example we can plot the data for a specific country (Australia), by selecting it using the `.loc[]` method to select the index `Australia`:\n",
    "\n",
    "~~~python\n",
    "df.loc['Australia'].plot()\n",
    "plt.show()\n",
    "~~~"
   ]
  },
  {
   "cell_type": "code",
   "execution_count": null,
   "metadata": {
    "collapsed": false,
    "jupyter": {
     "outputs_hidden": false
    }
   },
   "outputs": [],
   "source": []
  },
  {
   "cell_type": "markdown",
   "metadata": {},
   "source": [
    "We can customize this using the `color` and `linestyle` kwargs. Note that if we're only passing a single value to a kwarg, we don't use a list:\n",
    "\n",
    "~~~python\n",
    "df.loc['Australia'].plot(color='y', linestyle='--')\n",
    "plt.show()\n",
    "~~~"
   ]
  },
  {
   "cell_type": "code",
   "execution_count": null,
   "metadata": {
    "collapsed": false,
    "jupyter": {
     "outputs_hidden": false
    }
   },
   "outputs": [],
   "source": []
  },
  {
   "cell_type": "markdown",
   "metadata": {
    "jupyter": {
     "outputs_hidden": false
    }
   },
   "source": [
    "## Types of plots\n",
    "\n",
    "Matplotlib will make some assumptions about how to plot your data, based on the types of values it is given. However, you can override these defaults by specifying the type of plot you desire. For example, we can plot the same Gapminder data as bars, by using the keyword argument `kind='bar'`:\n",
    "\n",
    "~~~python\n",
    "df.T.plot(kind='bar')\n",
    "plt.ylabel('GDP per capita')\n",
    "plt.show()\n",
    "~~~"
   ]
  },
  {
   "cell_type": "code",
   "execution_count": null,
   "metadata": {
    "collapsed": false,
    "jupyter": {
     "outputs_hidden": false
    }
   },
   "outputs": [],
   "source": []
  },
  {
   "cell_type": "markdown",
   "metadata": {
    "tags": []
   },
   "source": [
    "Something to get used to is that some plot styles can be defined as keyword arguments to `.plot()`, as above, others can be generated using subfunctions of `.plot`, such as `.plot.scatter()`, as below. Often, you can use either one to get the same result. It's often the case in Python that there are many different ways to do the same thing! \n",
    "\n",
    "\n",
    "## Scatterplots\n",
    "\n",
    "Since Australia and New Zealand are in the same region of the world, and engage in a lot of trade with each other, it's likely that their GDPs are correlated with each other. That is, as Australia's GDP goes up, we would expect New Zealand's to go up similarly. \n",
    "\n",
    "Below we generate a *scatterplot* to examine whether the two Oceania countries' GDPs correlate. This requires a different type of data selection from the plots above, because here we want to use the data from one row as the *x* axis, and another row as the *y* axis — rather than using rows for groups and columns for the *x* axis. Fortunately, the pandas `.plot.scatter()` method recognizes our row names (indexes) so we just have to specify their names:\n",
    "\n",
    "~~~python\n",
    "df.T.plot.scatter(x='Australia', y='New Zealand')\n",
    "plt.ylabel('GDP per capita')\n",
    "plt.title('Relationship between GDP of Australia and New Zealand')\n",
    "plt.show()\n",
    "~~~"
   ]
  },
  {
   "cell_type": "code",
   "execution_count": null,
   "metadata": {
    "collapsed": false,
    "jupyter": {
     "outputs_hidden": false
    }
   },
   "outputs": [],
   "source": []
  },
  {
   "cell_type": "markdown",
   "metadata": {
    "tags": []
   },
   "source": [
    "## Exercises"
   ]
  },
  {
   "cell_type": "markdown",
   "metadata": {
    "tags": []
   },
   "source": [
    "### The Expanding Wealth Gap \n",
    "\n",
    "Fill in the blanks below to plot one line for the minimum GDP per capita over time of all the countries in Europe, and another line to plot the maximum GDP per capita over time for Europe.\n",
    "\n",
    "~~~python\n",
    "data_europe = pd.read_csv('data/gapminder_gdp_europe.csv', index_col='country')\n",
    "data_europe.___.plot(label='min') # Method to find the minimum value\n",
    "data_europe.___.plot(label='max') # Method to find the maximum value\n",
    "plt.legend(loc='best')\n",
    "plt.xticks(rotation=90)\n",
    "plt.___() # Show plot\n",
    "~~~"
   ]
  },
  {
   "cell_type": "code",
   "execution_count": null,
   "metadata": {
    "collapsed": false,
    "jupyter": {
     "outputs_hidden": false
    }
   },
   "outputs": [],
   "source": []
  },
  {
   "cell_type": "markdown",
   "metadata": {},
   "source": [
    "You might note that the variability in the maximum is much higher than that of the minimum. Take a look at the maximum and the max indexes:\n",
    "\n",
    "~~~python\n",
    "data_europe.max().plot()\n",
    "plt.show()\n",
    "print(data_europe.idxmax())\n",
    "print(data_europe.idxmin())\n",
    "~~~"
   ]
  },
  {
   "cell_type": "code",
   "execution_count": null,
   "metadata": {
    "collapsed": false,
    "jupyter": {
     "outputs_hidden": false
    }
   },
   "outputs": [],
   "source": []
  },
  {
   "cell_type": "markdown",
   "metadata": {
    "tags": []
   },
   "source": [
    "### More Correlations\n",
    "\n",
    "This short program creates a plot showing the correlation between GDP and life expectancy for 2007, normalizing marker size by population:\n",
    "\n",
    "~~~python\n",
    "data_all = pd.read_csv('data/gapminder_all.csv', index_col='country')\n",
    "data_all.plot(kind='scatter', \n",
    "              x='gdpPercap_2007', \n",
    "              y='lifeExp_2007',\n",
    "              s=data_all['pop_2007'] / 1e6\n",
    "             )\n",
    "plt.show()\n",
    "~~~"
   ]
  },
  {
   "cell_type": "code",
   "execution_count": null,
   "metadata": {
    "collapsed": false,
    "jupyter": {
     "outputs_hidden": false
    }
   },
   "outputs": [],
   "source": []
  },
  {
   "cell_type": "markdown",
   "metadata": {},
   "source": [
    "Using online help and other resources, explain what each argument to `plot()` does."
   ]
  },
  {
   "cell_type": "markdown",
   "metadata": {},
   "source": []
  },
  {
   "cell_type": "markdown",
   "metadata": {},
   "source": [
    "## Saving your plot to a file\n",
    "\n",
    "If you are satisfied with the plot you see you may want to save it to a file, perhaps to include it in a publication. There is a function in the `matplotlib.pyplot` module that accomplishes this: `.savefig()`. Calling this function, e.g. with\n",
    "\n",
    "~~~python\n",
    "plt.savefig('my_figure.png')\n",
    "~~~\n",
    "\n",
    "will save the current figure to the file `my_figure.png`. The file format will automatically be deduced from the file name extension (other formats are pdf, ps, eps and svg).\n",
    "\n",
    "Note that, when we're using the functional approach to Matplotlib, functions in `plt` refer to a global figure variable and after a figure has been displayed to the screen (e.g. with `plt.show()`) Matplotlib will make this variable refer to a new empty figure. Therefore, make sure you call `plt.savefig()` *before* the plot is displayed to the screen, otherwise you may find a file with an empty plot.\n",
    "\n",
    "~~~python\n",
    "df.T.plot(kind='bar')\n",
    "plt.savefig('my_figure.png')\n",
    "plt.show()\n",
    "~~~"
   ]
  },
  {
   "cell_type": "code",
   "execution_count": null,
   "metadata": {
    "collapsed": false,
    "jupyter": {
     "outputs_hidden": false
    }
   },
   "outputs": [],
   "source": []
  },
  {
   "cell_type": "markdown",
   "metadata": {},
   "source": [
    "---\n",
    "## Summary of Key Points\n",
    "\n",
    "- Matplotlib is the most widely used scientific plotting library in Python.\n",
    "- Methods allow you to plot data directly from a pandas dataframe.\n",
    "- It is common to need to select and transform data, then plot it.\n",
    "- Many styles of plot are available: see the [Python Graph Gallery](https://python-graph-gallery.com/matplotlib/) for more options.\n",
    "- It's possible to plot many sets of data together\n"
   ]
  },
  {
   "cell_type": "markdown",
   "metadata": {},
   "source": [
    "---\n",
    "This lesson is adapted from the [Software Carpentry](https://software-carpentry.org/lessons/) [Plotting and Programming in Python](http://swcarpentry.github.io/python-novice-gapminder/) workshop. "
   ]
  }
 ],
 "metadata": {
  "kernelspec": {
   "display_name": "Python 3 (ipykernel)",
   "language": "python",
   "name": "python3"
  },
  "language_info": {
   "codemirror_mode": {
    "name": "ipython",
    "version": 3
   },
   "file_extension": ".py",
   "mimetype": "text/x-python",
   "name": "python",
   "nbconvert_exporter": "python",
   "pygments_lexer": "ipython3",
   "version": "3.9.7"
  },
  "nteract": {
   "version": "0.28.0"
  }
 },
 "nbformat": 4,
 "nbformat_minor": 4
}
