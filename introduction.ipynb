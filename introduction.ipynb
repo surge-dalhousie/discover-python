{
 "cells": [
  {
   "cell_type": "markdown",
   "id": "portable-convenience",
   "metadata": {},
   "source": [
    "# Introduction\n",
    "\n",
    "Welcome to the [SURGE](https://surgeinnovation.ca) Discover Coding Python-Gapminder workshop! This workshop is aimed at people from science disciplines who have no previous experience with a programming language. We teach the basic of coding using Python, a very popular language used in science and data science. If you have programmed before, but are new to Python, you will also find this workshop useful, if perhaps a bit slow at times. \n",
    "\n",
    "## Our Approach\n",
    "\n",
    "This is not an introduction to computer science. The SURGE Discover Coding series aims to teach people working in science how to use Python as a tool for working with data. As such, our focus is on:\n",
    "- learning the fundamentals of Python\n",
    "- learning the fundamentals of programming logic\n",
    "- using Python for data science, including:\n",
    "    - reading data\n",
    "    - manipulating/processing data (e.g., extracting specific data, splitting data according to variables, applying functions, combining data)\n",
    "    - exploratory data analysis\n",
    "    - basic statistical analyses of data sets"
   ]
  },
  {
   "cell_type": "markdown",
   "id": "auburn-airline",
   "metadata": {},
   "source": [
    "## Learning Objectives\n",
    "\n",
    "Upon completing this workshop, you will be able to:\n",
    "- understand and use variables\n",
    "- work with common Python data types like integers, floats, strings, characters, lists, dictionaries, as well as NumPy arrays and Pandas DataFrames.\n",
    "- read data from text files\n",
    "- obtain basic summary statistics from data files\n",
    "- manipulate and extract data from pandas DataFrames\n",
    "- visualize data using Python's Matplotlib package, and customize these plots\n",
    "- use basic flow control, including for loops and conditionals\n",
    "- write Python code according to standard style guidelines"
   ]
  },
  {
   "cell_type": "markdown",
   "id": "plain-frame",
   "metadata": {},
   "source": [
    "---\n",
    "## SURGE Statement of Inclusion \n",
    "We believe that processes of innovation and entrepreneurship are among the most powerful human tools, and that they can empower people to effect positive change in the world. Our work is founded on the belief that teaching these tools to scientists holds humanity’s best hopes for the future. At the same time, we recognize that history has not created a level playing field for everyone when it comes to opportunities in science, technology, and entrepreneurship. So, beyond programming for a broad audience, we aim to develop programs to help encourage and support traditionally under-represented groups, including (but not limited to) Indigenous people, African Nova Scotians, people identifying as LGBTQ2+, and women. SURGE is a safe space where everyone should feel welcome and included, free to pursue opportunities, and free express divergent opinions in the spirit of productive academic exchange.\n",
    "\n",
    "## Recognition of Mi’kmaq Territory\n",
    "\n",
    "Dalhousie University is located in Mi’kma’ki, the ancestral and unceded territory of the Mi’kmaq. We are all Treaty people. The Elders in Residence program provides students with access to First Nations elders for guidance, counsel and support. Visit the Indigenous Student Centre or contact the programs at elders@dal.ca.\n",
    "\n",
    "## Diversity and Inclusion – Culture of Respect\n",
    "\n",
    "Every person at Dalhousie has a right to be respected and safe. We believe inclusiveness is fundamental to education. We stand for equality. Dalhousie is strengthened in our diversity. We are a respectful and inclusive community. \n",
    "\n",
    "## Code of Conduct\n",
    "\n",
    "SURGE Discover Coding workshops adhere to [Dalhousie University's Code fo Student Conduct](https://www.dal.ca/dept/university_secretariat/policies/student-life/code-of-student-conduct.html) as well as the [Carpentries' Code of Conduct](https://docs.carpentries.org/topic_folders/policies/code-of-conduct.html). We are dedicated to providing a welcoming and supportive environment for all people, regardless of background or identity. By participating in this community, participants accept to abide by The Carpentries’ Code of Conduct and accept the procedures by which any Code of Conduct incidents are resolved. Any form of behaviour to exclude, intimidate, or cause discomfort is a violation of the Code of Conduct. In order to foster a positive and professional learning environment we encourage the following kinds of behaviours in all platforms and events:\n",
    "- Use welcoming and inclusive language\n",
    "- Be respectful of different viewpoints and experiences\n",
    "- Gracefully accept constructive criticism\n",
    "- Focus on what is best for the community\n",
    "- Show courtesy and respect towards other community members\n",
    "\n",
    "If you believe someone is violating the Code of Conduct, please bring this to the attention of the teaching team for your workshop, or contact [SURGE@dal.ca](mailto:surge@dal.ca). If you have concerns about a member of the teaching team, please contact [SURGE@dal.ca](mailto:surge@dal.ca)."
   ]
  },
  {
   "cell_type": "markdown",
   "id": "fixed-seventh",
   "metadata": {},
   "source": [
    "## Requirements\n",
    "\n",
    "To participate in this workshop, you will need an internet-connected computer. We will use a cloud-based resource ([CoCalc](https://cocalc.com)) for all of the programming. This means that there is no software to install on your computer — all of your coding will be through a web browser. When you register for a workshop, you will receive instructions to create an account on CoCalc. Please do this *before* the start of the workshop to avoid delays. Then at the start of the workshop, attendees' CoCalc accounts will be upgraded to a paid version for the duration of the workshop. "
   ]
  },
  {
   "cell_type": "markdown",
   "id": "sonic-height",
   "metadata": {},
   "source": [
    "---\n",
    "\n",
    "## Origins of this Material\n",
    "\n",
    "This workshop is adapted by one created by the [Software Carpentry](http://swcarpentry.github.io/python-novice-gapminder/index.html) foundation. It uses freely-available open source data from [Gapminder](https://www.gapminder.org), an independent Swedish foundation whose mission is to \"fight devastating ignorance with a fact-based worldview everyone can understand.\" Gapminder is perhaps most famous for the TED talks given by its co-founder, the late Dr. Hans Rosling (the other founders were Ola Rosling and Anna Rosling Rönnlund). Dr. Rosling's TED talk, [*The best statistics you’ve ever seen*](https://www.ted.com/talks/hans_rosling_the_best_stats_you_ve_ever_seen?language=en), became one of the most watched TED talks ever (nearly 15m views as of Feb. 4, 2021). The Gapminder data we will be working with here are a subset of those used in Dr. Rosling's talk. Specifically, the data are gross domestic product (GDP) of countries from around the world, over a time period from 1952 – 2007. \n",
    "\n",
    "While we could introduce Python with virtually any data, the Gapminder data are relatively easy to understand without deep technical knowledge of a domain (GDP is a measure of a country's wealth, and the data reflect how this change over time), the data files are open source and so support open sharing and transparency in science, and Dr. Rosling's talks provide a colourful and interesting introduction to the data. We have adapted the Software Carpentry (SC) version of the workshop based on experience teaching it, and finding that some parts of the SC workshop were unclear, or assumed certain background knowledge (particularly mathematics) that was not universally held by our target audience, or that concepts in the SC workshop were presented in a sequence that was not intuitive to us. We have great respect for the SC organization and its aims, and indeed most members of the SURGE Discover Coding teaching team are SC-certified instructors. Adapting and customizing the workshop is in the spirit of the open source movement and open educational resources, which SURGE wholeheartedly supports."
   ]
  },
  {
   "cell_type": "markdown",
   "id": "senior-surprise",
   "metadata": {},
   "source": [
    "---\n",
    "Licensed under [CC-BY 4.0](https://creativecommons.org/licenses/by/4.0/) 2021 by [SURGE](https://github.com/surge-dalhousie)"
   ]
  }
 ],
 "metadata": {
  "kernelspec": {
   "display_name": "Python 3",
   "language": "python",
   "name": "python3"
  },
  "language_info": {
   "codemirror_mode": {
    "name": "ipython",
    "version": 3
   },
   "file_extension": ".py",
   "mimetype": "text/x-python",
   "name": "python",
   "nbconvert_exporter": "python",
   "pygments_lexer": "ipython3",
   "version": "3.8.5"
  }
 },
 "nbformat": 4,
 "nbformat_minor": 5
}
