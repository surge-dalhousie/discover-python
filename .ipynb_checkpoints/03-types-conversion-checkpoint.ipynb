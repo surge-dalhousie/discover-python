{
 "cells": [
  {
   "cell_type": "markdown",
   "id": "retired-johns",
   "metadata": {},
   "source": [
    "# Data Types and Conversion\n",
    "---"
   ]
  },
  {
   "cell_type": "markdown",
   "id": "hindu-handling",
   "metadata": {},
   "source": [
    "## Questions:\n",
    "- What kinds of data do programs store?\n",
    "- How can I convert one type to another?\n",
    "\n",
    "## Learning Objectives:\n",
    "- Explain key differences between integers and floating point numbers.\n",
    "- Explain key differences between numbers and character strings.\n",
    "- Use built-in functions to convert between integers, floating point numbers, and strings.\n",
    "\n",
    "---"
   ]
  },
  {
   "cell_type": "markdown",
   "id": "systematic-apartment",
   "metadata": {},
   "source": [
    "## Every value has a type\n",
    "\n",
    "*   Every value in a program has a specific type\n",
    "*   Integer (`int`): represents positive or negative whole numbers like 3 or -512\n",
    "*   Floating point number (`float`): represents real numbers like 3.14159 or -2.5\n",
    "*   Character (`char`): single characters, for example \"a\", \"j\", \"8\", \"(\"\n",
    "    * Characters are written in either single quotes or double quotes (as long as they match)\n",
    "    * Numerals placed in quotes will be treated as characters, not integers or floats\n",
    "*   Character string (usually called \"string\", `str`): text\n",
    "    *   Written in either single quotes or double quotes (as long as they match)\n",
    "    *   The quote marks aren't printed when the string is displayed"
   ]
  },
  {
   "cell_type": "markdown",
   "id": "german-mauritius",
   "metadata": {},
   "source": [
    "## Use the built-in function `type` to find the type of a value\n",
    "\n",
    "*   Use the built-in function `type` to find out what type a value has\n",
    "*   Works on variables as well\n",
    "    *   But remember: the *value* has the type; the *variable* is just a label\n",
    "\n",
    "~~~python\n",
    "print(type(52))\n",
    "~~~"
   ]
  },
  {
   "cell_type": "code",
   "execution_count": null,
   "id": "disturbed-saturday",
   "metadata": {},
   "outputs": [],
   "source": []
  },
  {
   "cell_type": "markdown",
   "id": "accepting-absence",
   "metadata": {},
   "source": [
    "~~~python\n",
    "fitness = 'average'\n",
    "print(type(fitness))\n",
    "~~~\n"
   ]
  },
  {
   "cell_type": "code",
   "execution_count": null,
   "id": "improved-advantage",
   "metadata": {},
   "outputs": [],
   "source": []
  },
  {
   "cell_type": "markdown",
   "id": "elect-syndication",
   "metadata": {},
   "source": [
    "## Types control what operations (or methods) can be performed on a given value\n",
    "\n",
    "*   A value's type determines what the program can do to it. So we can perform subtraction on integers:\n",
    "\n",
    "~~~python\n",
    "print(5 - 3)\n",
    "~~~"
   ]
  },
  {
   "cell_type": "code",
   "execution_count": null,
   "id": "prescription-folks",
   "metadata": {},
   "outputs": [],
   "source": []
  },
  {
   "cell_type": "markdown",
   "id": "delayed-knight",
   "metadata": {},
   "source": [
    "But not on strings or characters:\n",
    "~~~python\n",
    "print('hello' - 'h')\n",
    "~~~"
   ]
  },
  {
   "cell_type": "code",
   "execution_count": null,
   "id": "plain-adams",
   "metadata": {},
   "outputs": [],
   "source": []
  },
  {
   "cell_type": "markdown",
   "id": "gorgeous-mixture",
   "metadata": {},
   "source": [
    "## You *can* use the `+` and `*` operators on strings\n",
    "\n",
    "*   \"Adding\" character strings concatenates them; i.e., creates one long string by combinging the inputs in the order you specify\n",
    "\n",
    "~~~python\n",
    "full_name = 'Ahmed' + 'Walsh'\n",
    "print(full_name)\n",
    "~~~"
   ]
  },
  {
   "cell_type": "code",
   "execution_count": null,
   "id": "complicated-pleasure",
   "metadata": {},
   "outputs": [],
   "source": []
  },
  {
   "cell_type": "markdown",
   "id": "contained-yesterday",
   "metadata": {},
   "source": [
    "- To add spaces between strings that you concateate, you need to explicitly include whitespaces in quotes:\n",
    "\n",
    "~~~python\n",
    "full_name = 'Ahmed' + ' ' + 'Walsh'\n",
    "print(full_name)\n",
    "~~~"
   ]
  },
  {
   "cell_type": "code",
   "execution_count": null,
   "id": "unlikely-cooler",
   "metadata": {},
   "outputs": [],
   "source": []
  },
  {
   "cell_type": "markdown",
   "id": "comparable-brisbane",
   "metadata": {},
   "source": [
    "*   Multiplying a character string by an integer _N_ creates a new string that consists of that character string repeated  _N_ times. (Since multiplication is repeated addition)\n",
    "\n",
    "~~~python\n",
    "separator = '=' * 10\n",
    "print(separator)\n",
    "~~~\n"
   ]
  },
  {
   "cell_type": "code",
   "execution_count": null,
   "id": "completed-effectiveness",
   "metadata": {},
   "outputs": [],
   "source": []
  },
  {
   "cell_type": "markdown",
   "id": "atlantic-pricing",
   "metadata": {},
   "source": [
    "## Strings have a length (but numbers don't)\n",
    "\n",
    "*   The built-in function `len` counts the number of characters in a string.\n",
    "\n",
    "~~~python\n",
    "print(len(full_name))\n",
    "~~~"
   ]
  },
  {
   "cell_type": "code",
   "execution_count": null,
   "id": "contemporary-construction",
   "metadata": {},
   "outputs": [],
   "source": []
  },
  {
   "cell_type": "markdown",
   "id": "biological-environment",
   "metadata": {},
   "source": [
    "*   But numbers don't have a length (not even zero).\n",
    "\n",
    "~~~python\n",
    "print(len(52))\n",
    "~~~\n"
   ]
  },
  {
   "cell_type": "code",
   "execution_count": null,
   "id": "acquired-zealand",
   "metadata": {},
   "outputs": [],
   "source": []
  },
  {
   "cell_type": "markdown",
   "id": "sorted-denver",
   "metadata": {},
   "source": [
    "## Use an **index** to get a single character from a string.\n",
    "\n",
    "*   The characters (individual letters, numbers, and so on) in a string are\n",
    "    ordered. For example, the string `'AB'` is not the same as `'BA'`. Because of\n",
    "    this ordering, we can treat the string as a list of characters.\n",
    "*   Each position in the string (first, second, etc.) is given a number. This\n",
    "    number is called an **index** or sometimes a subscript.\n",
    "*   Indices are numbered from 0.\n",
    "*   Use the position's index in square brackets to get the character at that\n",
    "    position.\n",
    "    \n",
    "![an illustration of indexing](images/2_indexing.svg)\n",
    "\n",
    "~~~python\n",
    "atom_name = 'helium'\n",
    "print(atom_name[0])\n",
    "~~~"
   ]
  },
  {
   "cell_type": "code",
   "execution_count": null,
   "id": "green-julian",
   "metadata": {},
   "outputs": [],
   "source": []
  },
  {
   "cell_type": "markdown",
   "id": "dutch-stylus",
   "metadata": {},
   "source": [
    "## Use a **slice** to get a substring.\n",
    "\n",
    "*   A part of a string is called a **substring**. A substring can be as short as a\n",
    "    single character.\n",
    "*   An item in a list is called an element. Whenever we treat a string as if it\n",
    "    were a list, the string's elements are its individual characters.\n",
    "*   A slice is a part of a string (or, more generally, any list-like thing).\n",
    "*   We take a slice by using `[start:stop]`, where `start` is replaced with the\n",
    "    index of the first element we want and `stop` is replaced with the index of\n",
    "    the element just after the last element we want.\n",
    "*   Mathematically, you might say that a slice selects `[start:stop)`.\n",
    "*   The difference between `stop` and `start` is the slice's length.\n",
    "*   Taking a slice does not change the contents of the original string. Instead,\n",
    "    the slice is a copy of part of the original string.\n",
    "\n",
    "~~~python\n",
    "atom_name = 'sodium'\n",
    "print(atom_name[0:3])\n",
    "~~~\n",
    "\n"
   ]
  },
  {
   "cell_type": "code",
   "execution_count": null,
   "id": "different-latter",
   "metadata": {},
   "outputs": [],
   "source": []
  },
  {
   "cell_type": "markdown",
   "id": "radical-finish",
   "metadata": {},
   "source": [
    "## Use the built-in function `len` to find the length of a string.\n",
    "\n",
    "~~~python\n",
    "print(len('helium'))\n",
    "~~~\n",
    "\n"
   ]
  },
  {
   "cell_type": "code",
   "execution_count": null,
   "id": "humanitarian-jewelry",
   "metadata": {},
   "outputs": [],
   "source": []
  },
  {
   "cell_type": "markdown",
   "id": "golden-panic",
   "metadata": {},
   "source": [
    "*   Nested functions are evaluated from the inside out,\n",
    "     like in mathematics."
   ]
  },
  {
   "cell_type": "markdown",
   "id": "supreme-drain",
   "metadata": {},
   "source": [
    "## Slicing numbers?\n",
    "\n",
    "If you assign `a = 123`,\n",
    "what happens if you try to get the second digit of `a` via `a[1]`?"
   ]
  },
  {
   "cell_type": "code",
   "execution_count": null,
   "id": "prepared-disabled",
   "metadata": {},
   "outputs": [],
   "source": []
  },
  {
   "cell_type": "markdown",
   "id": "single-south",
   "metadata": {},
   "source": [
    "### Solution\n",
    "Numbers are not strings or sequences and Python will raise an error if you try to perform an index operation on a number. In the  lesson on types and type conversion we will learn more about types and how to convert between different types. If you want the Nth digit of a number you can convert it into a string using the `str` built-in function and then perform an index operation on that string."
   ]
  },
  {
   "cell_type": "markdown",
   "id": "raised-bullet",
   "metadata": {},
   "source": [
    "## Slicing practice\n",
    "\n",
    "What does the following program print?\n",
    "\n",
    "~~~python\n",
    "atom_name = 'carbon'\n",
    "print('atom_name[1:3] is:', atom_name[1:3])\n",
    "~~~"
   ]
  },
  {
   "cell_type": "code",
   "execution_count": null,
   "id": "celtic-bottom",
   "metadata": {},
   "outputs": [],
   "source": []
  },
  {
   "cell_type": "markdown",
   "id": "functioning-arbor",
   "metadata": {},
   "source": [
    "## Slicing concepts\n",
    "\n",
    "```python\n",
    "cell_name = 'neuron'\n",
    "```\n",
    "\n",
    "1.  What does `cell_name[1:5]` do?\n",
    "1.  What does `cell_name[0:5]` do?\n",
    "1.  What does `cell_name[0:6]` do?\n",
    "2.  What does `cell_name[0:]` (without a value after the colon) do?\n",
    "3.  What does `cell_name[:5]` (without a value before the colon) do?\n",
    "4.  What does `cell_name[:]` (just a colon) do?\n",
    "5.  What does `cell_name[1:-1]` do?\n",
    "6.  What happens when you choose a `high` value which is out of range? (i.e., try `cell_name[1:15]`) "
   ]
  },
  {
   "cell_type": "code",
   "execution_count": null,
   "id": "supreme-battlefield",
   "metadata": {},
   "outputs": [],
   "source": []
  },
  {
   "cell_type": "markdown",
   "id": "viral-image",
   "metadata": {},
   "source": [
    "## You must convert numbers to strings or vice versa when operating on them\n",
    "\n",
    "*   Cannot add numbers and strings.\n",
    "\n",
    "~~~python\n",
    "print(1 + '2')\n",
    "~~~"
   ]
  },
  {
   "cell_type": "code",
   "execution_count": null,
   "id": "western-corrections",
   "metadata": {},
   "outputs": [],
   "source": []
  },
  {
   "cell_type": "markdown",
   "id": "cutting-disaster",
   "metadata": {},
   "source": [
    "*   Not allowed because it's ambiguous: should `1 + '2'` be `3` or `'12'`?\n",
    "*   Some types can be converted to other types by using the type name as a function:\n",
    "\n",
    "~~~python\n",
    "print(1 + int('2'))\n",
    "~~~"
   ]
  },
  {
   "cell_type": "code",
   "execution_count": null,
   "id": "damaged-museum",
   "metadata": {},
   "outputs": [],
   "source": []
  },
  {
   "cell_type": "markdown",
   "id": "owned-greene",
   "metadata": {},
   "source": [
    "~~~python\n",
    "print(str(1) + '2')\n",
    "~~~"
   ]
  },
  {
   "cell_type": "code",
   "execution_count": null,
   "id": "efficient-tournament",
   "metadata": {},
   "outputs": [],
   "source": []
  },
  {
   "cell_type": "markdown",
   "id": "young-birth",
   "metadata": {},
   "source": [
    "## You can mix integers and floats freely in operations\n",
    "\n",
    "*   Integers and floating-point numbers can be mixed in arithmetic.\n",
    "    * Python 3 automatically converts integers to floats as needed. \n",
    "    * (Integer division in Python 2 will return an integer, the *floor* of the division.)\n",
    "\n",
    "~~~python\n",
    "print('half is', 1 / 2.0)\n",
    "print('three squared is', 3.0 ** 2)\n",
    "~~~"
   ]
  },
  {
   "cell_type": "code",
   "execution_count": null,
   "id": "brave-return",
   "metadata": {},
   "outputs": [],
   "source": []
  },
  {
   "cell_type": "markdown",
   "id": "prompt-escape",
   "metadata": {},
   "source": [
    "---\n",
    "# Exercises\n",
    "\n",
    "## Fractions\n",
    "\n",
    "What type of value is 3.4?\n",
    "How can you find out?"
   ]
  },
  {
   "cell_type": "code",
   "execution_count": 4,
   "id": "resident-protection",
   "metadata": {},
   "outputs": [
    {
     "name": "stdout",
     "output_type": "stream",
     "text": [
      "<class 'float'>\n"
     ]
    }
   ],
   "source": [
    "### BEGIN SOLUTION\n",
    "print(type(3.4))\n",
    "### END SOLUTION"
   ]
  },
  {
   "cell_type": "markdown",
   "id": "viral-arrival",
   "metadata": {},
   "source": [
    "## Automatic Type Conversion\n",
    "\n",
    "What type of value is 3.25 + 4?\n"
   ]
  },
  {
   "cell_type": "code",
   "execution_count": 5,
   "id": "congressional-marijuana",
   "metadata": {},
   "outputs": [
    {
     "name": "stdout",
     "output_type": "stream",
     "text": [
      "7.25 is <class 'float'>\n"
     ]
    }
   ],
   "source": [
    "### BEGIN SOLUTION\n",
    "result = 3.25 + 4\n",
    "print(result, 'is', type(result))\n",
    "### END SOLUTION"
   ]
  },
  {
   "cell_type": "markdown",
   "id": "every-stephen",
   "metadata": {},
   "source": [
    "## Choose a Type\n",
    "\n",
    "What type of value (integer, floating point number, or character string)\n",
    "would you use to represent each of the following?  Try to come up with more than one good answer for each problem.  For example, in (1), when would counting days with a floating point variable make more sense than using an integer?  \n",
    "\n",
    "1. Number of days since the start of the year.\n",
    "2. Time elapsed from the start of the year until now in days.\n",
    "3. Serial number of a piece of lab equipment.\n",
    "4. A lab specimen's age\n",
    "5. Current population of a city.\n",
    "6. Average population of a city over time."
   ]
  },
  {
   "cell_type": "markdown",
   "id": "personalized-barrel",
   "metadata": {},
   "source": [
    "## Solution\n",
    "\n",
    "The answers to the questions are:\n",
    "1. Integer, since the number of days would lie between 1 and 365. Float would make sense if you were considering partial days (e.g., if it's noon then today would count as 0.5)\n",
    "2. Floating point, since fractional days are required\n",
    "3. Character string if serial number contains letters and numbers, otherwise integer if the serial number consists only of numerals\n",
    "4. This will vary! How do you define a specimen's age? whole days since collection (integer)? date and time (string)?\n",
    "5. Choose integer to represent population in units of individuals, or floating point to represent population as large aggregates (eg millions)\n",
    "6. Floating point number, since an average is likely to have a fractional part.\n"
   ]
  },
  {
   "cell_type": "markdown",
   "id": "monthly-stuart",
   "metadata": {},
   "source": [
    "## Division Types\n",
    "\n",
    "In Python 3, the `//` operator performs integer (whole-number) floor division, the `/` operator performs floating-point\n",
    "division, and the '%' (or *modulo*) operator calculates and returns the remainder from integer division:\n",
    "\n",
    "~~~python\n",
    "print('5 // 3:', 5//3)\n",
    "~~~"
   ]
  },
  {
   "cell_type": "code",
   "execution_count": null,
   "id": "convinced-bobby",
   "metadata": {},
   "outputs": [],
   "source": []
  },
  {
   "cell_type": "markdown",
   "id": "understood-companion",
   "metadata": {},
   "source": [
    "~~~python\n",
    "print('5 / 3:', 5/3)\n",
    "~~~"
   ]
  },
  {
   "cell_type": "code",
   "execution_count": null,
   "id": "preliminary-toddler",
   "metadata": {},
   "outputs": [],
   "source": []
  },
  {
   "cell_type": "markdown",
   "id": "offshore-soldier",
   "metadata": {},
   "source": [
    "~~~python\n",
    "print('5 % 3:', 5%3)\n",
    "~~~"
   ]
  },
  {
   "cell_type": "code",
   "execution_count": null,
   "id": "neural-native",
   "metadata": {},
   "outputs": [],
   "source": []
  },
  {
   "cell_type": "markdown",
   "id": "marked-horror",
   "metadata": {},
   "source": [
    "However in Python2 (and other languages), the `/` operator between two integer types perform a floor (`//`) division. To perform a float division, we have to convert one of the integers to float.\n",
    "\n",
    "~~~python\n",
    "print('5 // 3:', 1)\n",
    "~~~"
   ]
  },
  {
   "cell_type": "code",
   "execution_count": null,
   "id": "hidden-petroleum",
   "metadata": {},
   "outputs": [],
   "source": []
  },
  {
   "cell_type": "markdown",
   "id": "manual-county",
   "metadata": {},
   "source": [
    "~~~python\n",
    "print('5 / 3:', 1 )\n",
    "~~~"
   ]
  },
  {
   "cell_type": "code",
   "execution_count": null,
   "id": "wrong-absolute",
   "metadata": {},
   "outputs": [],
   "source": []
  },
  {
   "cell_type": "markdown",
   "id": "wrapped-hunter",
   "metadata": {},
   "source": [
    "~~~python\n",
    "print('5 / float(3):', 1.6666667 )\n",
    "~~~"
   ]
  },
  {
   "cell_type": "code",
   "execution_count": null,
   "id": "eleven-brisbane",
   "metadata": {},
   "outputs": [],
   "source": []
  },
  {
   "cell_type": "markdown",
   "id": "higher-reflection",
   "metadata": {},
   "source": [
    "~~~python\n",
    "print('float(5) / 3:', 1.6666667 )\n",
    "~~~"
   ]
  },
  {
   "cell_type": "code",
   "execution_count": null,
   "id": "realistic-reset",
   "metadata": {},
   "outputs": [],
   "source": []
  },
  {
   "cell_type": "markdown",
   "id": "private-breath",
   "metadata": {},
   "source": [
    "~~~python\n",
    "print('float(5 / 3):', 1.0 )\n",
    "~~~"
   ]
  },
  {
   "cell_type": "code",
   "execution_count": null,
   "id": "moral-charity",
   "metadata": {},
   "outputs": [],
   "source": []
  },
  {
   "cell_type": "markdown",
   "id": "psychological-diagram",
   "metadata": {},
   "source": [
    "~~~python\n",
    "print('5 % 3:', 2)\n",
    "~~~"
   ]
  },
  {
   "cell_type": "code",
   "execution_count": null,
   "id": "controlling-formation",
   "metadata": {},
   "outputs": [],
   "source": []
  },
  {
   "cell_type": "markdown",
   "id": "communist-projector",
   "metadata": {},
   "source": [
    "## Division Challenge\n",
    "\n",
    "If `num_subjects` is the number of subjects taking part in a study, and `num_per_survey` is the number that can take part in a single survey, write an expression that calculates the number of surveys needed to reach everyone once, and assign the result to `num_surveys`:"
   ]
  },
  {
   "cell_type": "code",
   "execution_count": 7,
   "id": "close-witness",
   "metadata": {},
   "outputs": [
    {
     "name": "stdout",
     "output_type": "stream",
     "text": [
      "600 subjects, 42 per survey: 15\n"
     ]
    }
   ],
   "source": [
    "num_subjects = 600\n",
    "num_per_survey = 42\n",
    "\n",
    "### BEGIN SOLUTION\n",
    "num_surveys = (num_subjects - 1) // num_per_survey + 1\n",
    "### END SOLUTION\n",
    "\n",
    "print(num_subjects, 'subjects,', num_per_survey, 'per survey:', num_surveys)"
   ]
  },
  {
   "cell_type": "markdown",
   "id": "julian-system",
   "metadata": {},
   "source": [
    "## Solution\n",
    "We want the minimum number of surveys that reaches everyone once, which is\n",
    "the rounded up value of `num_subjects/ num_per_survey`. This is \n",
    "equivalent to performing a floor division with `//` and adding 1. Before\n",
    "the division we need to subtract 1 from the number of subjects to deal with \n",
    "the case where `num_subjects` is evenly divisible by `num_per_survey`.\n",
    "~~~python\n",
    "num_subjects = 600\n",
    "num_per_survey = 42\n",
    "num_surveys = (num_subjects - 1) // num_per_survey + 1\n",
    "\n",
    "print(num_subjects, 'subjects,', num_per_survey, 'per survey:', num_surveys)\n",
    "~~~\n"
   ]
  },
  {
   "cell_type": "markdown",
   "id": "tribal-silence",
   "metadata": {},
   "source": [
    "## Strings to Numbers\n",
    "\n",
    "Where reasonable, `float()` will convert a string to a floating point number,\n",
    "and `int()` will convert a floating point number to an integer:\n",
    "\n",
    "~~~python\n",
    "print(\"string to float:\", float(\"3.4\"))\n",
    "print(\"float to int:\", int(3.4))\n",
    "~~~"
   ]
  },
  {
   "cell_type": "code",
   "execution_count": null,
   "id": "corporate-moore",
   "metadata": {},
   "outputs": [],
   "source": []
  },
  {
   "cell_type": "markdown",
   "id": "sealed-royalty",
   "metadata": {},
   "source": [
    "If the conversion doesn't make sense, however, an error message will occur\n",
    "\n",
    "~~~python\n",
    "print(\"string to float:\", float(\"Hello world!\"))\n",
    "~~~"
   ]
  },
  {
   "cell_type": "code",
   "execution_count": null,
   "id": "electric-nurse",
   "metadata": {},
   "outputs": [],
   "source": []
  },
  {
   "cell_type": "markdown",
   "id": "postal-homework",
   "metadata": {},
   "source": [
    "Given this information, what do you expect the following program to do?\n",
    "\n",
    "~~~python\n",
    "print(\"fractional string to int:\", int(\"3.4\"))\n",
    "~~~\n",
    "\n",
    "- What does it actually do?\n",
    "\n",
    "- Why do you think it does that?"
   ]
  },
  {
   "cell_type": "code",
   "execution_count": null,
   "id": "hollywood-approach",
   "metadata": {},
   "outputs": [],
   "source": []
  },
  {
   "cell_type": "markdown",
   "id": "controlled-matrix",
   "metadata": {},
   "source": [
    "## Solution\n",
    "What do you expect this program to do? It would not be so unreasonable to expect the Python 3 `int` command to\n",
    "convert the string \"3.4\" to 3.4 and an additional type conversion to 3. After all, Python 3 performs a lot of other magic - isn't that part of its charm?\n",
    "\n",
    "However, Python 3 throws an error. Why? To be consistent, possibly. If you ask Python to perform two consecutive\n",
    "typecasts, you must convert it explicitly in code.\n",
    "\n",
    "~~~python\n",
    "int(\"3.4\")\n",
    "int(float(\"3.4\"))\n",
    "~~~"
   ]
  },
  {
   "cell_type": "code",
   "execution_count": null,
   "id": "gothic-portland",
   "metadata": {},
   "outputs": [],
   "source": []
  },
  {
   "cell_type": "markdown",
   "id": "smart-hybrid",
   "metadata": {},
   "source": [
    "## Arithmetic with Different Types\n",
    "\n",
    "Given these variable definitions:\n",
    "~~~python\n",
    "first = 1.0\n",
    "second = \"1\"\n",
    "third = \"1.1\"\n",
    "~~~\n",
    "\n",
    "Which of the following will return the floating point number `2.0`?\n",
    "Note: there may be more than one right answer.\n",
    "\n"
   ]
  },
  {
   "cell_type": "markdown",
   "id": "economic-athletics",
   "metadata": {},
   "source": [
    "1. `first + float(second)`\n",
    "2. `float(second) + float(third)`\n",
    "3. `first + int(third)`\n",
    "4. `first + int(float(third))`\n",
    "5. `int(first) + int(float(third))`\n",
    "6. `2.0 * second`"
   ]
  },
  {
   "cell_type": "code",
   "execution_count": null,
   "id": "uniform-neighborhood",
   "metadata": {},
   "outputs": [],
   "source": []
  },
  {
   "cell_type": "markdown",
   "id": "saved-chance",
   "metadata": {},
   "source": [
    "## Complex Numbers\n",
    "\n",
    " Complex numbers are common in physics and other fields, and are composed of a \"real\" part and an \"imaginary\" part. Python provides complex numbers, which are written as `1.0 + 2.0j`, with the real part before the `+` and the imaginary part after the plus, with the suffix `j`.\n",
    " \n",
    "If `val` is a complex number, its real and imaginary parts can be accessed using *dot notation* as `val.real` and `val.imag`.\n",
    "\n",
    "~~~python\n",
    "complex = 6 + 2j\n",
    "print(complex.real)\n",
    "print(complex.imag)\n",
    "~~~"
   ]
  },
  {
   "cell_type": "code",
   "execution_count": null,
   "id": "split-constant",
   "metadata": {},
   "outputs": [],
   "source": []
  },
  {
   "cell_type": "markdown",
   "id": "spiritual-addition",
   "metadata": {},
   "source": [
    "### Thought questions\n",
    "\n",
    "If you're new to imaginary numbers, you can skip this one!\n",
    "\n",
    "1.  Why do you think Python uses `j` instead of `i` for the imaginary part?\n",
    "2.  What do you expect `1+2j + 3` to produce?\n",
    "3.  What do you expect `4j` to be?  What about `4 j` or `4 + j`?"
   ]
  },
  {
   "cell_type": "code",
   "execution_count": null,
   "id": "cardiac-publication",
   "metadata": {},
   "outputs": [],
   "source": []
  },
  {
   "cell_type": "markdown",
   "id": "extensive-belarus",
   "metadata": {},
   "source": [
    "## Solution\n",
    "\n",
    "1. Standard mathematics treatments typically use `i` to denote an imaginary number. However, from media reports it\n",
    "was an early convention established from electrical engineering that now presents a technically expensive area to\n",
    "change. [Stack Overflow provides additional explanation and\n",
    "discussion.](http://stackoverflow.com/questions/24812444/why-are-complex-numbers-in-python-denoted-with-j-instead-of-i)\n",
    "2. `(4+2j)`\n",
    "3. `4j`, `Syntax Error: invalid syntax`, in this case _j_ is considered a variable and this depends on if _j_ is defined and if so, its assigned value"
   ]
  },
  {
   "cell_type": "markdown",
   "id": "crazy-hazard",
   "metadata": {},
   "source": [
    "---\n",
    "## Summary of Key Points:\n",
    "- Every value has a type\n",
    "- Use the built-in function `type` to find the type of a value\n",
    "- Types control what operations can be done on values\n",
    "- Strings can be added and multiplied\n",
    "- Strings have a length (but numbers don't)\n",
    "- Use an index to get a single character from a string\n",
    "- Use a slice to get a substring\n",
    "- Use the built-in function `len` to find the length of a string\n",
    "- Must convert numbers to strings or vice versa when operating on them\n",
    "- Can mix integers and floats freely in operations"
   ]
  },
  {
   "cell_type": "markdown",
   "id": "imposed-audio",
   "metadata": {},
   "source": [
    "---\n",
    "This lesson is adapted from the [Software Carpentry](https://software-carpentry.org/lessons/) [Plotting and Programming in Python](http://swcarpentry.github.io/python-novice-gapminder/) workshop. \n",
    "\n",
    "Licensed under [CC-BY 4.0](https://creativecommons.org/licenses/by/4.0/) 2021 by Aaron J Newman"
   ]
  }
 ],
 "metadata": {
  "kernelspec": {
   "display_name": "Python 3",
   "language": "python",
   "name": "python3"
  },
  "language_info": {
   "codemirror_mode": {
    "name": "ipython",
    "version": 3
   },
   "file_extension": ".py",
   "mimetype": "text/x-python",
   "name": "python",
   "nbconvert_exporter": "python",
   "pygments_lexer": "ipython3",
   "version": "3.8.5"
  }
 },
 "nbformat": 4,
 "nbformat_minor": 5
}
