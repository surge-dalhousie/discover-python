{
 "cells": [
  {
   "cell_type": "markdown",
   "id": "tired-pricing",
   "metadata": {},
   "source": [
    "# Variables and Assignment\n",
    "---\n",
    "## Questions\n",
    "- How can I store data in programs?\n",
    "\n",
    "## Learning Objectives\n",
    "- Write programs that assign values to variables and perform calculations with those values.\n",
    "- Correctly trace value changes in programs that use scalar assignment.\n",
    "\n",
    "---"
   ]
  },
  {
   "cell_type": "markdown",
   "id": "interpreted-nickname",
   "metadata": {},
   "source": [
    "## Use variables to store values.\n",
    "\n",
    "*   **Variables** are names for values.\n",
    "*   In Python the `=` symbol **assigns** the value on the right to the name on the left.\n",
    "*   The variable is created when a value is assigned to it.\n",
    "*   Here, Python assigns an age to a variable `age`\n",
    "    and a name in quotes to a variable `first_name`.\n",
    "\n",
    "```python\n",
    "    age = 42\n",
    "    first_name = 'Ahmed'\n",
    "```\n",
    "\n",
    "*   Variable names\n",
    "    * can **only** contain letters, digits, and underscore `_` (typically used to separate words in long variable names)\n",
    "    * cannot start with a digit\n",
    "    * are **case sensitive** (age, Age and AGE are three different variables)\n",
    "*   Variable names that start with underscores like `__aarons_real_age` have a special meaning\n",
    "    so we won't do that until we understand the convention.\n",
    "\n"
   ]
  },
  {
   "cell_type": "code",
   "execution_count": null,
   "id": "removable-shelf",
   "metadata": {},
   "outputs": [],
   "source": []
  },
  {
   "cell_type": "markdown",
   "id": "decent-ghana",
   "metadata": {},
   "source": [
    "## Use `print` to display values.\n",
    "\n",
    "*   Python has a built-in function called `print` that prints things as text.\n",
    "*   Call the function (i.e., tell Python to run it) by using its name.\n",
    "*   Provide values to the function (i.e., the things to print) in parentheses.\n",
    "*   To add a string to the printout, wrap the string in single or double quotes.\n",
    "*   The values passed to the function are called **arguments**\n",
    "\n",
    "```python\n",
    "print(first_name, 'is', age, 'years old')\n",
    "```\n",
    "\n",
    "*   `print` automatically puts a single space between items to separate them.\n",
    "*   And wraps around to a new line at the end.\n",
    "\n"
   ]
  },
  {
   "cell_type": "code",
   "execution_count": null,
   "id": "changed-proceeding",
   "metadata": {},
   "outputs": [],
   "source": []
  },
  {
   "cell_type": "markdown",
   "id": "acquired-disco",
   "metadata": {},
   "source": [
    "## Variables must be created before they are used.\n",
    "\n",
    "*   If a variable doesn't exist yet, or if the name has been mis-spelled,\n",
    "    Python reports an error. (Unlike some languages, which \"guess\" a default value.)\n",
    "\n",
    "```python\n",
    "print(last_name)\n",
    "```"
   ]
  },
  {
   "cell_type": "code",
   "execution_count": null,
   "id": "entitled-particle",
   "metadata": {},
   "outputs": [],
   "source": []
  },
  {
   "cell_type": "markdown",
   "id": "certain-conducting",
   "metadata": {},
   "source": [
    "*   The last line of an error message is usually the most informative.\n",
    "*   We will look at error messages in detail later.\n",
    "\n",
    "## Variables persist between cells\n",
    "\n",
    "Be aware that it is the *order of execution* of cells that is important in a Jupyter notebook, not the order in which they appear. Python will remember *all* the code that was run previously, including any variables you have defined, irrespective of the order in the notebook. Therefore if you define variables lower down the notebook and then (re)run cells further up, those defined further down will still be present. As an example, create two cells with the following content, in this order:\n",
    "\n",
    "```python\n",
    "print(myval)\n",
    "myval = 1\n",
    "```"
   ]
  },
  {
   "cell_type": "code",
   "execution_count": null,
   "id": "drawn-dominican",
   "metadata": {},
   "outputs": [],
   "source": []
  },
  {
   "cell_type": "code",
   "execution_count": null,
   "id": "processed-jewel",
   "metadata": {},
   "outputs": [],
   "source": []
  },
  {
   "cell_type": "markdown",
   "id": "homeless-happening",
   "metadata": {},
   "source": [
    "If you execute this in order, the first cell will give an error. However, if you run the first cell *after* the second cell it will print out `1`. \n",
    "\n",
    "To prevent confusion, it can be helpful to use the `Kernel` -`Restart & Run All` menu option which clears the interpreter and runs everything from a clean slate going top to bottom."
   ]
  },
  {
   "cell_type": "markdown",
   "id": "positive-viewer",
   "metadata": {},
   "source": [
    "## Variables can be used in calculations.\n",
    "\n",
    "*   We can use variables in calculations just as if they were values.\n",
    "    *   Remember, we assigned the value `42` to `age` a few lines ago.\n",
    "\n",
    "```python\n",
    "age = age + 3\n",
    "print('Age in three years:', age)\n",
    "```"
   ]
  },
  {
   "cell_type": "code",
   "execution_count": null,
   "id": "qualified-commercial",
   "metadata": {},
   "outputs": [],
   "source": []
  },
  {
   "cell_type": "markdown",
   "id": "stopped-compact",
   "metadata": {},
   "source": [
    "## Python is case-sensitive.\n",
    "\n",
    "*   Python thinks that upper- and lower-case letters are different,\n",
    "    so `Name` and `name` are different variables.\n",
    "*   There are conventions for using upper-case letters at the start of variable names— they should only be used in specific circumstances in Python —  so **it is good practice to only use lower-case letters for variable names**\n"
   ]
  },
  {
   "cell_type": "markdown",
   "id": "economic-accident",
   "metadata": {},
   "source": [
    "## Use meaningful variable names.\n",
    "\n",
    "*   Python doesn't care what you call variables as long as they obey the rules\n",
    "    (alphanumeric characters and the underscore).\n",
    "\n",
    "~~~python\n",
    "flabadab = 42\n",
    "ewr_422_yY = 'Ahmed'\n",
    "print(ewr_422_yY, 'is', flabadab, 'years old')\n",
    "~~~"
   ]
  },
  {
   "cell_type": "code",
   "execution_count": null,
   "id": "occasional-machinery",
   "metadata": {},
   "outputs": [],
   "source": []
  },
  {
   "cell_type": "markdown",
   "id": "thrown-negotiation",
   "metadata": {},
   "source": [
    "*   However, if you use meaningful variable names, you help other people (and your future self!) understand what the program does"
   ]
  },
  {
   "cell_type": "markdown",
   "id": "sealed-shopping",
   "metadata": {},
   "source": [
    "---\n",
    "# Exercises\n",
    "\n",
    "Exercises in this workshop are tasks that we encourage you to work on , on your own. We'll give you some time to work on them and then check in and discuss.\n",
    "\n",
    "## What's in a name?\n",
    "\n",
    "Which is a better variable name, m, min, or minutes? Why? Hint: think about which code you would rather inherit from someone who is leaving the lab:\n",
    "```python\n",
    "ts = m * 60 + s\n",
    "tot_sec = min * 60 + sec\n",
    "total_seconds = minutes * 60 + seconds\n",
    "```"
   ]
  },
  {
   "cell_type": "markdown",
   "id": "pursuant-draft",
   "metadata": {},
   "source": [
    "## Variables only change value when something is assigned to them\n",
    "\n",
    "*   If we make one cell in a spreadsheet depend on another, and update the latter, the former updates automatically\n",
    "*   This does **not** happen in programming languages\n",
    "\n",
    "~~~python\n",
    "first = 1\n",
    "second = 5 * first\n",
    "first = 2\n",
    "print('first is', first, 'and second is', second)\n",
    "~~~"
   ]
  },
  {
   "cell_type": "code",
   "execution_count": null,
   "id": "pressing-endorsement",
   "metadata": {},
   "outputs": [],
   "source": []
  },
  {
   "cell_type": "markdown",
   "id": "enabling-philosophy",
   "metadata": {},
   "source": [
    "*   The computer reads the value of `first` when doing the multiplication,\n",
    "    creates a new value, and assigns it to `second`.\n",
    "*   After that, `second` does not remember where it came from."
   ]
  },
  {
   "cell_type": "markdown",
   "id": "rational-durham",
   "metadata": {},
   "source": [
    "## Swapping Values\n",
    "\n",
    "Try to follow what happens in the following sequence of commands. Guess what the final values of `x` and `y` will be, then run the code yourself to check your guess.\n",
    "\n",
    "~~~python\n",
    "x = 1.0   \n",
    "y = 3.0    \n",
    "swap = x  \n",
    "x = y      \n",
    "y = swap \n",
    "~~~"
   ]
  },
  {
   "cell_type": "code",
   "execution_count": null,
   "id": "entitled-extent",
   "metadata": {},
   "outputs": [],
   "source": []
  },
  {
   "cell_type": "markdown",
   "id": "pacific-reverse",
   "metadata": {},
   "source": [
    "These three lines exchange the values in `x` and `y` using the `swap`\n",
    "variable for temporary storage. This is a fairly common programming idiom.\n"
   ]
  },
  {
   "cell_type": "markdown",
   "id": "formed-composition",
   "metadata": {},
   "source": [
    "---\n",
    "## Key Points Summary:\n",
    "- Use variables to store values\n",
    "- Use `print` to display values\n",
    "- Variables persist between cells\n",
    "- Variables must be created before they are used\n",
    "- Variables can be used in calculations\n",
    "- Python is case-sensitive\n",
    "- Variables only change value when something is assigned to them\n",
    "- Use meaningful variable names"
   ]
  },
  {
   "cell_type": "markdown",
   "id": "willing-enterprise",
   "metadata": {},
   "source": [
    "---\n",
    "This lesson is adapted from the [Software Carpentry](https://software-carpentry.org/lessons/) [Plotting and Programming in Python](http://swcarpentry.github.io/python-novice-gapminder/) workshop. \n",
    "\n",
    "Licensed under [CC-BY 4.0](https://creativecommons.org/licenses/by/4.0/) 2021 by [SURGE](https://github.com/surge-dalhousie)"
   ]
  }
 ],
 "metadata": {
  "kernelspec": {
   "display_name": "Python 3",
   "language": "python",
   "name": "python3"
  },
  "language_info": {
   "codemirror_mode": {
    "name": "ipython",
    "version": 3
   },
   "file_extension": ".py",
   "mimetype": "text/x-python",
   "name": "python",
   "nbconvert_exporter": "python",
   "pygments_lexer": "ipython3",
   "version": "3.8.5"
  }
 },
 "nbformat": 4,
 "nbformat_minor": 5
}
