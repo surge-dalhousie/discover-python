{
 "cells": [
  {
   "cell_type": "markdown",
   "id": "utility-service",
   "metadata": {},
   "source": [
    "# Next Steps"
   ]
  },
  {
   "cell_type": "markdown",
   "id": "changing-administration",
   "metadata": {},
   "source": [
    "Congratulations! You have made it through the SURGE Discover Python workshop! While you still have much to learn, hopefully this workshop has provided you with a foundation in programming with Python, and understanding how to work with data in Python. Coding is a *process* more than it is a knowledge base. This means to get better at coding and data science, you need to practice it, and engage in the \"doing\". Reading and watching videos on Python and data science can be very informative, but ultimately these need to be complemented with actual practice for your skills and understanding to improve. \n",
    "\n",
    "To that end, we have a few suggestions for practice, as well as options for using Python outside of the CoCalc platform."
   ]
  },
  {
   "cell_type": "markdown",
   "id": "adult-formula",
   "metadata": {},
   "source": [
    "## Installing Python on your own computer"
   ]
  },
  {
   "cell_type": "markdown",
   "id": "covered-vegetable",
   "metadata": {},
   "source": [
    "## Resources for learning data science"
   ]
  },
  {
   "cell_type": "markdown",
   "id": "realistic-jaguar",
   "metadata": {},
   "source": [
    "## Resources for general Python practice"
   ]
  },
  {
   "cell_type": "code",
   "execution_count": null,
   "id": "lyric-mentor",
   "metadata": {},
   "outputs": [],
   "source": []
  },
  {
   "cell_type": "markdown",
   "id": "lightweight-gather",
   "metadata": {},
   "source": [
    "---\n",
    "This lesson is adapted from the [Software Carpentry](https://software-carpentry.org/lessons/) [Plotting and Programming in Python](http://swcarpentry.github.io/python-novice-gapminder/) workshop. \n",
    "\n",
    "Licensed under [CC-BY 4.0](https://creativecommons.org/licenses/by/4.0/) 2021 by [SURGE](https://github.com/surge-dalhousie)"
   ]
  }
 ],
 "metadata": {
  "kernelspec": {
   "display_name": "Python 3",
   "language": "python",
   "name": "python3"
  },
  "language_info": {
   "codemirror_mode": {
    "name": "ipython",
    "version": 3
   },
   "file_extension": ".py",
   "mimetype": "text/x-python",
   "name": "python",
   "nbconvert_exporter": "python",
   "pygments_lexer": "ipython3",
   "version": "3.8.5"
  }
 },
 "nbformat": 4,
 "nbformat_minor": 5
}
