{
 "cells": [
  {
   "cell_type": "markdown",
   "id": "sensitive-wagner",
   "metadata": {},
   "source": [
    "# Programming Style\n"
   ]
  },
  {
   "cell_type": "markdown",
   "id": "considerable-hometown",
   "metadata": {},
   "source": [
    "[Python Enhancement Project (PEP) 8](https://www.python.org/dev/peps/pep-0008/) is the Style Guide for Python Code"
   ]
  },
  {
   "cell_type": "markdown",
   "id": "boring-professional",
   "metadata": {},
   "source": [
    "---\n",
    "This lesson is adapted from the [Software Carpentry](https://software-carpentry.org/lessons/) [Plotting and Programming in Python](http://swcarpentry.github.io/python-novice-gapminder/) workshop. \n",
    "\n",
    "Licensed under [CC-BY 4.0](https://creativecommons.org/licenses/by/4.0/) 2021 by [SURGE](https://github.com/surge-dalhousie)"
   ]
  }
 ],
 "metadata": {
  "kernelspec": {
   "display_name": "Python 3",
   "language": "python",
   "name": "python3"
  },
  "language_info": {
   "codemirror_mode": {
    "name": "ipython",
    "version": 3
   },
   "file_extension": ".py",
   "mimetype": "text/x-python",
   "name": "python",
   "nbconvert_exporter": "python",
   "pygments_lexer": "ipython3",
   "version": "3.8.5"
  }
 },
 "nbformat": 4,
 "nbformat_minor": 5
}
