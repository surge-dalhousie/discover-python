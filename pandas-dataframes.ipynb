{
 "cells": [
  {
   "cell_type": "markdown",
   "id": "plastic-acrylic",
   "metadata": {},
   "source": [
    "<img src=\"https://pandas.pydata.org/static/img/pandas.svg\" width=200px>\n",
    "\n",
    "# pandas DataFrames\n",
    "---"
   ]
  },
  {
   "cell_type": "markdown",
   "id": "offshore-diamond",
   "metadata": {},
   "source": [
    "## Questions:\n",
    "- How do I read in data from a file?\n",
    "- How can I work with data in tabular format (tables)?\n",
    "- How can I do basic descriptive statistics on tabular data?\n",
    "\n",
    "## Learning Objectives:\n",
    "- Select individual values from a Pandas dataframe\n",
    "- Select entire rows or entire columns from a dataframe\n",
    "- Select a subset of both rows and columns from a dataframe in a single operation\n",
    "- Select a subset of a dataframe by a single Boolean criterion\n",
    "- Obtain descriptive statistics for subsets of data within a table\n",
    "- Use the split-apply-combine paradigm to work with data\n",
    "---"
   ]
  },
  {
   "cell_type": "markdown",
   "id": "studied-jesus",
   "metadata": {},
   "source": [
    "## What is pandas?\n",
    "\n",
    "Bad news first: there are no cute, black-and-white bears here. pandas (whose official name starts with a lower-case \"p\") is a Python *library* for working with data in a tabular format, such as is found in file formats like CSV, Microsoft Excel, and Google Sheets. Unlike Excel or Sheets, pandas is not a point-and click graphical interface for working with these files — everything is done through Python code. But compared to other formats for working with data that we have seen in this workshop, such as lists and dictionaries, pandas may seem more familiar, and it definitely lends itself more naturally to large data sets. Indeed, pandas' mission statement is, \"...to be the fundamental high-level building block for doing practical, real world data analysis in Python\". \n",
    "\n",
    "The primary units of pandas data storage you will work with are [DataFrames](https://pandas.pydata.org/pandas-docs/stable/getting_started/intro_tutorials/01_table_oriented.html#min-tut-01-tableoriented) (essentially, tables of data organized as rows and columns). DataFrames are actually collections of pandas *Series* objects, which can be thought of as individual rows or columns (or vectors, or 1D arrays). \n",
    "\n",
    "AMong the things that make pandas so attractive are the powerful interface to access individual records of the table, proper handling of missing values, and relational-databases operations between DataFrames.\n",
    "\n",
    "Pandas is built on top of the [Numpy][numpy] library. Although we haven't discussed NumPy in this workshop, it is a powerful and widely used Python library for working with numerical data. However, it's worth noting for your future reference that most of the methods defined for Numpy Arrays also apply to Pandas Series/DataFrames."
   ]
  },
  {
   "cell_type": "markdown",
   "id": "christian-paradise",
   "metadata": {},
   "source": [
    "## About Python Libraries\n",
    "\n",
    "pandas is an example of a Python library. A **library** is a collection of files (called *modules*) that contains functions for use by other programs. Libraries provide ways of extending Python's functionality in different ways. They may also contain data values (e.g., numerical constants), entire sample data sets, and other things. A library's contents are supposed to be related, although there's no actual way to enforce that.\n",
    "\n",
    "The Python [standard library][stdlib] is an extensive suite of modules that comes with Python itself. Many additional libraries are available; CoCalc has a large number of extra libraries already installed.\n",
    "\n",
    "To use a library (once it's installed), we must import it using the `import` declaration, like this:\n",
    "\n",
    "~~~python\n",
    "import pandas\n",
    "~~~\n",
    "\n",
    "Once a library is imported, we can use functions and methods from it. But, for functions we have to tell Python that the function can be found in a particular library we imported. For example, pandas has a function to import data from CSV (comma-separated value) files, called `read_csv`. To run this command, we would need to type:\n",
    "\n",
    "~~~python\n",
    "pandas.read_csv()\n",
    "~~~\n",
    "\n",
    "Since some package names are long, and adding the name to every function can result in a lot of typing, Python also allows us to assign an *alias* — a shorter name — to a library when we import it. For example, the convention for pandas is to give it the alias `pd` like this:\n",
    "\n",
    "~~~python\n",
    "import pandas as pd\n",
    "~~~\n",
    "\n",
    "Then to read a CSV file we could use:\n",
    "\n",
    "~~~python\n",
    "pd.read_csv()\n",
    "~~~\n",
    "\n",
    "In the cell below, import pandas with the alias pd:"
   ]
  },
  {
   "cell_type": "code",
   "execution_count": null,
   "id": "perfect-julian",
   "metadata": {},
   "outputs": [],
   "source": []
  },
  {
   "cell_type": "markdown",
   "id": "random-orange",
   "metadata": {},
   "source": [
    "## Importing data with pandas\n",
    "\n",
    "As noted, we can read a CSV file and use it to create a pandas DataFrame, with the funciton `pd.read_csv()`. [CSV](https://en.wikipedia.org/wiki/Comma-separated_values) is a text format used for storing tabular data, in which each line of the file corresponds to a row in the table, and columns are separated with commas. Often the first row of a CSV file will be the *header*, containing labels for each column. \n",
    "\n",
    "The Gapminder data is in CSV format, so let's load in one of the Gapminder datasets with the command below. Note that when we read in a DataFrame, we need to assign it to a variable name so that we can reference it later. A convention when working with pandas is to call the DataFrame `df`. This works fine if you only have one DataFrame to work with, but if you are working with multiple DataFrames it is a good idea to give them more meaningful names.\n",
    "\n",
    "~~~python\n",
    "df = pd.read_csv('data/gapminder_gdp_europe.csv')\n",
    "~~~"
   ]
  },
  {
   "cell_type": "code",
   "execution_count": null,
   "id": "innovative-multimedia",
   "metadata": {},
   "outputs": [],
   "source": []
  },
  {
   "cell_type": "markdown",
   "id": "unexpected-crack",
   "metadata": {},
   "source": [
    "We can view the contents of the DataFrame by simply typing its name and running the cell. Note that, unlike most of the examples we've used in previous lessons, we *don't* use the `print()` function. Although it works, the result is not nicely formatted the way the output is if we just use the name of the data frame.\n",
    "\n",
    "That is, raun this command: `df`, not `print(df)` in the cell below."
   ]
  },
  {
   "cell_type": "code",
   "execution_count": null,
   "id": "posted-resolution",
   "metadata": {},
   "outputs": [],
   "source": []
  },
  {
   "cell_type": "markdown",
   "id": "taken-blind",
   "metadata": {},
   "source": [
    "You'll see that the rows are numbered in boldface, starting with 0 as is the norm in Python. This boldfaced column is called the **index** of the DataFrame, and provides one way of access data by rows. Across the top, you'll see that the column labels are also in boldface. pandas is pretty smart about automatically detecting when the first row of a CSV file contains header information (column names)."
   ]
  },
  {
   "cell_type": "markdown",
   "id": "governing-commercial",
   "metadata": {},
   "source": [
    "## Accessing values in a DataFrame\n",
    "\n",
    "One thing we often want to do is access a single cell in a DataFrame, or a range of cells. Each cell is uniquely defined by a combination of its row and column locations. \n",
    "\n",
    "### Numerical indexing using `.iloc[]`\n",
    "\n",
    "pandas provides two ways of accessing cell locations. One is using the numerical positions in the DataFrame, using the convention of [row, column] — with [0, 0] being the top left cell in the DataFrame. This is done with the `.iloc[]` method. For example, to access the GDP value for Austria in 1952 — which is located in the second row, third column of our current DataFrame, we would use:\n",
    "\n",
    "~~~python\n",
    "df.iloc[1, 2]\n",
    "~~~"
   ]
  },
  {
   "cell_type": "code",
   "execution_count": null,
   "id": "known-admission",
   "metadata": {},
   "outputs": [],
   "source": []
  },
  {
   "cell_type": "markdown",
   "id": "prescribed-belarus",
   "metadata": {},
   "source": [
    "## Label-based indexing using `.loc[]`\n",
    "\n",
    "The other way to access a location in a DataFrame is by its index and column *labels*, using the `.loc[]` method. As noted earlier, in the DataFrame we imported, the indexes are currently numbers, which were created automatically when we imported the data. The `.loc[]` method doesn't work with numerical indexes (that's what `iloc` is for), but in the data set we imported, the first column of this CSV file is actually meant to be its index: while all other columns are data values (GDP, in type float), the first column identifies the country with which each row of data is associated. \n",
    "\n",
    "pandas has a method for setting an index column, `.set_index()`, where the argument (in the parentheses) would be the name of the column to use as the index. So here we want to run:\n",
    "\n",
    "~~~python\n",
    "df = df.set_index('country')\n",
    "~~~\n",
    "\n",
    "**Note** that we need to assign the result of this operation back to `df` (using `df = `), otherwise the change will not actually modify `df`.\n",
    "\n",
    "Alternatively, if we knew this information before loading in the data file, we could have included the argument `index_col=` in the `pd.read_csv()` command:\n",
    "\n",
    "~~~python\n",
    "df = pd.read_csv('data/gapminder_gdp_europe.csv', index_col='country')\n",
    "~~~\n",
    "\n",
    "In the cell below, use the `.set_index()` method to set the index of `df` to `country`, and then view the DataFrame again to ."
   ]
  },
  {
   "cell_type": "code",
   "execution_count": null,
   "id": "handmade-murder",
   "metadata": {},
   "outputs": [],
   "source": []
  },
  {
   "cell_type": "markdown",
   "id": "infinite-defensive",
   "metadata": {},
   "source": [
    "Now that we have defined the index, we can access the 1952 GDP value for Austria by its index and column names:\n",
    "\n",
    "~~~python\n",
    "df.loc['Austria', 'gdpPercap_1952']\n",
    "~~~"
   ]
  },
  {
   "cell_type": "code",
   "execution_count": null,
   "id": "variable-breakfast",
   "metadata": {},
   "outputs": [],
   "source": []
  },
  {
   "cell_type": "markdown",
   "id": "nervous-console",
   "metadata": {},
   "source": [
    "## Use `:` on its own to mean all columns or all rows.\n",
    "\n",
    "Just like Python's usual slicing notation, that we've previously used for strings and lists, we can use `:` with `.iloc[]` or `.loc[]`, to specify a range in a DataFrame.\n",
    "\n",
    "For example, to see the GDP of Albania for every year in the DataFrame, we would use:\n",
    "\n",
    "~~~python\n",
    "print(data.loc[\"Albania\", :])\n",
    "~~~"
   ]
  },
  {
   "cell_type": "code",
   "execution_count": null,
   "id": "falling-inflation",
   "metadata": {},
   "outputs": [],
   "source": []
  },
  {
   "cell_type": "markdown",
   "id": "incomplete-communist",
   "metadata": {},
   "source": [
    "Likewise, we could see the GDP for every country (row) in the year 1957 with:\n",
    "\n",
    "~~~python\n",
    "df.loc[:, 'gdpPercap_1957']\n",
    "~~~"
   ]
  },
  {
   "cell_type": "markdown",
   "id": "stretch-macedonia",
   "metadata": {},
   "source": [
    "You can also just specify the row index; if you don't specify anything for the columns, pandas assumes you want all columns:\n",
    "\n",
    "~~~python\n",
    "df.loc[\"Albania\"]\n",
    "~~~"
   ]
  },
  {
   "cell_type": "code",
   "execution_count": null,
   "id": "amateur-night",
   "metadata": {},
   "outputs": [],
   "source": []
  },
  {
   "cell_type": "markdown",
   "id": "distinct-wagner",
   "metadata": {},
   "source": [
    "However, since the syntax for `.iloc[]` and `.loc[]` is [rows, columns], you cannot omit a row index; you need to use `:` if you want all rows."
   ]
  },
  {
   "cell_type": "markdown",
   "id": "pacific-sending",
   "metadata": {},
   "source": [
    "## Slicing works on DataFrames\n",
    "\n",
    "Slicing using numerical indices works similarly for DataFrames as we previously saw for strings and lists, for example, the following code will print the third through fifth rows of the DataFrame, and the fifth through eighth columns (remember, Python indexing starts at 0, and slicing does not include the \"end\" index): \n",
    "\n",
    "~~~python\n",
    "df.iloc[2:5, 4:8]\n",
    "~~~"
   ]
  },
  {
   "cell_type": "code",
   "execution_count": null,
   "id": "ambient-viking",
   "metadata": {},
   "outputs": [],
   "source": []
  },
  {
   "cell_type": "markdown",
   "id": "least-penguin",
   "metadata": {},
   "source": [
    "The code below will print from the sixth to second-last row of the DataFrame, and from the ninth to the last column:\n",
    "\n",
    "~~~python\n",
    "df.iloc[5:-1, 8:]\n",
    "~~~"
   ]
  },
  {
   "cell_type": "code",
   "execution_count": null,
   "id": "cellular-circular",
   "metadata": {},
   "outputs": [],
   "source": []
  },
  {
   "cell_type": "markdown",
   "id": "opponent-cambridge",
   "metadata": {},
   "source": [
    "**Note** however, that when using label-based indexing with `.loc[]`, pandas' slicing behaviour is a bit different. Specifically, the output *includes* the last item in the range, whereas numerical indexing with `.iloc[]` does not. \n",
    "\n",
    "So, considering that the first three rows of the DataFrame correspond to the countries Albania, Austria, and Belgium, and that columns 6 and 7 are for the years 1982 and 1987 respectively, compare the output of:\n",
    "\n",
    "~~~python\n",
    "df.iloc[0:2, 6:7]\n",
    "~~~"
   ]
  },
  {
   "cell_type": "code",
   "execution_count": null,
   "id": "coordinated-candle",
   "metadata": {},
   "outputs": [],
   "source": []
  },
  {
   "cell_type": "markdown",
   "id": "stretch-logistics",
   "metadata": {},
   "source": [
    "With\n",
    "\n",
    "~~~python\n",
    "df.loc['Albania':'Belgium', 'gdpPercap_1982':'gdpPercap_1988']\n",
    "~~~"
   ]
  },
  {
   "cell_type": "code",
   "execution_count": null,
   "id": "ecological-registrar",
   "metadata": {},
   "outputs": [],
   "source": []
  },
  {
   "cell_type": "markdown",
   "id": "simple-impact",
   "metadata": {},
   "source": [
    "The \"inclusive\" label-based indexing with `.loc[]` is fairly intuitive, but it's important to remember that it works differently from numerical indexing."
   ]
  },
  {
   "cell_type": "markdown",
   "id": "backed-green",
   "metadata": {},
   "source": [
    "## Use lists to select non-contiguous sections of a DataFrame\n",
    "\n",
    "While slicing can be very useful, sometimes we might want to extract values that aren't next to each other in a DataFrame. For example, what if we only want values from two specific years (1992 and 2002), for Scandinavian countries (Denmark, Finland, Norway, and Sweden)? Nether these years nor countries are in adjacent columns/rows in the DataFrame. With `.loc[]`, we can use lists, rather than ranges separated by `:`, as selectors:\n",
    "\n",
    "~~~python\n",
    "df.loc[['Denmark', 'Finland', 'Norway', 'Sweden'], ['gdpPercap_1992', 'gdpPercap_2002']]\n",
    "~~~"
   ]
  },
  {
   "cell_type": "code",
   "execution_count": null,
   "id": "weekly-bachelor",
   "metadata": {},
   "outputs": [],
   "source": []
  },
  {
   "cell_type": "markdown",
   "id": "cathedral-light",
   "metadata": {},
   "source": [
    "We could also define those lists as variables, and pass the variables to `.loc[]`. This might be useful if you were going to use the lists more than once in a notebook:\n",
    "\n",
    "~~~python\n",
    "scand_countries = ['Denmark', 'Finland', 'Iceland', 'Norway', 'Sweden']\n",
    "years = ['gdpPercap_1992', 'gdpPercap_2002']\n",
    "df.loc[scand_countries, years]\n",
    "~~~"
   ]
  },
  {
   "cell_type": "code",
   "execution_count": null,
   "id": "electric-research",
   "metadata": {},
   "outputs": [],
   "source": []
  },
  {
   "cell_type": "markdown",
   "id": "occupied-temple",
   "metadata": {},
   "source": [
    "We can take this a step further, and assign the output of a `.loc[]` selection like this to a new variable name. This makes a copy of the selected data, stored in a new DataFrame (or Series, if we only select one row or column) with its own name. This allows us to later reference and use that selection. \n",
    "\n",
    "~~~python\n",
    "scand_data = df.loc[scand_countries, years]\n",
    "~~~"
   ]
  },
  {
   "cell_type": "code",
   "execution_count": null,
   "id": "raising-allen",
   "metadata": {},
   "outputs": [],
   "source": []
  },
  {
   "cell_type": "markdown",
   "id": "published-wholesale",
   "metadata": {},
   "source": [
    "## It's easy to do simple math and statistics in DataFrames\n",
    "\n",
    "We prevoiusly learned about methods to get simple statistical values out of a Python list, like `.max()`, and `.min()`. pandas includes these and many more methods as well. For example, we can view the mean GDP for Italy across all years (columns) with:\n",
    "\n",
    "~~~python\n",
    "df.loc['Italy'].mean()\n",
    "~~~"
   ]
  },
  {
   "cell_type": "code",
   "execution_count": null,
   "id": "convenient-milton",
   "metadata": {},
   "outputs": [],
   "source": []
  },
  {
   "cell_type": "markdown",
   "id": "wanted-overhead",
   "metadata": {},
   "source": [
    "Or the largest GDP in 1977 with:\n",
    "\n",
    "~~~python\n",
    "df.loc[:, 'gdpPercap_1977'].max()\n",
    "~~~"
   ]
  },
  {
   "cell_type": "code",
   "execution_count": null,
   "id": "adequate-instrument",
   "metadata": {},
   "outputs": [],
   "source": []
  },
  {
   "cell_type": "markdown",
   "id": "accredited-plaza",
   "metadata": {},
   "source": [
    "Another useful method is `.describe()`, which prints out a range of descriptive statistics for the range of data you specify. Without any slicing it provides information for each column:\n",
    "\n",
    "~~~python\n",
    "df.describe()\n",
    "~~~"
   ]
  },
  {
   "cell_type": "code",
   "execution_count": null,
   "id": "stretch-tournament",
   "metadata": {},
   "outputs": [],
   "source": []
  },
  {
   "cell_type": "markdown",
   "id": "related-technical",
   "metadata": {},
   "source": [
    "### Mini-Exercise\n",
    "In the cell below, use the `scand_countries` and `years` variables to view descriptive statistics for all Scandinavian countries in each year."
   ]
  },
  {
   "cell_type": "code",
   "execution_count": null,
   "id": "italian-manhattan",
   "metadata": {},
   "outputs": [],
   "source": []
  },
  {
   "cell_type": "markdown",
   "id": "through-reminder",
   "metadata": {},
   "source": [
    "## Evaluate cells based on conditions\n",
    "\n",
    "pandas allows an easy way to identify values in a DataFrame that meet a certain condition, using operators like `<`, `>`, and `==`. For example, let's see which countries in a list had a GDP over 10,000 in 1962 and 1992. The result is reported in Booleans (True/False) for each cell.\n",
    "\n",
    "~~~python\n",
    "countries = ['France', 'Germany', 'Italy', 'Spain', 'United Kingdom']\n",
    "df.loc[countries, ['gdpPercap_1962', 'gdpPercap_1992']] 10000\n",
    "~~~"
   ]
  },
  {
   "cell_type": "code",
   "execution_count": null,
   "id": "novel-there",
   "metadata": {},
   "outputs": [],
   "source": []
  },
  {
   "cell_type": "code",
   "execution_count": null,
   "id": "mechanical-provider",
   "metadata": {},
   "outputs": [],
   "source": [
    "scand_data 30000"
   ]
  },
  {
   "cell_type": "markdown",
   "id": "amber-absence",
   "metadata": {},
   "source": [
    "## Select values or NaN using a Boolean mask.\n",
    "\n",
    "A DataFrame full of Booleans is sometimes called a *mask* because of how it can be used. A mask removes values that are not True, and replaces them with `NaN` — a special Python value representing \"not a number\". This can be useful because pandas ignores NaN values when doing computations. \n",
    "\n",
    "We create a mask by assigning the output of a conditional statement to a variable name:\n",
    "\n",
    "\n",
    "~~~python\n",
    "mask = scand_data 30000\n",
    "~~~"
   ]
  },
  {
   "cell_type": "code",
   "execution_count": null,
   "id": "better-replacement",
   "metadata": {},
   "outputs": [],
   "source": []
  },
  {
   "cell_type": "markdown",
   "id": "assumed-israel",
   "metadata": {},
   "source": [
    "Then we can apply the mask to the DataFrame to get only the values that meet the criterion:\n",
    "\n",
    "~~~python\n",
    "scand_data[mask]\n",
    "~~~"
   ]
  },
  {
   "cell_type": "code",
   "execution_count": null,
   "id": "applied-stack",
   "metadata": {},
   "outputs": [],
   "source": [
    "scand_data[mask]"
   ]
  },
  {
   "cell_type": "markdown",
   "id": "false-structure",
   "metadata": {},
   "source": [
    "As an example of how this might be used, the steps above would now allow us to find the lowest GDP value in each year, that was above 30,000:\n",
    "\n",
    "~~~python\n",
    "scand_data[mask].min()\n",
    "~~~"
   ]
  },
  {
   "cell_type": "code",
   "execution_count": null,
   "id": "popular-enemy",
   "metadata": {},
   "outputs": [],
   "source": []
  },
  {
   "cell_type": "markdown",
   "id": "arctic-guest",
   "metadata": {},
   "source": [
    "## Split-Apply-Combine\n",
    "\n",
    "A common task in data science is to split data into meaningful subgroups, apply an operation to each subgroup (e.g., compute the mean), and then combine the results into a single output, such as a table or a new DataFrame. This paradigm was famously [described by Hadley Wickham in a 2011 paper](http://dx.doi.org/10.18637/jss.v040.i01).\n",
    "\n",
    "pandas provides methods and grouping operations that are very efficient (*vectorized*) for split-apply-combine operations. "
   ]
  },
  {
   "cell_type": "markdown",
   "id": "reliable-centre",
   "metadata": {},
   "source": [
    "As an example, let's say that we wanted to compare the average GDP for different regions of Europe, divided as northern, southern, eastern, and western. To do this, we first have to create lists defining the countries belonging to each of these regions:\n",
    "\n",
    "~~~poython\n",
    "northern = ['Denmark', 'Finland', 'Iceland', 'Norway', 'Sweden']\n",
    "southern = ['Greece', 'Italy', 'Portugal', 'Spain']\n",
    "eastern = ['Albania', 'Bosnia and Herzegovina', 'Bulgaria', 'Croatia', \n",
    "            'Czech Republic', 'Hungary', 'Montenegro', 'Poland', 'Romania', \n",
    "            'Serbia', 'Slovak Republic', 'Slovenia']\n",
    "western = ['Austria',  'Belgium', 'France', 'Germany', 'Ireland', \n",
    "            'Netherlands', 'Switzerland', 'United Kingdom']\n",
    "~~~"
   ]
  },
  {
   "cell_type": "code",
   "execution_count": null,
   "id": "right-steps",
   "metadata": {},
   "outputs": [],
   "source": [
    "northern = ['Denmark', 'Finland', 'Iceland', 'Norway', 'Sweden']\n",
    "southern = ['Greece', 'Italy', 'Portugal', 'Spain', 'Turkey']\n",
    "eastern = ['Albania', 'Bosnia and Herzegovina', 'Bulgaria','Croatia', 'Czech Republic', \n",
    "           'Hungary', 'Montenegro', 'Poland',  'Romania', 'Serbia', 'Slovak Republic', 'Slovenia']\n",
    "western = ['Austria',  'Belgium', 'France', 'Germany', 'Ireland', 'Netherlands', 'Switzerland', 'United Kingdom']"
   ]
  },
  {
   "cell_type": "markdown",
   "id": "coated-shopper",
   "metadata": {},
   "source": [
    "Next we can make a new column simply by using `.loc[]` with the rows specified by one of the lists we just defined, a column name that doesn't already exist (in this case, we'll call it \"region\"), then assigning a region label to that combination of rows and column. We need to do this separately for each region. Note that when we first create the new column (\"region\"), pandas fills it with NaN values in any rows that were not defined by the assignment. For example, in the code below, the first line will create the column \"region\", and fill it with \"northern\" for any row in the `northern` list, and `NaN` to every other row. \n",
    "\n",
    "~~~python\n",
    "df.loc[northern, 'region'] = 'northern'\n",
    "df.loc[southern, 'region'] = 'southern'\n",
    "df.loc[eastern, 'region'] = 'eastern'\n",
    "df.loc[western, 'region'] = 'western'\n",
    "~~~"
   ]
  },
  {
   "cell_type": "code",
   "execution_count": null,
   "id": "rotary-barcelona",
   "metadata": {},
   "outputs": [],
   "source": [
    "df.loc[northern, 'region'] = 'northern'\n",
    "df.loc[southern, 'region'] = 'southern'\n",
    "df.loc[eastern, 'region'] = 'eastern'\n",
    "df.loc[western, 'region'] = 'western'"
   ]
  },
  {
   "cell_type": "markdown",
   "id": "beneficial-measure",
   "metadata": {},
   "source": [
    "### Split\n",
    "\n",
    "Now we can use this \"region\" column to split the data into groups, using a pandas bethod called `.groupby()`\n",
    "\n",
    "~~~python\n",
    "grouped_countries = df.groupby('region')\n",
    "~~~"
   ]
  },
  {
   "cell_type": "code",
   "execution_count": null,
   "id": "ahead-drove",
   "metadata": {},
   "outputs": [],
   "source": []
  },
  {
   "cell_type": "markdown",
   "id": "another-identification",
   "metadata": {},
   "source": [
    "### Apply\n",
    "\n",
    "Now that we have split the data, we can apply a function separately to each group. Here we'll compute the mean GDP for each region, for each year:\n",
    "\n",
    "~~~python\n",
    "mean_gdp_by_region = grouped_countries.mean()\n",
    "~~~"
   ]
  },
  {
   "cell_type": "code",
   "execution_count": null,
   "id": "hybrid-burst",
   "metadata": {},
   "outputs": [],
   "source": []
  },
  {
   "cell_type": "markdown",
   "id": "usual-donor",
   "metadata": {},
   "source": [
    "### Combine\n",
    "\n",
    "In this example, the combine step actually occurred with the *apply* step above — the result is automatically combined into a table of mean values organized by region. But since our *apply* step saved the result to a variable, we can view the resulting table as the output of the *combine* step:\n",
    "\n",
    "~~~python\n",
    "mean_gdp_by_region\n",
    "~~~"
   ]
  },
  {
   "cell_type": "code",
   "execution_count": null,
   "id": "requested-giving",
   "metadata": {},
   "outputs": [],
   "source": []
  },
  {
   "cell_type": "markdown",
   "id": "hungarian-jurisdiction",
   "metadata": {},
   "source": [
    "### Chaining\n",
    "\n",
    "In Python, **chaining** refers to combining a number of operations in one command, using a sequence of methods. We can perform the above split-apply-combine procedure in a single step as follows. Note that because we don't assign the output to a variable name, it is displayed as output but not saved.\n",
    "\n",
    "~~~python\n",
    "df.groupby('region').mean()\n",
    "~~~"
   ]
  },
  {
   "cell_type": "code",
   "execution_count": null,
   "id": "acknowledged-edinburgh",
   "metadata": {},
   "outputs": [],
   "source": []
  },
  {
   "cell_type": "markdown",
   "id": "swedish-innocent",
   "metadata": {},
   "source": [
    "---\n",
    "# Exercises"
   ]
  },
  {
   "cell_type": "markdown",
   "id": "foreign-ottawa",
   "metadata": {},
   "source": [
    "## Selecting Individual Values\n",
    "\n",
    "Write an expression to find the Per Capita GDP of Serbia in 2007."
   ]
  },
  {
   "cell_type": "code",
   "execution_count": null,
   "id": "based-religious",
   "metadata": {},
   "outputs": [],
   "source": [
    "### BEGIN SOLUTION\n",
    "print(df.loc['Serbia', 'gdpPercap_2007'])\n",
    "### END SOLUTION"
   ]
  },
  {
   "cell_type": "markdown",
   "id": "crude-quarterly",
   "metadata": {},
   "source": [
    "## Extent of Slicing\n",
    "\n",
    "1.  Do the two statements below produce the same output?\n",
    "2.  Based on this, what rule governs what is included (or not) in numerical slices and named slices in Pandas?\n",
    "\n",
    "~~~python\n",
    "print(df.iloc[0:2, 0:2])\n",
    "print(df.loc['Albania':'Belgium', 'gdpPercap_1952':'gdpPercap_1962'])\n",
    "~~~"
   ]
  },
  {
   "cell_type": "code",
   "execution_count": null,
   "id": "funky-indiana",
   "metadata": {},
   "outputs": [],
   "source": []
  },
  {
   "cell_type": "markdown",
   "id": "chief-domestic",
   "metadata": {},
   "source": [
    "No, they do not produce the same output! The output of the first statement is:\n",
    "\n",
    "~~~python\n",
    "        gdpPercap_1952  gdpPercap_1957\n",
    "country                                \n",
    "Albania     1601.056136     1942.284244\n",
    "Austria     6137.076492     8842.598030\n",
    "~~~\n",
    "\n",
    "The second statement gives:\n",
    "~~~python\n",
    "        gdpPercap_1952  gdpPercap_1957  gdpPercap_1962\n",
    "country                                                \n",
    "Albania     1601.056136     1942.284244     2312.888958\n",
    "Austria     6137.076492     8842.598030    10750.721110\n",
    "Belgium     8343.105127     9714.960623    10991.206760\n",
    "~~~\n",
    "\n",
    "Clearly, the second statement produces an additional column and an additional row compared to the first statement.  What conclusion can we draw? We see that a numerical slice, 0:2, *omits* the final index (i.e. index 2) in the range provided, while a named slice, `'gdpPercap_1952':'gdpPercap_1962'`, *includes* the final element."
   ]
  },
  {
   "cell_type": "markdown",
   "id": "rolled-store",
   "metadata": {},
   "source": [
    "## Reconstructing Data\n",
    "\n",
    "Explain what each line in the following short program does:\n",
    "what is in `first`, `second`, etc.?\n",
    "\n",
    "~~~python\n",
    "first = pd.read_csv('data/gapminder_all.csv', index_col='country')\n",
    "second = first[first['continent'] == 'Americas']\n",
    "third = second.drop('Puerto Rico')\n",
    "fourth = third.drop('continent', axis = 1)\n",
    "fourth.to_csv('result.csv')\n",
    "~~~"
   ]
  },
  {
   "cell_type": "code",
   "execution_count": null,
   "id": "accomplished-christopher",
   "metadata": {},
   "outputs": [],
   "source": []
  },
  {
   "cell_type": "markdown",
   "id": "surprised-values",
   "metadata": {},
   "source": [
    "## Solution\n",
    "Let's go through this piece of code line by line.\n",
    "~~~python\n",
    "first = pd.read_csv('data/gapminder_all.csv', index_col='country')\n",
    "~~~\n",
    "\n",
    "This line loads the dataset containing the GDP data from all countries into a dataframe called \n",
    "`first`. The `index_col='country'` parameter selects which column to use as the \n",
    "row labels in the dataframe.  \n",
    "~~~python\n",
    "second = first[first['continent'] == 'Americas']\n",
    "~~~\n",
    "\n",
    "This line makes a selection: only those rows of `first` for which the 'continent' column matches 'Americas' are extracted. Notice how the Boolean expression inside the brackets, `first['continent'] == 'Americas'`, is used to select only those rows where the expression is true. Try printing this expression! Can you print also its individual True/False elements? (hint: first assign the expression to a variable)\n",
    "~~~python\n",
    "third = second.drop('Puerto Rico')\n",
    "~~~\n",
    "\n",
    "As the syntax suggests, this line drops the row from `second` where the label is 'Puerto Rico'. The resulting dataframe `third` has one row less than the original dataframe `second`.\n",
    "~~~python\n",
    "fourth = third.drop('continent', axis = 1)\n",
    "~~~\n",
    "\n",
    "Again we apply the drop function, but in this case we are dropping not a row but a whole column. To accomplish this, we need to specify also the `axis` parameter (we want to drop the second column which has index 1).\n",
    "~~~python\n",
    "fourth.to_csv('result.csv')\n",
    "~~~\n",
    "\n",
    "The final step is to write the data that we have been working on to a csv file. Pandas makes this easy with the `to_csv()` function. The only required argument to the function is the filename. Note that the file will be written in the directory from which you started the Jupyter or Python session."
   ]
  },
  {
   "cell_type": "markdown",
   "id": "oriented-guard",
   "metadata": {},
   "source": [
    "## Selecting Indices\n",
    "\n",
    "Explain in simple terms what `idxmin` and `idxmax` do in the short program below.\n",
    "When would you use these methods?\n",
    "\n",
    "~~~python\n",
    "data = pd.read_csv('data/gapminder_gdp_europe.csv', index_col='country')\n",
    "print(data.idxmin())\n",
    "print(data.idxmax())\n",
    "~~~"
   ]
  },
  {
   "cell_type": "code",
   "execution_count": null,
   "id": "returning-course",
   "metadata": {},
   "outputs": [],
   "source": []
  },
  {
   "cell_type": "markdown",
   "id": "portuguese-secondary",
   "metadata": {},
   "source": [
    "## Solution\n",
    "For each column in `data`, `idxmin` will return the index value corresponding to each column's minimum;\n",
    "`idxmax` will do accordingly the same for each column's maximum value.\n",
    "\n",
    "You can use these functions whenever you want to get the row index of the minimum/maximum value and not the actual minimum/maximum value."
   ]
  },
  {
   "cell_type": "markdown",
   "id": "failing-laugh",
   "metadata": {},
   "source": [
    "## Practice with Selection\n",
    "\n",
    "From the previous exercise, the Gapminder GDP data for Europe should be loaded in as `data`. Using this DataFrame, write an expression to select each of the following:\n",
    "\n",
    "- GDP per capita for all countries in 1982"
   ]
  },
  {
   "cell_type": "code",
   "execution_count": null,
   "id": "intelligent-forum",
   "metadata": {},
   "outputs": [],
   "source": [
    "### BEGIN SOLUTION\n",
    "\n",
    "data['gdpPercap_1982']\n",
    "\n",
    "### END SOLUTION"
   ]
  },
  {
   "cell_type": "markdown",
   "id": "proud-field",
   "metadata": {},
   "source": [
    "- GDP per capita for Denmark for all years"
   ]
  },
  {
   "cell_type": "code",
   "execution_count": null,
   "id": "impressed-wallace",
   "metadata": {},
   "outputs": [],
   "source": [
    "### BEGIN SOLUTION\n",
    "\n",
    "data.loc['Denmark',:]\n",
    "\n",
    "### END SOLUTION"
   ]
  },
  {
   "cell_type": "markdown",
   "id": "radio-programmer",
   "metadata": {},
   "source": [
    "- GDP per capita for all countries for years *after* 1985"
   ]
  },
  {
   "cell_type": "code",
   "execution_count": null,
   "id": "cooked-carpet",
   "metadata": {},
   "outputs": [],
   "source": [
    "### BEGIN SOLUTION\n",
    "\n",
    "data.loc[:,'gdpPercap_1985':]\n",
    "\n",
    "# Pandas is smart enough to recognize the number at the end of the column label \n",
    "# and does not give you an error, although no column named `gdpPercap_1985` actually \n",
    "# exists. This is useful if new columns are added to the CSV file later.\n",
    "\n",
    "### END SOLUTION"
   ]
  },
  {
   "cell_type": "markdown",
   "id": "apparent-inquiry",
   "metadata": {},
   "source": [
    "- GDP per capita for each country in 2007 as a multiple of GDP per capita for that country in 1952"
   ]
  },
  {
   "cell_type": "code",
   "execution_count": null,
   "id": "seven-amsterdam",
   "metadata": {},
   "outputs": [],
   "source": [
    "### BEGIN SOLUTION\n",
    "\n",
    "data['gdpPercap_2007']/data['gdpPercap_1952']\n",
    "\n",
    "### END SOLUTION"
   ]
  },
  {
   "cell_type": "markdown",
   "id": "north-keeping",
   "metadata": {},
   "source": [
    "## Using the `dir` function to see available methods\n",
    "\n",
    "Python includes a `dir` function that can be used to display all of the available methods (functions) that are built into a data object.  As an example, the  functions available for a [list data type]https://docs.python.org/3/tutorial/datastructures.html#more-on-lists) are:\n",
    "~~~python\n",
    "potatoes = [\"Russet\", \"Norkota\", \"Yukon Gold\", \"Pontiac\"]\n",
    "dir(potatoes)\n",
    "~~~\n",
    "\n",
    "This command returns:\n",
    "~~~python\n",
    "['__add__',\n",
    "...\n",
    "'__subclasshook__',\n",
    " 'append',\n",
    " 'clear',\n",
    " 'copy',\n",
    " 'count',\n",
    "'extend',\n",
    "'index',\n",
    "'insert',\n",
    "'pop',\n",
    "'remove',\n",
    "'reverse',\n",
    "'sort']\n",
    "~~~\n",
    "\n",
    "The double underscore functions can be ignored for now; functions that are not surrounded by double underscores are the *public interface* of the [list type](https://docs.python.org/3/tutorial/datastructures.html#more-on-lists). So, if you want to sort the list of potatoes, according to `dir` you should try,\n",
    "~~~python\n",
    "potatoes.sort()\n",
    "~~~"
   ]
  },
  {
   "cell_type": "code",
   "execution_count": null,
   "id": "saved-conference",
   "metadata": {},
   "outputs": [],
   "source": []
  },
  {
   "cell_type": "markdown",
   "id": "thick-equality",
   "metadata": {},
   "source": [
    "Assume Pandas has been imported and the Gapminder GDP data for Europe has been loaded as `data`.  Then, use `dir` to find the function that prints out the median per-capita GDP across all European countries for each year that information is available.  "
   ]
  },
  {
   "cell_type": "code",
   "execution_count": null,
   "id": "featured-aruba",
   "metadata": {},
   "outputs": [],
   "source": [
    "### BEGIN SOLUTION\n",
    "data.median()\n",
    "### END SOLUTION"
   ]
  },
  {
   "cell_type": "markdown",
   "id": "unnecessary-chorus",
   "metadata": {},
   "source": [
    "## Interpretation\n",
    "\n",
    "Poland's borders have been stable since 1945, but changed several times in the years before then. How would you handle this if you were creating a table of GDP per capita for Poland for the entire twentieth century?"
   ]
  },
  {
   "cell_type": "code",
   "execution_count": null,
   "id": "funded-appearance",
   "metadata": {},
   "outputs": [],
   "source": []
  },
  {
   "cell_type": "markdown",
   "id": "compact-acrylic",
   "metadata": {},
   "source": [
    "---\n",
    "# Summary of Key Points:\n",
    "- Use `DataFrame.iloc[..., ...]` to select values by integer location.\n",
    "- Use `:` on its own to mean all columns or all rows.\n",
    "- Select multiple columns or rows using `DataFrame.loc` and a named slice.\n",
    "- Result of slicing can be used in further operations.\n",
    "- Use comparisons to select data based on value.\n",
    "- Select values or NaN using a Boolean mask."
   ]
  },
  {
   "cell_type": "markdown",
   "id": "accessible-smith",
   "metadata": {},
   "source": [
    "---\n",
    "This lesson is adapted from the [Software Carpentry](https://software-carpentry.org/lessons/) [Plotting and Programming in Python](http://swcarpentry.github.io/python-novice-gapminder/) workshop. \n",
    "\n",
    "Licensed under [CC-BY 4.0](https://creativecommons.org/licenses/by/4.0/) 2021 by [SURGE](https://github.com/surge-dalhousie)"
   ]
  }
 ],
 "metadata": {
  "kernelspec": {
   "display_name": "Python 3",
   "language": "python",
   "name": "python3"
  },
  "language_info": {
   "codemirror_mode": {
    "name": "ipython",
    "version": 3
   },
   "file_extension": ".py",
   "mimetype": "text/x-python",
   "name": "python",
   "nbconvert_exporter": "python",
   "pygments_lexer": "ipython3",
   "version": "3.8.5"
  }
 },
 "nbformat": 4,
 "nbformat_minor": 5
}
