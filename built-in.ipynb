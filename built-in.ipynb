{
 "cells": [
  {
   "cell_type": "markdown",
   "id": "polish-drain",
   "metadata": {},
   "source": [
    "# Python Built-Ins"
   ]
  },
  {
   "cell_type": "markdown",
   "id": "crude-specific",
   "metadata": {},
   "source": [
    "---\n",
    "## Questions:\n",
    "- How can I use built-in functions?\n",
    "- How can I find out what they do?\n",
    "- What kind of errors can occur in programs?\n",
    "\n",
    "## Learning Objectives:\n",
    "- Explain the purpose of functions\n",
    "- Correctly call built-in Python functions\n",
    "- Correctly nest calls to built-in functions\n",
    "- Use help to display documentation for built-in functions\n",
    "- Correctly describe situations in which SyntaxError and NameError occur\n",
    "\n",
    "---"
   ]
  },
  {
   "cell_type": "markdown",
   "id": "chief-calgary",
   "metadata": {},
   "source": [
    "## Functions in Python\n",
    "- **Functions** are, effectively, commands that you can run (execute) in Python.\n",
    "- Python provides many built-in functions, such as `print()` and `len()`\n",
    "- Later in this workshop, we will demonstrate how to write your own functions to perform specific tasks repeatedly. In this section, we will focus on understanding the basics of how functions work, and introduce a few new ones."
   ]
  },
  {
   "cell_type": "markdown",
   "id": "iraqi-philippines",
   "metadata": {},
   "source": [
    "## A function may take zero or more **arguments**\n",
    "\n",
    "An **argument** is a value passed into a function, inside parentheses. \n",
    "*   `len()` takes exactly one argument\n",
    "*   `int()`, `str()`, and `float()` take one argument\n",
    "*   `print` takes zero or more\n",
    "    *   `print` with no arguments prints a blank line\n",
    "*   We must always use parentheses when calling a function, even if they're empty, so that Python knows a function is being called\n",
    "\n",
    "~~~python\n",
    "print('before')\n",
    "print()\n",
    "print('after')\n",
    "~~~"
   ]
  },
  {
   "cell_type": "code",
   "execution_count": null,
   "id": "framed-transformation",
   "metadata": {},
   "outputs": [],
   "source": []
  },
  {
   "cell_type": "markdown",
   "id": "protective-friendly",
   "metadata": {},
   "source": [
    "## Every function **returns** something\n",
    "\n",
    "*   Every function call produces some result\n",
    "*   If the function doesn't have a useful result to return, it usually returns the special value `None`. `None` is a Python object that stands in anytime there is no value.\n",
    "*   Somewhat counter-intuitively, `print()` returns `None`. The `print()` function prints its arguments directly to the output, but when we attempt to assign the result of `print()` to a variable, that variable ends up with a value of `None`:\n",
    "\n",
    "~~~python\n",
    "result = print('example')\n",
    "print('result of print is', result)\n",
    "~~~"
   ]
  },
  {
   "cell_type": "code",
   "execution_count": null,
   "id": "raising-father",
   "metadata": {},
   "outputs": [],
   "source": []
  },
  {
   "cell_type": "markdown",
   "id": "acoustic-walnut",
   "metadata": {},
   "source": [
    "## Commonly-used built-in functions include `max`, `min`, and `round`.\n",
    "\n",
    "*   Use `max()` to find the largest value of two or more values\n",
    "*   Use `min()` to find the smallest\n",
    "*   Both work on character strings as well as numbers\n",
    "    *   \"Larger\" and \"smaller\" use (0-9, A-Z, a-z) to compare letters\n",
    "\n",
    "~~~python\n",
    "print(max(1, 2, 3))\n",
    "print(min('a', 'A', '0'))\n",
    "~~~"
   ]
  },
  {
   "cell_type": "code",
   "execution_count": null,
   "id": "governmental-enforcement",
   "metadata": {},
   "outputs": [],
   "source": []
  },
  {
   "cell_type": "markdown",
   "id": "measured-peace",
   "metadata": {},
   "source": [
    "## Functions may only work for certain (combinations of) arguments\n",
    "\n",
    "`max()` and `min()` must be given at least two values to compare. They must also be given things that can meaningfully be compared.\n",
    "\n",
    "See what happens when you run each of the following:\n",
    "~~~python\n",
    "print(max(999))\n",
    "print(max(1, 'a'))\n",
    "~~~"
   ]
  },
  {
   "cell_type": "code",
   "execution_count": null,
   "id": "lesser-means",
   "metadata": {},
   "outputs": [],
   "source": []
  },
  {
   "cell_type": "markdown",
   "id": "ordinary-arthur",
   "metadata": {},
   "source": [
    "## Functions may have default values for some arguments\n",
    "\n",
    "`round()` will round off a floating-point number. By default, it rounds to zero decimal places:\n",
    "\n",
    "~~~python\n",
    "round(3.712)\n",
    "~~~"
   ]
  },
  {
   "cell_type": "code",
   "execution_count": null,
   "id": "aerial-contents",
   "metadata": {},
   "outputs": [],
   "source": []
  },
  {
   "cell_type": "markdown",
   "id": "great-liberty",
   "metadata": {},
   "source": [
    "We can specify the number of decimal places we want by passing a second argument\n",
    "\n",
    "~~~python\n",
    "round(3.712, 1)\n",
    "~~~"
   ]
  },
  {
   "cell_type": "code",
   "execution_count": null,
   "id": "automotive-concept",
   "metadata": {},
   "outputs": [],
   "source": []
  },
  {
   "cell_type": "markdown",
   "id": "virgin-planet",
   "metadata": {},
   "source": [
    "## Errors\n",
    "\n",
    "You can fix syntax errors by reading the source and runtime errors by tracing execution"
   ]
  },
  {
   "cell_type": "markdown",
   "id": "double-script",
   "metadata": {},
   "source": [
    "### Python reports a syntax error when it can't understand the source of a program\n",
    "\n",
    "Won't even try to run the program if it can't be parsed\n",
    "\n",
    "~~~python\n",
    "# Forgot to close the quote marks around the string\n",
    "name = 'Feng\n",
    "~~~"
   ]
  },
  {
   "cell_type": "code",
   "execution_count": null,
   "id": "suffering-foster",
   "metadata": {},
   "outputs": [],
   "source": []
  },
  {
   "cell_type": "markdown",
   "id": "established-injection",
   "metadata": {},
   "source": [
    "### Python reports a runtime error when something goes wrong while a program is executing\n",
    "\n",
    "~~~python\n",
    "age = 53\n",
    "remaining = 100 - aege # mis-spelled 'age'\n",
    "~~~"
   ]
  },
  {
   "cell_type": "code",
   "execution_count": null,
   "id": "accessible-baghdad",
   "metadata": {},
   "outputs": [],
   "source": []
  },
  {
   "cell_type": "markdown",
   "id": "touched-painting",
   "metadata": {},
   "source": [
    "Look more closely at this error message:\n",
    "\n",
    "~~~python\n",
    "print(\"hello world\"\n",
    "~~~"
   ]
  },
  {
   "cell_type": "code",
   "execution_count": null,
   "id": "acquired-transsexual",
   "metadata": {},
   "outputs": [],
   "source": [
    "print(\"hello world\""
   ]
  },
  {
   "cell_type": "markdown",
   "id": "exotic-budapest",
   "metadata": {},
   "source": [
    "*   The message indicates a problem on first line of the input (\"line 1\")\n",
    "    *   In this case the \"ipython-input\" section of the file name tells us that we are working with input into IPython, the Python interpreter used by the Jupyter Notebook\n",
    "*   The number after `ipython-input-` indicates the cell number that the error occurred in (the number in square brackets to the left of the cell). Note that cells are numbered based on the sequence they are *executed* in, not their order in the notebook. So if you execute the cell above again, this number will change.\n",
    "*   Next is the problematic line of code, indicating the start of the problem with a `^` pointer\n",
    "*   Finally, the type of error is provided on the last line"
   ]
  },
  {
   "cell_type": "markdown",
   "id": "concrete-tunnel",
   "metadata": {},
   "source": [
    "## Getting Help"
   ]
  },
  {
   "cell_type": "markdown",
   "id": "superior-glance",
   "metadata": {},
   "source": [
    "### Use the built-in function `help` to get help for a function\n",
    "\n",
    "Every built-in function has online documentation.\n",
    "\n",
    "~~~python\n",
    "help(round)\n",
    "~~~"
   ]
  },
  {
   "cell_type": "code",
   "execution_count": null,
   "id": "generous-lawsuit",
   "metadata": {},
   "outputs": [],
   "source": []
  },
  {
   "cell_type": "markdown",
   "id": "played-reduction",
   "metadata": {},
   "source": [
    "### The Jupyter Notebook has two ways to get help\n",
    "\n",
    "**Option 1:** Place the cursor near where the function is invoked in a cell\n",
    "    (i.e., the function name or its parameters),\n",
    "    * Hold down `shift`, and press `tab`\n",
    "    * Do this several times to expand the information returned\n",
    "\n",
    "**Option 2:** Type the function name in a cell with a question mark after it. Then run the cell"
   ]
  },
  {
   "cell_type": "markdown",
   "id": "cordless-spray",
   "metadata": {},
   "source": [
    "~~~python\n",
    "# An extra '=' in the assignment\n",
    "age = = 52\n",
    "~~~"
   ]
  },
  {
   "cell_type": "code",
   "execution_count": null,
   "id": "seven-nebraska",
   "metadata": {},
   "outputs": [],
   "source": []
  },
  {
   "cell_type": "markdown",
   "id": "demographic-smooth",
   "metadata": {},
   "source": [
    "### Putting *comments* in your own code\n",
    "\n",
    "Anything appearing after a hash symbol `#` in a line of code is ignored by Python. These are called **comments**. This is a useful way to help yourself and other readers of your code understand what's going on.\n",
    "\n",
    "~~~python\n",
    "# This sentence isn't executed by Python\n",
    "adjustment = 0.5   # Neither is this - anything after '#' is ignored\n",
    "~~~"
   ]
  },
  {
   "cell_type": "code",
   "execution_count": null,
   "id": "sapphire-calvin",
   "metadata": {},
   "outputs": [],
   "source": []
  },
  {
   "cell_type": "markdown",
   "id": "ecological-average",
   "metadata": {},
   "source": [
    "---\n",
    "## Exercises"
   ]
  },
  {
   "cell_type": "markdown",
   "id": "annual-store",
   "metadata": {},
   "source": [
    "## What Happens When\n",
    "\n",
    "- Explain in simple terms the order of operations in the following program: when does the addition happen, when foes the subtraction happen, when is each function called, etc.\n",
    "- What is the final value of `radiance`?\n",
    "\n",
    "~~~python\n",
    "radiance = 1.0\n",
    "radiance = max(2.1, 2.0 + min(radiance, 1.1 * radiance - 0.5))\n",
    "~~~"
   ]
  },
  {
   "cell_type": "code",
   "execution_count": null,
   "id": "appropriate-frederick",
   "metadata": {},
   "outputs": [],
   "source": []
  },
  {
   "cell_type": "markdown",
   "id": "adjusted-presence",
   "metadata": {},
   "source": [
    "## Solution\n",
    "1. `1.1 * radiance = 1.1`\n",
    "2. `1.1 - 0.5 = 0.6`\n",
    "3. `min(radiance, 0.6) = 0.6`\n",
    "4. `2.0 + 0.6 = 2.6`\n",
    "5. `max(2.1, 2.6) = 2.6`\n",
    "\n",
    "At the end, `radiance = 2.6`"
   ]
  },
  {
   "cell_type": "markdown",
   "id": "raising-arizona",
   "metadata": {},
   "source": [
    "## Spot the Difference\n",
    "\n",
    "- Predict what each of the `print` statements in the program below will print\n",
    "- Does `max(len(rich), poor)` run or produce an error message?  If it runs, does its result make any sense?\n",
    "\n",
    "~~~python\n",
    "easy_string = \"abc\"\n",
    "print(max(easy_string))\n",
    "rich = \"gold\"\n",
    "poor = \"tin\"\n",
    "print(max(rich, poor))\n",
    "print(max(len(rich), len(poor)))\n",
    "~~~"
   ]
  },
  {
   "cell_type": "code",
   "execution_count": null,
   "id": "creative-ability",
   "metadata": {},
   "outputs": [],
   "source": []
  },
  {
   "cell_type": "code",
   "execution_count": null,
   "id": "alleged-europe",
   "metadata": {},
   "outputs": [],
   "source": []
  },
  {
   "cell_type": "markdown",
   "id": "democratic-passage",
   "metadata": {},
   "source": [
    "## Solution\n",
    "\n",
    "`max(len(rich), poor)` throws a TypeError. This turns into `max(4, 'tin')` and \n",
    "as we discussed earlier a string and integer cannot meaningfully be compared.\n",
    "\n",
    "## Why Not?\n",
    "Why don't `max` and `min` return `None` when they are given no arguments?\n",
    "\n",
    "## Solution\n",
    "`max` and `min` return TypeErrors in this case because the correct number of parameters\n",
    "was not supplied. If it just returned `None`, the error would be much harder to trace as it\n",
    "would likely be stored into a variable and used later in the program, only to likely throw\n",
    "a runtime error."
   ]
  },
  {
   "cell_type": "markdown",
   "id": "alpine-dominican",
   "metadata": {},
   "source": [
    "---\n",
    "## Summary of Key Points:\n",
    "- Use comments to add documentation to programs\n",
    "- A function may take zero or more arguments\n",
    "- Commonly-used built-in functions include `max`, `min`, and `round`\n",
    "- Functions may only work for certain (combinations of) arguments\n",
    "- Functions may have default values for some arguments\n",
    "- Use the built-in function `help` to get help for a function\n",
    "- The Jupyter Notebook has two ways to get help\n",
    "- Every function returns something\n",
    "- Python reports a syntax error when it can't understand the source of a program\n",
    "- Python reports a runtime error when something goes wrong while a program is executing\n",
    "- Fix syntax errors by reading the source code, and runtime errors by tracing the program's execution"
   ]
  },
  {
   "cell_type": "markdown",
   "id": "specified-accreditation",
   "metadata": {},
   "source": [
    "---\n",
    "This lesson is adapted from the [Software Carpentry](https://software-carpentry.org/lessons/) [Plotting and Programming in Python](http://swcarpentry.github.io/python-novice-gapminder/) workshop. \n",
    "\n",
    "Licensed under [CC-BY 4.0](https://creativecommons.org/licenses/by/4.0/) 2021 by Aaron J Newman"
   ]
  }
 ],
 "metadata": {
  "kernelspec": {
   "display_name": "Python 3",
   "language": "python",
   "name": "python3"
  },
  "language_info": {
   "codemirror_mode": {
    "name": "ipython",
    "version": 3
   },
   "file_extension": ".py",
   "mimetype": "text/x-python",
   "name": "python",
   "nbconvert_exporter": "python",
   "pygments_lexer": "ipython3",
   "version": "3.8.5"
  }
 },
 "nbformat": 4,
 "nbformat_minor": 5
}
