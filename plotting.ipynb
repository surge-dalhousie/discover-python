{
 "cells": [
  {
   "cell_type": "markdown",
   "metadata": {},
   "source": [
    "# Plotting\n",
    "\n",
    "---"
   ]
  },
  {
   "cell_type": "markdown",
   "metadata": {},
   "source": [
    "## Questions\n",
    "- How can I plot my data?\n",
    "- How can I save my plot for publishing?\n",
    "\n",
    "## Objectives\n",
    "- Create a time series plot showing a single data set.\n",
    "- Create a scatter plot showing relationship between two data sets.\n",
    "\n",
    "---"
   ]
  },
  {
   "cell_type": "markdown",
   "metadata": {},
   "source": [
    "<img src='images/matplotlib_logo.svg' alt='Matplotlib' width=250>\n",
    "\n",
    "[Matplotlib](https://matplotlib.org/) is, effectively, the core plotting and data visualization package in Python. Many other packages use Matplotlib for data visualization, including pandas, NumPy, and SciPy. Matplotlib is not the only visualization package in Python, by any means. There are many others, including [seaborn](https://seaborn.pydata.org), [Altair](https://altair-viz.github.io), [ggpy](http://yhat.github.io/ggpy/), [Bokeh](https://docs.bokeh.org/en/latest/index.html), and [plot.ly](https://plot.ly). Some of the others are actually built on top of Matplotlib, but simply the syntax for creating specific, complex types of graphics relative to what's required in Matplotlib (these are called **wrappers** for Matplotlib). Others are entirely independent. Regardless, Matplotlib is the most widely-used and flexible package for data visualization in Python, and so it's valuable to learn it first, and then build out your skills from there. \n",
    "\n",
    "Matplotlib is also a very mature Python package, having been first released in 2003 and continuously updated since then. It has a strong development community, a detailed website with extensive documentation and many examples, and there is copious third party documentation in the form of blog posts, books, and more — much of which is freely available.\n",
    "\n",
    "## History\n",
    "\n",
    "As documented by Matplotlib's original developer, John Hunter, the package was originally designed to emulate the plotting abilities of [Matlab](https://www.mathworks.com/products/matlab.html), in Python. Matlab is a commercial programming language and environment, designed for — and widely used by — engineers and scientists. Hunter was conducting electrocorticography (ECoG) research and initially worked in Matlab, but encountered limitations that he wanted to work around. Because Matlab is a commercial product, rather than an open source one, development is controlled by a company (Mathworks). Although developers can write quite extensive and complex applications in Matlab, they are ultimately limited by the decisions that its developers have made. Hunter decided to switch his work to use Python, and wanted to develop a plotting interface that was similar to that used in Matlab. Indeed, this is where the \"Mat\" part of the name Matplotlib came from. "
   ]
  },
  {
   "cell_type": "markdown",
   "metadata": {},
   "source": [
    "## Using Matplotlib\n",
    "\n",
    "We have previously covered how to import a Python package using the `import` command. We also covered how to import a package with an alias, using the syntax `import [pacakge] as [alias]` \n",
    "\n",
    "For Matplotlib, we will do this again, but we add an extra detail: Matplotlib, like many Python packages, is orgnized into a number of \"modules\" (essentially subsets of functions). The one that you will typically want to import for plotting is called `pyplot`. So we use the syntax below:\n",
    "\n",
    "~~~python\n",
    "import matplotlib.pyplot as plt\n",
    "~~~"
   ]
  },
  {
   "cell_type": "code",
   "execution_count": null,
   "metadata": {},
   "outputs": [],
   "source": []
  },
  {
   "cell_type": "markdown",
   "metadata": {},
   "source": [
    "Now we can draw a simple line plot using the `matplotlib.pyplot.plot()` function, by creating two lists of data points (each 4 elements long), which represent time elapsed and distance traveled by some hypothetical object:\n",
    "\n",
    "~~~python\n",
    "time = [0, 1, 2, 3]\n",
    "position = [0, 100, 200, 300]\n",
    "\n",
    "plt.plot(time, position)\n",
    "~~~"
   ]
  },
  {
   "cell_type": "code",
   "execution_count": null,
   "metadata": {
    "collapsed": false,
    "jupyter": {
     "outputs_hidden": false
    }
   },
   "outputs": [],
   "source": []
  },
  {
   "cell_type": "markdown",
   "metadata": {
    "jupyter": {
     "outputs_hidden": false
    }
   },
   "source": [
    "You can see above that we used the Matplotlib alias `plt` followed by the name of a specific function in the package, `plot()`.\n",
    "\n",
    "Another thing to note is that above the plot is some text, something like: `[<matplotlib.lines.Line2D at 0x7f72bc26ce20>]`. This is part of the output of the `plt.plot()` command, but typically not something that we care to see. We can generate the plot without this extra output, by including the command `plt.show()` at the end of the cell. Recall that Jupyter only shows the output of the last output-generating command in a cell, and `plt.show()` shows the plot without the extra text:\n",
    "~~~python\n",
    "# since we defined time and position above, no need to re-assign them here\n",
    "plt.plot(time, position)\n",
    "plt.show()\n",
    "~~~"
   ]
  },
  {
   "cell_type": "code",
   "execution_count": null,
   "metadata": {},
   "outputs": [],
   "source": []
  },
  {
   "cell_type": "markdown",
   "metadata": {
    "jupyter": {
     "outputs_hidden": false
    }
   },
   "source": [
    "Matplotlib also allows us to modify the plot in many ways, which can improve the interpretability of a plot. For example, it's always good practice to label the axes of a plot. \n",
    "\n",
    "In most cases, the way we modify or enhance a Matplotlib plot are not by adding arguments to the `.plot()` command, but executing additional commands after `.plot()` that modify what was created by `.plot()`, culminating in the `plt.show()` command for the \"final reveal\":\n",
    "~~~python\n",
    "plt.plot(time, position)\n",
    "plt.xlabel('Time (hr)')\n",
    "plt.ylabel('Position (km)')\n",
    "plt.show()\n",
    "~~~"
   ]
  },
  {
   "cell_type": "code",
   "execution_count": null,
   "metadata": {},
   "outputs": [],
   "source": []
  },
  {
   "cell_type": "markdown",
   "metadata": {},
   "source": [
    "## Plotting pandas DataFrames\n",
    "\n",
    "pandas is integrated with Matplotlib, making it easy to generate plots of data stored in pandas DataFrames. \n",
    "\n",
    "Let's try this by first importing pandas and loading in the Gapminder Oceania data (`data/gapminder_gdp_oceania.csv`):\n",
    "\n",
    "~~~python\n",
    "import pandas as pd\n",
    "\n",
    "data = pd.read_csv('data/gapminder_gdp_oceania.csv', index_col='country')\n",
    "~~~"
   ]
  },
  {
   "cell_type": "code",
   "execution_count": null,
   "metadata": {},
   "outputs": [],
   "source": []
  },
  {
   "cell_type": "markdown",
   "metadata": {},
   "source": [
    "Let's see what this DataFrame looks like:\n",
    "~~~python\n",
    "data\n",
    "~~~"
   ]
  },
  {
   "cell_type": "code",
   "execution_count": null,
   "metadata": {
    "collapsed": false,
    "jupyter": {
     "outputs_hidden": false
    }
   },
   "outputs": [],
   "source": []
  },
  {
   "cell_type": "markdown",
   "metadata": {
    "jupyter": {
     "outputs_hidden": false
    }
   },
   "source": [
    "## Renaming Columns\n",
    "Our goal is to plot the GDP for a particular country (or countries), as a function of year. The integration of pandas and Matplotlib will automatically use the indexes and column labels of a DataFrame for the axes of the plot. In labelling our *x* axis, it would be nice to display the actual years. We can get this from the column names in the DataFrame, but the column names in the Gapminder data sets include more text than just the year — the year is preceded by `gdpPercap_`, e.g., `gdpPercap_1972`. Since the year is always the last 4 characters in a column name, we can use the `.strip()` method, which removes from the string the characters stated in the argument. This method works on strings, so we call `str` before `.strip()`:\n",
    "\n",
    "~~~python\n",
    "years = data.columns.str.strip('gdpPercap_')\n",
    "\n",
    "# Convert year values to integers, saving results back to dataframe\n",
    "\n",
    "data.columns = years.astype(int)\n",
    "~~~"
   ]
  },
  {
   "cell_type": "code",
   "execution_count": null,
   "metadata": {},
   "outputs": [],
   "source": []
  },
  {
   "cell_type": "markdown",
   "metadata": {},
   "source": [
    "Look at the DataFrame now, to see the result:"
   ]
  },
  {
   "cell_type": "code",
   "execution_count": null,
   "metadata": {
    "collapsed": false,
    "jupyter": {
     "outputs_hidden": false
    }
   },
   "outputs": [],
   "source": []
  },
  {
   "cell_type": "markdown",
   "metadata": {
    "jupyter": {
     "outputs_hidden": false
    }
   },
   "source": [
    "## Extracting subsets of data from a DataFrame\n",
    "\n",
    "An important skill to learn is how to specify, and extract, specific subsets of data from an entire DataFrame, which can often contain hundreds of thousands, or even millions, of data points. In plotting, we need to specify what we want on the *x* and *y* axes of our figure.\n",
    "\n",
    "To do this, we can create new variables comprising only the parts of the DataFrame that we want to use as the *x* and *y* axes. Below we assign the `.columns` property of the DataFrame (the names of all the columns) to `years`, and we use `.loc[]` to select only the data in the `Australia` row, assigning this to `gdp_australia`.\n",
    "\n",
    "\n",
    "~~~python\n",
    "years = data.columns\n",
    "gdp_australia = data.loc['Australia']\n",
    "~~~"
   ]
  },
  {
   "cell_type": "markdown",
   "metadata": {
    "jupyter": {
     "outputs_hidden": false
    }
   },
   "source": [
    "Now, we can use these two variables as inputs to the `plt.plot()` command.\n",
    "\n",
    "~~~python\n",
    "plt.plot(years, gdp_australia)\n",
    "plt.show()\n",
    "~~~"
   ]
  },
  {
   "cell_type": "markdown",
   "metadata": {},
   "source": [
    "## Customizing plots\n",
    "\n",
    "Matplotlib gives you an incredible amount of flexibility in how your plot looks. For example, we can specify the colour of the line using the keyword argument `color=`, along with a [colour name](https://matplotlib.org/3.1.0/gallery/color/named_colors.html). For example:\n",
    "\n",
    "~~~python\n",
    "plt.plot(years, gdp_australia, color='lightseagreen')\n",
    "plt.show()\n",
    "~~~"
   ]
  },
  {
   "cell_type": "code",
   "execution_count": null,
   "metadata": {},
   "outputs": [],
   "source": []
  },
  {
   "cell_type": "markdown",
   "metadata": {},
   "source": [
    "We can also specify the [line *style*](https://matplotlib.org/2.0.2/api/lines_api.html#matplotlib.lines.Line2D.set_linestyle), such as solid, dashed, dotted, etc.: \n",
    "\n",
    "~~~python\n",
    "plt.plot(years, gdp_australia, color='darkorchid', linestyle=':')\n",
    "plt.show()\n",
    "~~~"
   ]
  },
  {
   "cell_type": "code",
   "execution_count": null,
   "metadata": {},
   "outputs": [],
   "source": []
  },
  {
   "cell_type": "markdown",
   "metadata": {},
   "source": [
    "---\n",
    "\n",
    "### Keyword arguments\n",
    "\n",
    "`color=` and `linestyle=` are a particular kind of argument to a function, called a *keyword argument* (or *kwarg*). Recall that arguments are information provided to a function that alter how it runs. kwargs are arguments that use a keyword (in this case, `kind`), followed by the `=` sign, followed by a value to pass to the argument. kwargs are commonly used for optional arguments. A Python function that takes multiple arguments needs to know how to interpret each argument. Mandatory arguments typically are required to be listed in a particular order, which allows the function to know how to interpret each one. However, optional arguments might not occur, so order would not be a good way of determining the meaning of the argument. The keywords allow the function to know how to interpret each kwarg.\n"
   ]
  },
  {
   "cell_type": "markdown",
   "metadata": {
    "jupyter": {
     "outputs_hidden": false
    }
   },
   "source": [
    "# Plotting directly from a pandas DataFrame\n",
    "\n",
    "The above method works well, but it's not terribly efficient: we have to define variables for each of our axes, and then run a plot command. It turns out pandas has a set of methods that allow you to generate Matplotlib plots. Recall that methods are applied to an input by specifying the name of the data (DataFrame) followed by the command. So for example we can plot our Oceania DataFrame using `data.plot()`:\n",
    "\n",
    "~~~python\n",
    "data.plot()\n",
    "plt.show()\n",
    "~~~"
   ]
  },
  {
   "cell_type": "code",
   "execution_count": null,
   "metadata": {},
   "outputs": [],
   "source": []
  },
  {
   "cell_type": "markdown",
   "metadata": {},
   "source": [
    "What happened here? \n",
    "\n",
    "We can see from the legend that Python generated a line for each year in the data set, with country on the *x* axis. This is because **by default, Matplotlib will use the rows of a DataFrame as the *x* axis**, and use columns to define the groupings that define individual lines. But in our DataFrame, the rows (indexes) are the countries. \n",
    "\n",
    "We can change this by transposing rows and columns in the DataFrame, using the `.T` operator as we saw in a pervious lesson:\n",
    "\n",
    "~~~python\n",
    "data.T.plot()\n",
    "plt.show()\n",
    "~~~"
   ]
  },
  {
   "cell_type": "code",
   "execution_count": null,
   "metadata": {},
   "outputs": [],
   "source": []
  },
  {
   "cell_type": "markdown",
   "metadata": {},
   "source": [
    "You can see above that pandas + Matplotlib also recognizes the index of the DataFrame as labels, so a legend is automatically generated with the country names."
   ]
  },
  {
   "cell_type": "markdown",
   "metadata": {
    "jupyter": {
     "outputs_hidden": false
    }
   },
   "source": [
    "### Selecting subsets of a DataFrame\n",
    "\n",
    "Above we selected onlyl the data from Australia using `.loc[]`, and assigned that to `gdp_australia`. But more efficiently, using the pandas `.plot()` method, we can *chain* together the `.loc[]` selector and the `.plot()` method to select the relevant data 'on the fly' rather than first defining a variable to hold that data. \n",
    "\n",
    "For example we can plot the data for a specific country (Australia), by selecting it using the `.loc[]` method to select the index `Australia`:\n",
    "\n",
    "~~~python\n",
    "data.loc['Australia'].plot(color='y', linestyle='--')\n",
    "plt.show()\n",
    "~~~"
   ]
  },
  {
   "cell_type": "code",
   "execution_count": null,
   "metadata": {},
   "outputs": [],
   "source": []
  },
  {
   "cell_type": "markdown",
   "metadata": {
    "jupyter": {
     "outputs_hidden": false
    }
   },
   "source": [
    "## Types of plots\n",
    "\n",
    "Matplotlib will make some assumptions about how to plot your data, based on the types of values it is given. However, you can override these defaults by specifying the type of plot you desire. For example, we can plot the same Gapminder data as bars, by using the keyword argument `kind='bar'`:\n",
    "\n",
    "~~~python\n",
    "data.T.plot(kind='bar')\n",
    "plt.ylabel('GDP per capita')\n",
    "plt.show()\n",
    "~~~"
   ]
  },
  {
   "cell_type": "code",
   "execution_count": null,
   "metadata": {},
   "outputs": [],
   "source": []
  },
  {
   "cell_type": "markdown",
   "metadata": {},
   "source": [
    "Something to get used to is that some plot styles can be defined as keyword arguments to `.plot()`, as above, others can be generated using subfunctions of `.plot`, such as `.plot.scatter()`, as below. Often, you can use either one to get the same result. It's often the case in Python that there are many different ways to do the same thing! \n",
    "\n",
    "Below we generate a *scatterplot* to examine whether the two Oceania countries' GDPs correlate. This requires a differnt type of selection from the plots above, because here we want to use the data from one row as the *x* axis, and another row as the *y* axis — rather than using rows for groups and columns for the *x* axis. Fortunately, the pandas `.plot.scatter()` method recognizes our row names (indexes) so we just have to specify their names:\n",
    "\n",
    "~~~python\n",
    "data.T.plot.scatter(x='Australia', y='New Zealand')\n",
    "plt.ylabel('GDP per capita')\n",
    "plt.title('Relationship between GDP of Australia and New Zealand')\n",
    "plt.show()\n",
    "~~~"
   ]
  },
  {
   "cell_type": "code",
   "execution_count": null,
   "metadata": {},
   "outputs": [],
   "source": []
  },
  {
   "cell_type": "markdown",
   "metadata": {
    "jupyter": {
     "outputs_hidden": false
    }
   },
   "source": [
    "## Customizing plots\n",
    "\n",
    "Matplotlib offers many ways of customizing plots. One powerful was is using [*style sheets*](https://matplotlib.org/3.1.0/gallery/style_sheets/style_sheets_reference.html). These can be thought of as different colour schemes or templates for plots, which control many aspects of the plot appearance —  without the user needing to specify colours and styles for each line, or other details. This is done with a command telling Matplotlib which style to use, with the `plt.style.use()` function — which is run prior to the plot command. For instance, we can use the `ggplot` style sheet to format plots similar to *R*'s [`ggplot2`](https://ggplot2.tidyverse.org/index.html) library:\n",
    "\n",
    "~~~python\n",
    "plt.style.use('ggplot')\n",
    "data.T.plot()\n",
    "plt.show()\n",
    "~~~"
   ]
  },
  {
   "cell_type": "code",
   "execution_count": null,
   "metadata": {},
   "outputs": [],
   "source": []
  },
  {
   "cell_type": "markdown",
   "metadata": {
    "jupyter": {
     "outputs_hidden": false
    }
   },
   "source": [
    "One thing to keep in mind about style sheets is that one you set one using the `plt.style.use()` command, *every* subsequent plot you generate with Matplotlib will use that style, until you specify a new style. This is often desirable, as consistency in plot appearance is generally good practice. But it can come as a surprise to new users. \n",
    "\n",
    "For example, if we execute exactly the same commands as above to generate a bar plot, it also inherits the `ggplot` style that we set:\n",
    "\n",
    "~~~python\n",
    "data.T.plot(kind='bar')\n",
    "plt.ylabel('GDP per capita')\n",
    "plt.show()\n",
    "~~~"
   ]
  },
  {
   "cell_type": "code",
   "execution_count": null,
   "metadata": {},
   "outputs": [],
   "source": []
  },
  {
   "cell_type": "markdown",
   "metadata": {
    "jupyter": {
     "outputs_hidden": false
    }
   },
   "source": [
    "You can always revert to Matplotlib's default style by setting the style to `default`:\n",
    "\n",
    "~~~python\n",
    "plt.style.use('default')\n",
    "data.T.plot(kind='bar')\n",
    "plt.ylabel('GDP per capita')\n",
    "plt.show()\n",
    "~~~"
   ]
  },
  {
   "cell_type": "code",
   "execution_count": null,
   "metadata": {},
   "outputs": [],
   "source": []
  },
  {
   "cell_type": "markdown",
   "metadata": {},
   "source": [
    "## Procedural versus Object-Oriented Plotting\n",
    "\n",
    "One of the most confusing things about learning Matplotlib is that it supports two fundamentally different ways of approaching plotting. These reflect two fundamentally different approaches used by different programming languages: *procedural* and *object-oriented*. Without going on too much of a tangent about this topic, we'll explain the essential differences below. \n",
    "\n",
    "Python is an object-oriented language, however Matlab is a functional language. Thus in pursuing its initial goal of emulating Matlab's plotting functions, Matplotlib implemented a functional approach to generating plots. Subsequently however, an object-oriented approach was implemented as well. This means that when you encounter examples using Matplotlib \"in the wild\" — be that other people's code, tutorials, blog posts, etc. — you may see two rather different ways of doing the same thing, often with what may appear to be only subtle differences in the code. However, the two approaches are fundamentally different, and thus attempts to use snippets of code that you see in some examples may create errors, if you attempt to combine Matplotlib's functional and object-oriented approaches to generate a single figure. This is why we are addressing why may seem like a relatively esoteric topic in an introductory workshop.\n",
    "\n",
    "**Procedural programming** is based around variables, data structures, and procedures — ways of operating on variables and data structures. In contrast, **object-oriented programming** is based around **objects**, which can have both data and methods in them. For example, pandas DataFrames are objects — they contain data, but they also have a set of methods that can operate on the data (e.g., `df.plot()`, `df.merge()`). The object-oriented approach is preferred because it is consistent with the rest of Python. That said, either way is acceptable; the most important thing is understanding the differences so as to avoid mixing the two and getting errors. "
   ]
  },
  {
   "cell_type": "markdown",
   "metadata": {},
   "source": [
    "### Procedural Approach\n",
    "\n",
    "The procedural approach was introduced above in generating our first Matplotlib plots. Essentially, in the procedural approach you use the `plt.plot()` command to generate a plot, and then use additional `plt.` functions to fine-tune it, such as adding axis labels, culminating in `plot.show()` to draw the plot."
   ]
  },
  {
   "cell_type": "markdown",
   "metadata": {},
   "source": [
    "### Object-Oriented Approach\n",
    "In contrast, the object-oriented approach involves starting by creating an instance of a Matplotlib `Figure` *object* and assigning it to a variable name (by convention, `fig`). Matplotlib allows a figure to contain more than one subplot; the set of subplots in a figure are called **axes** (each of the axes has an *x*-axis and a *y*-axis). Thus in creating a `Figure` object we need to assign it to a variable for the figure, and a list of the axes objects in the figure. Then we use methods on the individual axes to plot and modify the contents of each subplot. \n",
    "\n",
    "Thus to create a figure using the object-oriented approach, we can use the `plot.subplots()` command and assign its outputs to `fig` and `ax`: \n",
    "\n",
    "    fig, ax = plt.subplots()\n",
    "\n",
    "It may seem confusing to use a command called `plt.subplots()` if we only want a single plot, but it is good practice to use this by default, so that you don't have to remember different commands for creating figures with one versus many subplots.\n",
    "~~~python\n",
    "fig, ax = plt.subplots()\n",
    "ax.plot(time, position)\n",
    "ax.set_title('Position over time')\n",
    "plt.show()\n",
    "~~~"
   ]
  },
  {
   "cell_type": "code",
   "execution_count": null,
   "metadata": {},
   "outputs": [],
   "source": []
  },
  {
   "cell_type": "markdown",
   "metadata": {},
   "source": [
    "Although `plt.plot()` and `ax.plot()` look like similar commands, it's important to understand that they are actually very different: `plt.plot()` is a *function* that is part of the `plt` (`matplotlib.pyplot`) family of functions, whereas in `ax.plot()`, `ax` is a Matplotlib `Axes` object that we created, and `.plot()` is a *method* available to all `Figure` objects. This may become clearer if we note that rather than `fig`, we could assign the `Figure` object to any variable name we like, such as:\n",
    "~~~python\n",
    "my_long_figure_name, my_long_axes_name = plt.subplots()\n",
    "my_long_axes_name.plot(time, position)\n",
    "my_long_axes_name.set_title('This is a figure')\n",
    "plt.show()\n",
    "~~~"
   ]
  },
  {
   "cell_type": "code",
   "execution_count": null,
   "metadata": {},
   "outputs": [],
   "source": []
  },
  {
   "cell_type": "markdown",
   "metadata": {},
   "source": [
    "---\n",
    "## Exercises"
   ]
  },
  {
   "cell_type": "markdown",
   "metadata": {},
   "source": [
    "### Functional vs. Object-Oriented plotting\n",
    "\n",
    "The difference between procedural and object-oriented approaches also explains why certain commands are different, such as `plt.title()` versus `ax.set_title()`. In the object-oriented approach, we are setting the `title` property of the `ax` object, rather than just specifying the title of the plot. Indeed, having run `ax.set_title()` above, we can ask for the `title` property of the object with `ax.title` (note the lack of parentheses `()` after `.title` — recall that parentheses are used for object *methods*, but not object *properties*):\n",
    "~~~python\n",
    "ax.title\n",
    "~~~"
   ]
  },
  {
   "cell_type": "code",
   "execution_count": null,
   "metadata": {},
   "outputs": [],
   "source": []
  },
  {
   "cell_type": "markdown",
   "metadata": {},
   "source": [
    "Whereas doing the same thing with `plt.title` tells us that this is a function, and what arguments it takes, rather than returning the title we set with `plt.title()` above:\n",
    "~~~python\n",
    "plt.title\n",
    "~~~"
   ]
  },
  {
   "cell_type": "code",
   "execution_count": null,
   "metadata": {},
   "outputs": [],
   "source": []
  },
  {
   "cell_type": "markdown",
   "metadata": {},
   "source": [
    "### Minima and Maxima \n",
    "\n",
    "Fill in the blanks below to plot the minimum GDP per capita over time for all the countries in Europe. Modify it again to plot the maximum GDP per capita over time for Europe."
   ]
  },
  {
   "cell_type": "code",
   "execution_count": null,
   "metadata": {
    "collapsed": false,
    "jupyter": {
     "outputs_hidden": false
    }
   },
   "outputs": [],
   "source": [
    "data_europe = pd.read_csv('data/gapminder_gdp_europe.csv', index_col='country')\n",
    "data_europe.____.plot(label='min')\n",
    "data_europe.____\n",
    "plt.legend(loc='best')\n",
    "plt.xticks(rotation=90)"
   ]
  },
  {
   "cell_type": "code",
   "execution_count": null,
   "metadata": {
    "collapsed": false,
    "jupyter": {
     "outputs_hidden": false
    }
   },
   "outputs": [],
   "source": [
    "###BEGIN SOLUTION\n",
    "data_europe = pd.read_csv('data/gapminder_gdp_europe.csv', index_col='country')\n",
    "data_europe.min().plot(label='min')\n",
    "data_europe.max().plot(label='max')\n",
    "plt.legend(loc='best')\n",
    "plt.xticks(rotation=90)\n",
    "###END SOLUTION"
   ]
  },
  {
   "cell_type": "markdown",
   "metadata": {},
   "source": [
    "### Correlations\n",
    "\n",
    "Modify the example in the notes to create a scatter plot showing the relationship between the minimum and maximum GDP per capita among the countries in Asia for each year in the data set. What relationship do you see (if any)?\n"
   ]
  },
  {
   "cell_type": "code",
   "execution_count": 43,
   "metadata": {
    "collapsed": false,
    "jupyter": {
     "outputs_hidden": false
    }
   },
   "outputs": [
    {
     "data": {
      "text/plain": [
       "<AxesSubplot:xlabel='min', ylabel='max'>"
      ]
     },
     "execution_count": 43,
     "metadata": {},
     "output_type": "execute_result"
    },
    {
     "data": {
      "image/png": "[encoded data removed]",
      "text/plain": [
       "<Figure size 640x480 with 1 Axes>"
      ]
     },
     "execution_count": 43,
     "metadata": {
      "image/png": {
       "height": 432,
       "width": 598
      }
     },
     "output_type": "execute_result"
    }
   ],
   "source": [
    "data_asia = pd.read_csv('data/gapminder_gdp_asia.csv', index_col='country')\n",
    "data_asia.describe().T.plot(kind='scatter', x='min', y='max')"
   ]
  },
  {
   "cell_type": "markdown",
   "metadata": {},
   "source": [
    "You might note that the variability in the maximum is much higher than that of the minimum. Take a look at the maximum and the max indexes:"
   ]
  },
  {
   "cell_type": "code",
   "execution_count": null,
   "metadata": {
    "collapsed": false,
    "jupyter": {
     "outputs_hidden": false
    }
   },
   "outputs": [],
   "source": [
    "data_asia = pd.read_csv('data/gapminder_gdp_asia.csv', index_col='country')\n",
    "data_asia.max().plot()\n",
    "print(data_asia.idxmax())\n",
    "print(data_asia.idxmin())"
   ]
  },
  {
   "cell_type": "markdown",
   "metadata": {},
   "source": [
    "### More Correlations\n",
    "\n",
    "This short program creates a plot showing the correlation between GDP and life expectancy for 2007, normalizing marker size by population:"
   ]
  },
  {
   "cell_type": "code",
   "execution_count": null,
   "metadata": {
    "collapsed": false,
    "jupyter": {
     "outputs_hidden": false
    }
   },
   "outputs": [],
   "source": [
    "data_all = pd.read_csv('data/gapminder_all.csv', index_col='country')\n",
    "data_all.plot(kind='scatter', x='gdpPercap_2007', y='lifeExp_2007',\n",
    "              s=data_all['pop_2007']/1e6)"
   ]
  },
  {
   "cell_type": "markdown",
   "metadata": {},
   "source": [
    "Using online help and other resources, explain what each argument to plot does."
   ]
  },
  {
   "cell_type": "markdown",
   "metadata": {},
   "source": []
  },
  {
   "cell_type": "markdown",
   "metadata": {},
   "source": [
    "## Saving your plot to a file\n",
    "\n",
    "If you are satisfied with the plot you see you may want to save it to a file, perhaps to include it in a publication. There is a function in the matplotlib.pyplot module that accomplishes this: savefig. Calling this function, e.g. with\n",
    "\n",
    "    plt.savefig('my_figure.png')\n",
    "\n",
    "will save the current figure to the file `my_figure.png`. The file format will automatically be deduced from the file name extension (other formats are pdf, ps, eps and svg).\n",
    "\n",
    "Note that functions in `plt` refer to a global figure variable and after a figure has been displayed to the screen (e.g. with `plt.show`) matplotlib will make this variable refer to a new empty figure. Therefore, make sure you call `plt.savefig` before the plot is displayed to the screen, otherwise you may find a file with an empty plot.\n",
    "\n",
    "When using dataframes, data is often generated and plotted to screen in one line, and `plt.savefig` seems not to be a possible approach. One possibility to save the figure to file is then to save a reference to the current figure in a local variable (with `plt.gcf`) call the `savefig` class method from that variable.\n",
    "\n",
    "    fig = plt.gcf() # get current figure\n",
    "    data.plot(kind='bar')\n",
    "    fig.savefig('my_figure.png')"
   ]
  },
  {
   "cell_type": "code",
   "execution_count": null,
   "metadata": {},
   "outputs": [],
   "source": []
  },
  {
   "cell_type": "markdown",
   "metadata": {},
   "source": [
    "### Making your plots accessible\n",
    "\n",
    "Whenever you are generating plots to go into a paper or a presentation, there are a few things you can do to make sure that everyone can understand your plots:\n",
    "- Always make sure your text is large enough to read. Use the `fontsize` parameter in `xlabel`, `ylabel`, `title`, and `legend`, and `tick_params` with `labelsize` to increase the text size of the numbers on your axes.\n",
    "- Similarly, you should make your graph elements easy to see. Use `s` to increase the size of your scatterplot markers and `linewidth` to increase the sizes of your plot lines.\n",
    "- Using `color` (and nothing else) to distinguish between different plot elements will make your plots *unreadable* to anyone who is colorblind, or who happens to have a black-and-white office printer. For lines, the `linestyle` parameter lets you use different types of lines. For scatterplots, `marker` lets you change the shape of your points. If you’re unsure about your colors, you can use [Coblis](https://www.color-blindness.com/coblis-color-blindness-simulator/) or [Color Oracle](https://colororacle.org/) to simulate what your plots would look like to those with colorblindness.\n",
    "\n",
    "One easy way to increase the accessibility of your plots for different formats are a set of Matplotlib style sheets borrowed from the `seaborn` package. These include `seaborn-poster` for conference posters, and `seaborn-talk` for slide presentations.\n"
   ]
  },
  {
   "cell_type": "code",
   "execution_count": 52,
   "metadata": {
    "collapsed": false,
    "jupyter": {
     "outputs_hidden": false
    }
   },
   "outputs": [],
   "source": [
    "plt.style.use('seaborn-talk')"
   ]
  },
  {
   "cell_type": "code",
   "execution_count": 53,
   "metadata": {
    "collapsed": false,
    "jupyter": {
     "outputs_hidden": false
    }
   },
   "outputs": [
    {
     "data": {
      "image/png": "[encoded data removed]",
      "text/plain": [
       "<Figure size 1040x715 with 1 Axes>"
      ]
     },
     "execution_count": 53,
     "metadata": {
      "image/png": {
       "height": 634,
       "width": 926
      }
     },
     "output_type": "execute_result"
    }
   ],
   "source": [
    "data.T.plot(kind='bar')\n",
    "plt.ylabel('GDP per capita')\n",
    "plt.show()"
   ]
  },
  {
   "cell_type": "markdown",
   "metadata": {},
   "source": [
    "You can see above that pandas + Matplotlib also recognizes the index of the DataFrame as labels, so a legend is automatically generated with the country names."
   ]
  },
  {
   "cell_type": "markdown",
   "metadata": {},
   "source": [
    "---\n",
    "## Key Points\n",
    "\n",
    "- Matplotlib is the most widely used scientific plotting library in Python.\n",
    "- Methods allow you to plot data directly from a pandas dataframe.\n",
    "- It is common to need to select and transform data, then plot it.\n",
    "- Many styles of plot are available: see the [Python Graph Gallery](https://python-graph-gallery.com/matplotlib/) for more options.\n",
    "- It's possible to plot many sets of data together\n",
    "- Matplotlib allows either procedural or object-oriented approaches to plotting. It's important to be aware of this, and be able to identify which one is being used, especially when trying to using online examples in your own code."
   ]
  },
  {
   "cell_type": "markdown",
   "metadata": {},
   "source": [
    "---\n",
    "This lesson is adapted from the [Software Carpentry](https://software-carpentry.org/lessons/) [Plotting and Programming in Python](http://swcarpentry.github.io/python-novice-gapminder/) workshop. \n",
    "\n",
    "Licensed under [CC-BY 4.0](https://creativecommons.org/licenses/by/4.0/) 2021 by [SURGE](https://github.com/surge-dalhousie)"
   ]
  }
 ],
 "metadata": {
  "kernelspec": {
   "display_name": "Python 3",
   "language": "python",
   "name": "python3"
  },
  "language_info": {
   "codemirror_mode": {
    "name": "ipython",
    "version": 3
   },
   "file_extension": ".py",
   "mimetype": "text/x-python",
   "name": "python",
   "nbconvert_exporter": "python",
   "pygments_lexer": "ipython3",
   "version": "3.8.5"
  }
 },
 "nbformat": 4,
 "nbformat_minor": 4
}
