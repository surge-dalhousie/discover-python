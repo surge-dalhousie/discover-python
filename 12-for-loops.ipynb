{
 "cells": [
  {
   "cell_type": "markdown",
   "metadata": {},
   "source": [
    "# `for` Loops"
   ]
  },
  {
   "cell_type": "markdown",
   "metadata": {},
   "source": [
    "## Questions:\n",
    "- How can I make a program do many things?\n",
    "\n",
    "## Learning Objectives:\n",
    "- Explain what for loops are normally used for.\n",
    "- Trace the execution of a simple (unnested) loop and correctly state the values of variables in each iteration.\n",
    "- Write for loops that use the Accumulator pattern to aggregate values.\n",
    "\n"
   ]
  },
  {
   "cell_type": "markdown",
   "metadata": {},
   "source": [
    "## A *for loop* executes commands once for each value in a collection.\n",
    "\n",
    "*   Doing calculations on the values in a list one by one\n",
    "    is as painful as working with `pressure_001`, `pressure_002`, etc.\n",
    "*   A *for loop* tells Python to execute some statements once for each value in a list,\n",
    "    a character string,\n",
    "    or some other collection.\n",
    "*   \"for each thing in this group, do these operations\"\n",
    "\n",
    "~~~python\n",
    "for number in [2, 3, 5]:\n",
    "    print(number)\n",
    "~~~\n",
    "\n"
   ]
  },
  {
   "cell_type": "code",
   "execution_count": null,
   "metadata": {},
   "outputs": [],
   "source": []
  },
  {
   "cell_type": "markdown",
   "metadata": {},
   "source": [
    "*   This `for` loop is equivalent to:\n",
    "\n",
    "~~~python\n",
    "print(2)\n",
    "print(3)\n",
    "print(5)\n",
    "~~~\n",
    "\n"
   ]
  },
  {
   "cell_type": "markdown",
   "metadata": {},
   "source": [
    "*   And the `for` loop's output is:\n",
    "\n",
    "~~~\n",
    "2\n",
    "3\n",
    "5\n",
    "~~~\n",
    "\n"
   ]
  },
  {
   "cell_type": "code",
   "execution_count": null,
   "metadata": {},
   "outputs": [],
   "source": []
  },
  {
   "cell_type": "markdown",
   "metadata": {},
   "source": [
    "## A `for` loop is made up of a collection, a loop variable, and a body.\n",
    "\n",
    "~~~python\n",
    "for number in [2, 3, 5]:\n",
    "    print(number)\n",
    "~~~\n",
    "\n"
   ]
  },
  {
   "cell_type": "code",
   "execution_count": null,
   "metadata": {},
   "outputs": [],
   "source": []
  },
  {
   "cell_type": "markdown",
   "metadata": {},
   "source": [
    "*   The collection, `[2, 3, 5]`, is what the loop is being run on.\n",
    "*   The body, `print(number)`, specifies what to do for each value in the collection.\n",
    "*   The loop variable, `number`, is what changes for each *iteration* of the loop.\n",
    "    *   The \"current thing\".\n",
    "\n"
   ]
  },
  {
   "cell_type": "markdown",
   "metadata": {},
   "source": [
    "## The first line of the `for` loop must end with a colon, and the body must be indented.\n",
    "\n",
    "*   The colon at the end of the first line signals the start of a *block* of statements.\n",
    "*   Python uses indentation rather than `{}` or `begin`/`end` to show *nesting*.\n",
    "    *   Any consistent indentation is legal, but almost everyone uses four spaces.\n",
    "\n",
    "~~~python\n",
    "for number in [2, 3, 5]:\n",
    "print(number)\n",
    "~~~\n",
    "\n"
   ]
  },
  {
   "cell_type": "code",
   "execution_count": null,
   "metadata": {},
   "outputs": [],
   "source": []
  },
  {
   "cell_type": "markdown",
   "metadata": {},
   "source": [
    "*   Indentation is always meaningful in Python.\n",
    "\n",
    "~~~python\n",
    "firstName = \"Jon\"\n",
    "  lastName = \"Smith\"\n",
    "~~~\n",
    "\n"
   ]
  },
  {
   "cell_type": "code",
   "execution_count": null,
   "metadata": {},
   "outputs": [],
   "source": []
  },
  {
   "cell_type": "markdown",
   "metadata": {},
   "source": [
    "*   This error can be fixed by removing the extra spaces\n",
    "    at the beginning of the second line."
   ]
  },
  {
   "cell_type": "markdown",
   "metadata": {},
   "source": [
    "## Loop variables can be called anything.\n",
    "\n",
    "*   As with all variables, loop variables are:\n",
    "    *   Created on demand.\n",
    "    *   Meaningless: their names can be anything at all.\n",
    "\n",
    "~~~python\n",
    "for kitten in [2, 3, 5]:\n",
    "    print(kitten)\n",
    "~~~\n"
   ]
  },
  {
   "cell_type": "code",
   "execution_count": null,
   "metadata": {},
   "outputs": [],
   "source": []
  },
  {
   "cell_type": "markdown",
   "metadata": {},
   "source": [
    "## The body of a loop can contain many statements.\n",
    "\n",
    "~~~python\n",
    "primes = [2, 3, 5]\n",
    "for p in primes:\n",
    "    squared = p ** 2\n",
    "    cubed = p ** 3\n",
    "    print(p, squared, cubed)\n",
    "~~~\n",
    "\n"
   ]
  },
  {
   "cell_type": "code",
   "execution_count": null,
   "metadata": {},
   "outputs": [],
   "source": []
  },
  {
   "cell_type": "markdown",
   "metadata": {},
   "source": [
    "## Use `range` to iterate over a sequence of numbers.\n",
    "\n",
    "*   The built-in function [`range`](https://docs.python.org/3/library/stdtypes.html#range) produces a sequence of numbers.\n",
    "    *   *Not* a list: the numbers are produced on demand\n",
    "        to make looping over large ranges more efficient.\n",
    "*   `range(N)` is the numbers 0..N-1\n",
    "    *   Exactly the legal indices of a list or character string of length N\n",
    "\n",
    "~~~python\n",
    "print('a range is not a list: range(0, 3)')\n",
    "for number in range(0, 3):\n",
    "    print(number)\n",
    "~~~\n",
    "\n"
   ]
  },
  {
   "cell_type": "code",
   "execution_count": null,
   "metadata": {},
   "outputs": [],
   "source": []
  },
  {
   "cell_type": "markdown",
   "metadata": {},
   "source": [
    "## The Accumulator pattern turns many values into one.\n",
    "\n",
    "*   A common pattern in programs is to:\n",
    "    1.  Initialize an *accumulator* variable to zero, the empty string, or the empty list.\n",
    "    2.  Update the variable with values from a collection.\n",
    "\n",
    "~~~python\n",
    "# Sum the first 10 integers.\n",
    "total = 0\n",
    "for number in range(10):\n",
    "   total = total + (number + 1)\n",
    "print(total)\n",
    "~~~\n",
    "\n"
   ]
  },
  {
   "cell_type": "code",
   "execution_count": null,
   "metadata": {},
   "outputs": [],
   "source": []
  },
  {
   "cell_type": "markdown",
   "metadata": {},
   "source": [
    "*   Read `total = total + (number + 1)` as:\n",
    "    *   Add 1 to the current value of the loop variable `number`.\n",
    "    *   Add that to the current value of the accumulator variable `total`.\n",
    "    *   Assign that to `total`, replacing the current value.\n",
    "*   We have to add `number + 1` because `range` produces 0..9, not 1..10"
   ]
  },
  {
   "cell_type": "markdown",
   "metadata": {},
   "source": [
    "## Classifying Errors\n",
    "\n",
    "Is an indentation error a syntax error or a runtime error?\n",
    "\n",
    "## Solution\n",
    "An IndentationError is a syntax error. Programs with syntax errors cannot be started.\n",
    "A program with a runtime error will start but an error will be thrown under certain conditions.\n"
   ]
  },
  {
   "cell_type": "markdown",
   "metadata": {},
   "source": [
    "## Tracing Execution\n",
    "\n",
    "Create a table showing the numbers of the lines that are executed when this program runs,\n",
    "and the values of the variables after each line is executed.\n",
    "\n",
    "~~~python\n",
    "total = 0\n",
    "for char in \"tin\":\n",
    "    total = total + 1\n",
    "~~~\n",
    "\n"
   ]
  },
  {
   "cell_type": "markdown",
   "metadata": {},
   "source": []
  },
  {
   "cell_type": "markdown",
   "metadata": {},
   "source": [
    "## Reversing a String\n",
    "\n",
    "Fill in the blanks in the program below so that it prints \"nit\"\n",
    "(the reverse of the original character string \"tin\").\n",
    "\n",
    "~~~python\n",
    "original = \"tin\"\n",
    "result = ____\n",
    "for char in original:\n",
    " result = ____\n",
    "print(result)\n",
    "~~~"
   ]
  },
  {
   "cell_type": "code",
   "execution_count": 4,
   "metadata": {},
   "outputs": [
    {
     "name": "stdout",
     "output_type": "stream",
     "text": [
      "nit\n"
     ]
    }
   ],
   "source": [
    "### BEGIN SOLUTION\n",
    "original = \"tin\"\n",
    "result = \"\"\n",
    "\n",
    "for char in original:\n",
    "    result = char + result\n",
    "    \n",
    "print(result)\n",
    "\n",
    "### END SOLUTION"
   ]
  },
  {
   "cell_type": "markdown",
   "metadata": {},
   "source": [
    "## Practice Accumulating\n",
    "\n",
    "Fill in the blanks in each of the programs below\n",
    "to produce the indicated result.\n",
    "\n",
    "~~~python\n",
    "# Total length of the strings in the list: [\"red\", \"green\", \"blue\"] = 12\n",
    "total = 0\n",
    "for word in [\"red\", \"green\", \"blue\"]:\n",
    " ____ = ____ + len(word)\n",
    "print(total)\n",
    "~~~"
   ]
  },
  {
   "cell_type": "code",
   "execution_count": 3,
   "metadata": {},
   "outputs": [
    {
     "name": "stdout",
     "output_type": "stream",
     "text": [
      "12\n"
     ]
    }
   ],
   "source": [
    "### BEGIN SOLUTION\n",
    "total = 0\n",
    "for word in [\"red\", \"green\", \"blue\"]:\n",
    "    total = total + len(word)\n",
    "print(total)\n",
    "### END SOLUTION"
   ]
  },
  {
   "cell_type": "markdown",
   "metadata": {},
   "source": [
    "~~~python\n",
    "# List of word lengths: [\"red\", \"green\", \"blue\"] = [3, 5, 4]\n",
    "lengths = ____\n",
    "for word in [\"red\", \"green\", \"blue\"]:\n",
    " lengths.____(____)\n",
    "print(lengths)\n",
    "~~~"
   ]
  },
  {
   "cell_type": "code",
   "execution_count": 2,
   "metadata": {},
   "outputs": [
    {
     "name": "stdout",
     "output_type": "stream",
     "text": [
      "[3, 5, 4]\n"
     ]
    }
   ],
   "source": [
    "### BEGIN SOLUTION\n",
    "lengths = []\n",
    "for word in [\"red\", \"green\", \"blue\"]:\n",
    "  lengths.append(len(word))\n",
    "print(lengths)\n",
    "### END SOLUTION"
   ]
  },
  {
   "cell_type": "markdown",
   "metadata": {},
   "source": [
    "```python\n",
    "\n",
    "# Concatenate all words: [\"red\", \"green\", \"blue\"] = \"redgreenblue\"\n",
    "words = [\"red\", \"green\", \"blue\"]\n",
    "result = ____\n",
    "for ____ in ____:\n",
    " ____\n",
    "print(result)\n",
    "```"
   ]
  },
  {
   "cell_type": "code",
   "execution_count": 5,
   "metadata": {},
   "outputs": [
    {
     "name": "stdout",
     "output_type": "stream",
     "text": [
      "redgreenblue\n"
     ]
    }
   ],
   "source": [
    "### BEGIN SOLUTION\n",
    "\n",
    "words = [\"red\", \"green\", \"blue\"]\n",
    "result = \"\"\n",
    "for word in words:\n",
    "  result = result + word\n",
    "print(result)\n",
    "### END SOLUTION"
   ]
  },
  {
   "cell_type": "markdown",
   "metadata": {},
   "source": [
    "```python\n",
    "# Create acronym: [\"red\", \"green\", \"blue\"] = \"RGB\"\n",
    "# write all the code this time! :) \n",
    "```"
   ]
  },
  {
   "cell_type": "code",
   "execution_count": 6,
   "metadata": {},
   "outputs": [
    {
     "name": "stdout",
     "output_type": "stream",
     "text": [
      "RGB\n"
     ]
    }
   ],
   "source": [
    "### BEGIN SOLUTION\n",
    "acronym = \"\"\n",
    "for word in [\"red\", \"green\", \"blue\"]:\n",
    "  acronym = acronym + word[0].upper()\n",
    "print(acronym)\n",
    "### END SOLUTION"
   ]
  },
  {
   "cell_type": "markdown",
   "metadata": {},
   "source": [
    "## Cumulative Sum\n",
    "\n",
    "Reorder and properly indent the lines of code below\n",
    "so that they print a list with the cumulative sum of data.\n",
    "The result should be `[1, 3, 5, 10]`.\n",
    "\n",
    "~~~python\n",
    "cumulative.append(sum)\n",
    "for number in data:\n",
    "cumulative = []\n",
    "sum += number\n",
    "sum = 0\n",
    "print(cumulative)\n",
    "data = [1,2,2,5]\n",
    "~~~"
   ]
  },
  {
   "cell_type": "code",
   "execution_count": 7,
   "metadata": {},
   "outputs": [
    {
     "name": "stdout",
     "output_type": "stream",
     "text": [
      "[1, 3, 5, 10]\n"
     ]
    }
   ],
   "source": [
    "### BEGIN SOLUTION\n",
    "\n",
    "sum = 0\n",
    "data = [1,2,2,5]\n",
    "cumulative = []\n",
    "for number in data:\n",
    "    sum += number\n",
    "    cumulative.append(sum)\n",
    "print(cumulative)\n",
    "### END SOLUTION"
   ]
  },
  {
   "cell_type": "markdown",
   "metadata": {},
   "source": [
    "## Identifying Variable Name Errors\n",
    "\n",
    "1. Read the code below and try to identify what the errors are\n",
    "*without* running it.\n",
    "2. Run the code and read the error message.\n",
    "What type of `NameError` do you think this is?\n",
    "Is it a string with no quotes, a misspelled variable, or a\n",
    "variable that should have been defined but was not?\n",
    "3. Fix the error.\n",
    "4. Repeat steps 2 and 3, until you have fixed all the errors.\n",
    "\n",
    "~~~python\n",
    "for number in range(10):\n",
    " # use a if the number is a multiple of 3, otherwise use b\n",
    " if (Number % 3) == 0:\n",
    "     message = message + a\n",
    " else:\n",
    "     message = message + \"b\"\n",
    "print(message)\n",
    "~~~"
   ]
  },
  {
   "cell_type": "code",
   "execution_count": 8,
   "metadata": {},
   "outputs": [
    {
     "name": "stdout",
     "output_type": "stream",
     "text": [
      "abbabbabba\n"
     ]
    }
   ],
   "source": [
    "### BEGIN SOLUTION\n",
    "\n",
    "# Python variable names are case sensitive: `number` and `Number` refer to different variables.\n",
    "# The variable `message` needs to be initialized as an empty string.\n",
    "# We want to add the string `\"a\"` to `message`, not the undefined variable `a`.\n",
    "\n",
    "message = \"\"\n",
    "for number in range(10):\n",
    "  # use a if the number is a multiple of 3, otherwise use b\n",
    "  if (number % 3) == 0:\n",
    "      message = message + \"a\"\n",
    "  else:\n",
    "      message = message + \"b\"\n",
    "print(message)\n",
    "### END SOLUTION"
   ]
  },
  {
   "cell_type": "markdown",
   "metadata": {},
   "source": [
    "## Identifying Item Errors\n",
    "\n",
    "1. Read the code below and try to identify what the errors are *without* running it.\n",
    "1. Run the code, and read the error message. What type of error is it?\n",
    "1. Fix the error.\n",
    "\n",
    "~~~python\n",
    "seasons = ['Spring', 'Summer', 'Fall', 'Winter']\n",
    "print('My favorite season is ', seasons[4])\n",
    "~~~"
   ]
  },
  {
   "cell_type": "code",
   "execution_count": 9,
   "metadata": {},
   "outputs": [
    {
     "name": "stdout",
     "output_type": "stream",
     "text": [
      "My favorite season is  Winter\n"
     ]
    }
   ],
   "source": [
    "### BEGIN SOLUTION\n",
    "\n",
    "# This list has 4 elements and the index to access the last element in the list is `3`.\n",
    "\n",
    "seasons = ['Spring', 'Summer', 'Fall', 'Winter']\n",
    "print('My favorite season is ', seasons[3])\n",
    "### END SOLUTION"
   ]
  },
  {
   "cell_type": "markdown",
   "metadata": {
    "jupyter": {
     "outputs_hidden": false
    }
   },
   "source": [
    "## Key Points Summary:\n",
    "\n",
    "- A *for loop* executes commands once for each value in a collection.\n",
    "- A `for` loop is made up of a collection, a loop variable, and a body.\n",
    "- The first line of the `for` loop must end with a colon, and the body must be indented.\n",
    "- Indentation is always meaningful in Python.\n",
    "- Loop variables can be called anything (but it is strongly advised to have a meaningful name to the looping variable).\n",
    "- The body of a loop can contain many statements.\n",
    "- Use `range` to iterate over a sequence of numbers.\n",
    "- The Accumulator pattern turns many values into one.\n",
    "\n"
   ]
  },
  {
   "cell_type": "code",
   "execution_count": null,
   "metadata": {},
   "outputs": [],
   "source": []
  }
 ],
 "metadata": {
  "kernelspec": {
   "display_name": "Python 3",
   "language": "python",
   "name": "python3"
  },
  "language_info": {
   "codemirror_mode": {
    "name": "ipython",
    "version": 3
   },
   "file_extension": ".py",
   "mimetype": "text/x-python",
   "name": "python",
   "nbconvert_exporter": "python",
   "pygments_lexer": "ipython3",
   "version": "3.8.5"
  }
 },
 "nbformat": 4,
 "nbformat_minor": 4
}
