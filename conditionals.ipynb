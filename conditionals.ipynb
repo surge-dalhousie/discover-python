{
 "cells": [
  {
   "cell_type": "markdown",
   "metadata": {},
   "source": [
    "# Conditionals\n",
    "\n",
    "---"
   ]
  },
  {
   "cell_type": "markdown",
   "metadata": {
    "jupyter": {
     "outputs_hidden": false
    }
   },
   "source": [
    "## Questions:\n",
    "- How can programs do different things for different data?\n",
    "\n",
    "## Leanring Objectives:\n",
    "- Correctly write programs that use if and else statements and simple Boolean expressions (without logical operators).\n",
    "- Trace the execution of unnested conditionals and conditionals inside loops.\n",
    "\n",
    "---"
   ]
  },
  {
   "cell_type": "markdown",
   "metadata": {
    "jupyter": {
     "outputs_hidden": false
    }
   },
   "source": [
    "## Use `if` statements to control whether or not a block of code is executed.\n",
    "\n",
    "*   An `if` statement (more properly called a *conditional* statement)\n",
    "    controls whether some block of code is executed or not.\n",
    "*   Structure is similar to a `for` statement:\n",
    "    *   First line opens with `if` and ends with a colon\n",
    "    *   Body containing one or more statements is indented (usually by 4 spaces)\n",
    "\n",
    "~~~python\n",
    "mass = 3.54\n",
    "if mass > 3.0:\n",
    "    print(mass, 'is large')\n",
    "~~~"
   ]
  },
  {
   "cell_type": "code",
   "execution_count": null,
   "metadata": {},
   "outputs": [],
   "source": []
  },
  {
   "cell_type": "markdown",
   "metadata": {
    "jupyter": {
     "outputs_hidden": false
    }
   },
   "source": [
    "~~~python\n",
    "mass = 2.07\n",
    "if mass > 3.0:\n",
    "    print (mass, 'is large')\n",
    "~~~"
   ]
  },
  {
   "cell_type": "code",
   "execution_count": null,
   "metadata": {},
   "outputs": [],
   "source": []
  },
  {
   "cell_type": "markdown",
   "metadata": {
    "jupyter": {
     "outputs_hidden": false
    }
   },
   "source": [
    "## Conditionals are often used inside loops.\n",
    "\n",
    "*   Not much point using a conditional when we know the value (as above).\n",
    "*   But useful when we have a collection to process.\n",
    "\n",
    "~~~python\n",
    "masses = [3.54, 2.07, 9.22, 1.86, 1.71]\n",
    "for m in masses:\n",
    "    if m > 3.0:\n",
    "        print(m, 'is large')\n",
    "~~~"
   ]
  },
  {
   "cell_type": "code",
   "execution_count": null,
   "metadata": {},
   "outputs": [],
   "source": []
  },
  {
   "cell_type": "markdown",
   "metadata": {
    "jupyter": {
     "outputs_hidden": false
    }
   },
   "source": [
    "## Use `else` to execute a block of code when an `if` condition is *not* true.\n",
    "\n",
    "*   `else` can be used following an `if`.\n",
    "*   Allows us to specify an alternative to execute when the `if` *branch* isn't taken.\n",
    "\n",
    "~~~python\n",
    "masses = [3.54, 2.07, 9.22, 1.86, 1.71]\n",
    "for m in masses:\n",
    "    if m > 3.0:\n",
    "        print(m, 'is large')\n",
    "    else:\n",
    "        print(m, 'is small')\n",
    "~~~"
   ]
  },
  {
   "cell_type": "code",
   "execution_count": null,
   "metadata": {},
   "outputs": [],
   "source": []
  },
  {
   "cell_type": "markdown",
   "metadata": {
    "jupyter": {
     "outputs_hidden": false
    }
   },
   "source": [
    "## Use `elif` to specify additional tests.\n",
    "\n",
    "- May want to provide several alternative choices, each with its own test.\n",
    "- Use `elif` (short for \"else if\") and a condition to specify these.\n",
    "- Must come before the `else` (which is the \"catch-all\")\n",
    "\n",
    "~~~python\n",
    "masses = [3.54, 2.07, 9.22, 1.86, 1.71]\n",
    "for m in masses:\n",
    "    if m > 9.0:\n",
    "        print(m, 'is HUGE')\n",
    "    elif m > 3.0:\n",
    "        print(m, 'is large')\n",
    "    else:\n",
    "        print(m, 'is small')\n",
    "~~~        "
   ]
  },
  {
   "cell_type": "code",
   "execution_count": null,
   "metadata": {},
   "outputs": [],
   "source": []
  },
  {
   "cell_type": "markdown",
   "metadata": {
    "jupyter": {
     "outputs_hidden": false
    }
   },
   "source": [
    "## Conditions are tested once, in order.\n",
    "\n",
    "- Python steps through the branches of the conditional in order, testing each in turn — so ordering matters!\n",
    "\n",
    "~~~python\n",
    "grade = 85\n",
    "\n",
    "if grade >= 70:\n",
    "    print('grade is C')\n",
    "elif grade >= 80:\n",
    "    print('grade is B')\n",
    "elif grade >= 90:\n",
    "    print('grade is A')\n",
    "~~~"
   ]
  },
  {
   "cell_type": "code",
   "execution_count": null,
   "metadata": {},
   "outputs": [],
   "source": []
  },
  {
   "cell_type": "markdown",
   "metadata": {
    "jupyter": {
     "outputs_hidden": false
    }
   },
   "source": [
    "Python does *not* automatically go back and re-evaluate if values change:\n",
    "\n",
    "~~~python\n",
    "velocity = 10.0\n",
    "if velocity > 20.0:\n",
    "    print('moving too fast')\n",
    "else:\n",
    "    print('adjusting velocity')\n",
    "    velocity = 50.0\n",
    "    \n",
    "print(velocity)\n",
    "~~~"
   ]
  },
  {
   "cell_type": "code",
   "execution_count": null,
   "metadata": {},
   "outputs": [],
   "source": []
  },
  {
   "cell_type": "markdown",
   "metadata": {
    "jupyter": {
     "outputs_hidden": false
    }
   },
   "source": [
    "We often use conditionals in a loop to modify the values of variables:\n",
    "\n",
    "~~~python\n",
    "velocity = 10.0\n",
    "for i in range(5): # execute the loop 5 times\n",
    "    print(i, ':', velocity)\n",
    "    if velocity > 20.0:\n",
    "        print('moving too fast')\n",
    "        velocity = velocity - 5.0\n",
    "    else:\n",
    "        print('moving too slow')\n",
    "        velocity = velocity + 10.0\n",
    "\n",
    "print('final velocity:', velocity)\n",
    "~~~"
   ]
  },
  {
   "cell_type": "code",
   "execution_count": null,
   "metadata": {},
   "outputs": [],
   "source": []
  },
  {
   "cell_type": "markdown",
   "metadata": {
    "jupyter": {
     "outputs_hidden": false
    }
   },
   "source": [
    "To trace execution, we can create a table showing the values of `i` and `velocity` each time through the loop:\n",
    "\n",
    "| **i** | **velocity** |\n",
    "|-------|--------------|\n",
    "| -     | 10           |\n",
    "| 0     | 20           |\n",
    "| 1     | 30           |\n",
    "| 2     | 25           |\n",
    "| 3     | 20           |\n",
    "| 4     | 30           |\n"
   ]
  },
  {
   "cell_type": "markdown",
   "metadata": {
    "jupyter": {
     "outputs_hidden": false
    }
   },
   "source": [
    "## Compound Relations Using `and`, `or`, and Parentheses\n",
    "\n",
    "Often, you want to check if some *combination* of things is true.  You can combine relations within a conditional using `and` and `or`.  Continuing the example above, suppose you have:\n",
    "\n",
    "~~~python\n",
    "mass     = [ 3.54,  2.07,  9.22,  1.86,  1.71]\n",
    "velocity = [10.00, 20.00, 30.00, 25.00, 20.00]\n",
    "~~~\n",
    "\n",
    "The code below tests for different combinations of values of `mass` and `velocity`:\n",
    "\n",
    "~~~python\n",
    "i = 0\n",
    "for i in range(5):\n",
    "    if mass[i] > 5 and velocity[i] > 20:\n",
    "         print(Fast heavy object.  Duck!)\n",
    "    elif mass[i] > 2 and mass[i] <= 5 and velocity[i] <= 20:\n",
    "         print(Normal traffic)\n",
    "    elif mass[i] <= 2 and velocity[i] <= 20:\n",
    "         print(Slow light object.  Ignore it)\n",
    "    else:\n",
    "         print(Whoa! Something is up with the data.  Check it)\n",
    "~~~"
   ]
  },
  {
   "cell_type": "code",
   "execution_count": null,
   "metadata": {},
   "outputs": [],
   "source": []
  },
  {
   "cell_type": "markdown",
   "metadata": {
    "jupyter": {
     "outputs_hidden": false
    }
   },
   "source": [
    "Sometimes you may want to combine multiple `and`/`or` statements. Python has a precedence order (\"order of operations\") whereby it evaluates `and` before `or`. However, just like with arithmetic, you can and should use parentheses whenever there is possible ambiguity.  A good general rule is to *always* use parentheses when mixing `and` and `or` in the same condition.  That is, instead of:\n",
    "\n",
    "~~~python\n",
    "if mass[i] <= 2 or mass[i] >= 5 and velocity[i] > 20:\n",
    "~~~\n",
    "\n",
    "Write one of these:\n",
    "\n",
    "~~~python\n",
    "if (mass[i] <= 2 or mass[i] >= 5) and velocity[i] > 20:\n",
    "if mass[i] <= 2 or (mass[i] >= 5 and velocity[i] > 20):\n",
    "~~~\n",
    "\n",
    "...so it is perfectly clear to a reader (and to Python) what you really mean."
   ]
  },
  {
   "cell_type": "markdown",
   "metadata": {},
   "source": [
    "---\n",
    "## Exercises\n",
    "\n",
    "### Compound relations\n",
    "\n",
    "Try each of the above three examples of combining `and` and `or` operators and see how the results differ (or not). "
   ]
  },
  {
   "cell_type": "code",
   "execution_count": null,
   "metadata": {},
   "outputs": [],
   "source": []
  },
  {
   "cell_type": "markdown",
   "metadata": {
    "jupyter": {
     "outputs_hidden": false
    }
   },
   "source": [
    " ## Tracing Execution\n",
    "\n",
    "Without executing the code, predict what this program prints. You can then run it to see if your answer is correct.\n",
    "\n",
    "~~~python\n",
    "pressure = 71.9\n",
    "    \n",
    "if pressure > 50.0:\n",
    "     pressure = 25.0\n",
    "elif pressure <= 50.0:\n",
    "     pressure = 0.0\n",
    "        \n",
    "print(pressure)\n",
    "~~~"
   ]
  },
  {
   "cell_type": "code",
   "execution_count": null,
   "metadata": {},
   "outputs": [],
   "source": []
  },
  {
   "cell_type": "markdown",
   "metadata": {
    "jupyter": {
     "outputs_hidden": false
    }
   },
   "source": [
    " ## Trimming Values\n",
    "\n",
    "Fill in the blanks so that this program creates a new list containing zeroes where the original list's values were negative, and ones where the original list's values were positive.\n",
    "\n",
    "~~~python\n",
    "original = [-1.5, 0.2, 0.4, 0.0, -1.3, 0.4]\n",
    "result = ____\n",
    "for value in original:\n",
    "     if ____:\n",
    "         result.append(0)\n",
    "     else:\n",
    "         ____\n",
    "            \n",
    "print(result)\n",
    "~~~"
   ]
  },
  {
   "cell_type": "code",
   "execution_count": 1,
   "metadata": {
    "collapsed": false,
    "jupyter": {
     "outputs_hidden": false
    }
   },
   "outputs": [
    {
     "name": "stdout",
     "output_type": "stream",
     "text": [
      "[0, 1, 1, 1, 0, 1]\n"
     ]
    }
   ],
   "source": [
    "### BEGIN SOLUTION \n",
    "original = [-1.5, 0.2, 0.4, 0.0, -1.3, 0.4]\n",
    "result = []\n",
    "for value in original:\n",
    "      if value < 0.0:\n",
    "          result.append(0)\n",
    "      else:\n",
    "          result.append(1)\n",
    "\n",
    "print(result)\n",
    "### END SOLUTION "
   ]
  },
  {
   "cell_type": "markdown",
   "metadata": {
    "jupyter": {
     "outputs_hidden": false
    }
   },
   "source": [
    "## Initializing\n",
    "\n",
    "Modify this program so that it finds the largest and smallest values in the list\n",
    "no matter what the range of values originally is.\n",
    "\n",
    "~~~python\n",
    "values = [...some test data...]\n",
    "smallest, largest = None, None\n",
    "for v in values:\n",
    "     if ____:\n",
    "         smallest, largest = v, v\n",
    "     ____:\n",
    "         smallest = min(____, v)\n",
    "         largest = max(____, v)\n",
    "        \n",
    "print(smallest, largest)\n",
    "~~~\n",
    "\n",
    "What are the advantages and disadvantages of using this method to find the range of the data?"
   ]
  },
  {
   "cell_type": "code",
   "execution_count": null,
   "metadata": {
    "collapsed": false,
    "jupyter": {
     "outputs_hidden": false
    }
   },
   "outputs": [],
   "source": [
    "### BEGIN SOLUTION \n",
    "\n",
    "values = [-2, 1, 65, 78, -54, -24, 100]\n",
    "smallest, largest = None, None\n",
    "\n",
    "for v in values:\n",
    "    if smallest==None and largest==None:\n",
    "        smallest, largest = v, v\n",
    "    else:\n",
    "        smallest = min(smallest, v)\n",
    "        largest = max(largest, v)\n",
    "\n",
    "print(smallest, largest)\n",
    "\n",
    "### END SOLUTION "
   ]
  },
  {
   "cell_type": "markdown",
   "metadata": {},
   "source": [
    "### Identifying Variable Name Errors\n",
    "\n",
    "1. Read the code below and try to identify what the errors are *without* running it\n",
    "2. Run the code and read the error message\n",
    "    - What type of `NameError` do you think this is?\n",
    "    - Is it a string with no quotes, a misspelled variable, or a variable that should have been defined but was not?\n",
    "3. Fix the error\n",
    "4. Repeat steps 2 and 3, until you have fixed all the errors\n",
    "\n",
    "~~~python\n",
    "for number in range(10):\n",
    "    # use a if the number is a multiple of 3, otherwise use b\n",
    "    if (Number % 3) == 0:\n",
    "        message = message + a\n",
    "    else:\n",
    "        message = message + \"b\"\n",
    "        \n",
    "print(message)\n",
    "~~~"
   ]
  },
  {
   "cell_type": "code",
   "execution_count": null,
   "metadata": {},
   "outputs": [],
   "source": [
    "### BEGIN SOLUTION\n",
    "\n",
    "# Python variable names are case sensitive: `number` and `Number` refer to different variables.\n",
    "# The variable `message` needs to be initialized as an empty string.\n",
    "# We want to add the string `\"a\"` to `message`, not the undefined variable `a`.\n",
    "\n",
    "message = \"\"\n",
    "for number in range(10):\n",
    "  # use a if the number is a multiple of 3, otherwise use b\n",
    "  if (number % 3) == 0:\n",
    "      message = message + \"a\"\n",
    "  else:\n",
    "      message = message + \"b\"\n",
    "print(message)\n",
    "### END SOLUTION"
   ]
  },
  {
   "cell_type": "markdown",
   "metadata": {
    "jupyter": {
     "outputs_hidden": false
    }
   },
   "source": [
    "## Summary of Key Points:\n",
    "- Use `if` statements to control whether or not a block of code is executed.\n",
    "- Conditionals are often used inside loops.\n",
    "- Use `else` to execute a block of code when an `if` condition is *not* true.\n",
    "- Use `elif` to specify additional tests.\n",
    "- Conditions are tested once, in order."
   ]
  },
  {
   "cell_type": "markdown",
   "metadata": {},
   "source": [
    "---\n",
    "This lesson is adapted from the [Software Carpentry](https://software-carpentry.org/lessons/) [Plotting and Programming in Python](http://swcarpentry.github.io/python-novice-gapminder/) workshop. \n",
    "\n",
    "Licensed under [CC-BY 4.0](https://creativecommons.org/licenses/by/4.0/) 2021 by [SURGE](https://github.com/surge-dalhousie)"
   ]
  }
 ],
 "metadata": {
  "kernelspec": {
   "display_name": "Python 3",
   "language": "python",
   "name": "python3"
  },
  "language_info": {
   "codemirror_mode": {
    "name": "ipython",
    "version": 3
   },
   "file_extension": ".py",
   "mimetype": "text/x-python",
   "name": "python",
   "nbconvert_exporter": "python",
   "pygments_lexer": "ipython3",
   "version": "3.8.5"
  }
 },
 "nbformat": 4,
 "nbformat_minor": 4
}
