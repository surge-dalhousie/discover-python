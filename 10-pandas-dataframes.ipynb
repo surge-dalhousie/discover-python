{
 "cells": [
  {
   "cell_type": "markdown",
   "id": "novel-protest",
   "metadata": {},
   "source": [
    "# pandas DataFrames"
   ]
  },
  {
   "cell_type": "code",
   "execution_count": null,
   "id": "overall-airfare",
   "metadata": {},
   "outputs": [],
   "source": []
  },
  {
   "cell_type": "markdown",
   "id": "sorted-wrong",
   "metadata": {
    "jupyter": {
     "outputs_hidden": false
    }
   },
   "source": [
    "## FROM ANOTHER VIGNETTE - FIGURE OUT HOW TO INTEGRATE HERE\n",
    "This function would typically be used within a `for` loop, but Pandas has\n",
    "a different, more efficient way of doing the same thing, and that is by\n",
    "*applying* a function to a dataframe or a portion of a dataframe.  Here\n",
    "is an example, using the definition above.\n",
    "\n",
    "~~~python\n",
    "data = pd.read_csv('Americas-data.csv')\n",
    "data['life_qrtl'] = data['lifeExp'].apply(calculate_life_quartile)\n",
    "~~~\n",
    "\n",
    "There is a lot in that second line, so let's take it piece by piece. On the right side of the `=` we start with `data['lifeExp']`, which is the column in the dataframe called `data` labeled `lifExp`.  We use the  `apply()` to do what it says, apply the `calculate_life_quartile` to the value of this column for every row in the dataframe.\n"
   ]
  },
  {
   "cell_type": "code",
   "execution_count": null,
   "id": "czech-switch",
   "metadata": {},
   "outputs": [],
   "source": []
  }
 ],
 "metadata": {
  "kernelspec": {
   "display_name": "Python 3",
   "language": "python",
   "name": "python3"
  },
  "language_info": {
   "codemirror_mode": {
    "name": "ipython",
    "version": 3
   },
   "file_extension": ".py",
   "mimetype": "text/x-python",
   "name": "python",
   "nbconvert_exporter": "python",
   "pygments_lexer": "ipython3",
   "version": "3.8.5"
  }
 },
 "nbformat": 4,
 "nbformat_minor": 5
}
