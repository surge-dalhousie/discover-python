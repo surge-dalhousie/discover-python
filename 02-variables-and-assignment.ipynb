{
 "cells": [
  {
   "cell_type": "markdown",
   "id": "arctic-eagle",
   "metadata": {},
   "source": [
    "# Variables and Assignment\n",
    "\n",
    "## Questions\n",
    "- How can I store data in programs?\n",
    "\n",
    "## Objectives\n",
    "- Write programs that assign scalar values to variables and perform calculations with those values.\n",
    "- Correctly trace value changes in programs that use scalar assignment."
   ]
  },
  {
   "cell_type": "markdown",
   "id": "indirect-trainer",
   "metadata": {},
   "source": [
    "## Use variables to store values.\n",
    "\n",
    "*   **Variables** are names for values.\n",
    "*   In Python the `=` symbol assigns the value on the right to the name on the left.\n",
    "*   The variable is created when a value is assigned to it.\n",
    "*   Here, Python assigns an age to a variable `age`\n",
    "    and a name in quotes to a variable `first_name`.\n",
    "\n",
    "```python\n",
    "    age = 42\n",
    "    first_name = 'Ahmed'\n",
    "```\n",
    "\n",
    "*   Variable names\n",
    "    * can **only** contain letters, digits, and underscore `_` (typically used to separate words in long variable names)\n",
    "    * cannot start with a digit\n",
    "    * are **case sensitive** (age, Age and AGE are three different variables)\n",
    "*   Variable names that start with underscores like `__alistairs_real_age` have a special meaning\n",
    "    so we won't do that until we understand the convention.\n",
    "\n"
   ]
  },
  {
   "cell_type": "code",
   "execution_count": null,
   "id": "suspended-valley",
   "metadata": {},
   "outputs": [],
   "source": []
  },
  {
   "cell_type": "markdown",
   "id": "employed-lodge",
   "metadata": {},
   "source": [
    "## Use `print` to display values.\n",
    "\n",
    "*   Python has a built-in function called `print` that prints things as text.\n",
    "*   Call the function (i.e., tell Python to run it) by using its name.\n",
    "*   Provide values to the function (i.e., the things to print) in parentheses.\n",
    "*   To add a string to the printout, wrap the string in single or double quotes.\n",
    "*   The values passed to the function are called **arguments**\n",
    "\n",
    "```python\n",
    "print(first_name, 'is', age, 'years old')\n",
    "```\n",
    "\n",
    "*   `print` automatically puts a single space between items to separate them.\n",
    "*   And wraps around to a new line at the end.\n",
    "\n"
   ]
  },
  {
   "cell_type": "code",
   "execution_count": null,
   "id": "unable-comparison",
   "metadata": {},
   "outputs": [],
   "source": []
  },
  {
   "cell_type": "markdown",
   "id": "unusual-stress",
   "metadata": {},
   "source": [
    "## Variables must be created before they are used.\n",
    "\n",
    "*   If a variable doesn't exist yet, or if the name has been mis-spelled,\n",
    "    Python reports an error. (Unlike some languages, which \"guess\" a default value.)\n",
    "\n",
    "```python\n",
    "print(last_name)\n",
    "```"
   ]
  },
  {
   "cell_type": "code",
   "execution_count": null,
   "id": "dressed-series",
   "metadata": {},
   "outputs": [],
   "source": []
  },
  {
   "cell_type": "markdown",
   "id": "editorial-index",
   "metadata": {},
   "source": [
    "*   The last line of an error message is usually the most informative.\n",
    "*   We will look at error messages in detail [later]({{ page.root }}/15-scope/#reading-error-messages).\n",
    "\n",
    "## Variables Persist Between Cells\n",
    "\n",
    "Be aware that it is the *order* of execution of cells that is important in a Jupyter notebook, not the order in which they appear. Python will remember *all* the code that was run previously, including any variables you have defined, irrespective of the order in the notebook. Therefore if you define variables lower down the notebook and then (re)run cells further up, those defined further down will still be present. As an example, create two cells with the following content, in this order:\n",
    "\n",
    "```python\n",
    "print(myval)\n",
    "myval = 1\n",
    "```"
   ]
  },
  {
   "cell_type": "code",
   "execution_count": null,
   "id": "unknown-acrobat",
   "metadata": {},
   "outputs": [],
   "source": []
  },
  {
   "cell_type": "markdown",
   "id": "cordless-soviet",
   "metadata": {},
   "source": [
    "If you execute this in order, the first cell will give an error. However, if you run the first cell *after* the second cell it will print out `1`. To prevent confusion, it can be helpful to use the `Kernel` -`Restart & Run All` option which clears the interpreter and runs everything from a clean slate going top to bottom."
   ]
  },
  {
   "cell_type": "markdown",
   "id": "global-graduation",
   "metadata": {},
   "source": [
    "## Variables can be used in calculations.\n",
    "\n",
    "*   We can use variables in calculations just as if they were values.\n",
    "    *   Remember, we assigned the value `42` to `age` a few lines ago.\n",
    "\n",
    "```python\n",
    "age = age + 3\n",
    "print('Age in three years:', age)\n",
    "```"
   ]
  },
  {
   "cell_type": "code",
   "execution_count": null,
   "id": "religious-bedroom",
   "metadata": {},
   "outputs": [],
   "source": []
  },
  {
   "cell_type": "markdown",
   "id": "opened-strategy",
   "metadata": {},
   "source": [
    "## Use an index to get a single character from a string.\n",
    "\n",
    "*   The characters (individual letters, numbers, and so on) in a string are\n",
    "    ordered. For example, the string `'AB'` is not the same as `'BA'`. Because of\n",
    "    this ordering, we can treat the string as a list of characters.\n",
    "*   Each position in the string (first, second, etc.) is given a number. This\n",
    "    number is called an **index** or sometimes a subscript.\n",
    "*   Indices are numbered from 0.\n",
    "*   Use the position's index in square brackets to get the character at that\n",
    "    position.\n",
    "    \n",
    "![an illustration of indexing](images/2_indexing.svg)\n",
    "\n",
    "~~~python\n",
    "atom_name = 'helium'\n",
    "print(atom_name[0])\n",
    "~~~"
   ]
  },
  {
   "cell_type": "code",
   "execution_count": null,
   "id": "logical-stake",
   "metadata": {},
   "outputs": [],
   "source": []
  },
  {
   "cell_type": "markdown",
   "id": "broad-nutrition",
   "metadata": {},
   "source": [
    "## Use a slice to get a substring.\n",
    "\n",
    "*   A part of a string is called a **substring**. A substring can be as short as a\n",
    "    single character.\n",
    "*   An item in a list is called an element. Whenever we treat a string as if it\n",
    "    were a list, the string's elements are its individual characters.\n",
    "*   A slice is a part of a string (or, more generally, any list-like thing).\n",
    "*   We take a slice by using `[start:stop]`, where `start` is replaced with the\n",
    "    index of the first element we want and `stop` is replaced with the index of\n",
    "    the element just after the last element we want.\n",
    "*   Mathematically, you might say that a slice selects `[start:stop)`.\n",
    "*   The difference between `stop` and `start` is the slice's length.\n",
    "*   Taking a slice does not change the contents of the original string. Instead,\n",
    "    the slice is a copy of part of the original string.\n",
    "\n",
    "~~~python\n",
    "atom_name = 'sodium'\n",
    "print(atom_name[0:3])\n",
    "~~~\n",
    "\n"
   ]
  },
  {
   "cell_type": "code",
   "execution_count": null,
   "id": "transparent-burner",
   "metadata": {},
   "outputs": [],
   "source": []
  },
  {
   "cell_type": "markdown",
   "id": "conscious-smoke",
   "metadata": {},
   "source": [
    "## Use the built-in function `len` to find the length of a string.\n",
    "\n",
    "~~~python\n",
    "print(len('helium'))\n",
    "~~~\n",
    "\n"
   ]
  },
  {
   "cell_type": "code",
   "execution_count": null,
   "id": "forty-comparison",
   "metadata": {},
   "outputs": [],
   "source": []
  },
  {
   "cell_type": "markdown",
   "id": "spatial-trace",
   "metadata": {},
   "source": [
    "*   Nested functions are evaluated from the inside out,\n",
    "     like in mathematics."
   ]
  },
  {
   "cell_type": "markdown",
   "id": "distributed-nirvana",
   "metadata": {},
   "source": [
    "## Python is case-sensitive.\n",
    "\n",
    "*   Python thinks that upper- and lower-case letters are different,\n",
    "    so `Name` and `name` are different variables.\n",
    "*   There are conventions for using upper-case letters at the start of variable names— they should only be used in specific circumstances in Python —  so **it is good practice to only use lower-case letters for variable names**\n"
   ]
  },
  {
   "cell_type": "markdown",
   "id": "major-integrity",
   "metadata": {},
   "source": [
    "## Use meaningful variable names.\n",
    "\n",
    "*   Python doesn't care what you call variables as long as they obey the rules\n",
    "    (alphanumeric characters and the underscore).\n",
    "\n",
    "~~~python\n",
    "flabadab = 42\n",
    "ewr_422_yY = 'Ahmed'\n",
    "print(ewr_422_yY, 'is', flabadab, 'years old')\n",
    "~~~"
   ]
  },
  {
   "cell_type": "code",
   "execution_count": null,
   "id": "synthetic-printing",
   "metadata": {},
   "outputs": [],
   "source": []
  },
  {
   "cell_type": "markdown",
   "id": "integral-surname",
   "metadata": {},
   "source": [
    "*   Use meaningful variable names to help other people understand what the program does.\n",
    "*   The most important \"other person\" is your future self."
   ]
  },
  {
   "cell_type": "markdown",
   "id": "right-pierce",
   "metadata": {},
   "source": [
    "## Swapping Values\n",
    "\n",
    "Try to follow what happens in the following sequence of commands. Guess what the final values of `x` and `y` will be, then run the code yourself to check your guess.\n",
    "\n",
    "~~~python\n",
    "x = 1.0   \n",
    "y = 3.0    \n",
    "swap = x  \n",
    "x = y      \n",
    "y = swap \n",
    "~~~"
   ]
  },
  {
   "cell_type": "code",
   "execution_count": null,
   "id": "beneficial-brazilian",
   "metadata": {},
   "outputs": [],
   "source": []
  },
  {
   "cell_type": "markdown",
   "id": "reliable-blond",
   "metadata": {},
   "source": [
    "These three lines exchange the values in `x` and `y` using the `swap`\n",
    "variable for temporary storage. This is a fairly common programming idiom.\n"
   ]
  },
  {
   "cell_type": "markdown",
   "id": "touched-insider",
   "metadata": {},
   "source": [
    "## Slicing numbers?\n",
    "\n",
    "If you assign `a = 123`,\n",
    "what happens if you try to get the second digit of `a` via `a[1]`?"
   ]
  },
  {
   "cell_type": "code",
   "execution_count": null,
   "id": "organic-standard",
   "metadata": {},
   "outputs": [],
   "source": []
  },
  {
   "cell_type": "markdown",
   "id": "contrary-madrid",
   "metadata": {},
   "source": [
    "### Solution\n",
    "Numbers are not strings or sequences and Python will raise an error if you try to perform an index operation on a number. In the [next lesson on types and type conversion]({{ page.root }}/03-types-conversion/#convert-numbers-and-strings) we will learn more about types and how to convert between different types. If you want the Nth digit of a number you can convert it into a string using the `str` built-in function and then perform an index operation on that string."
   ]
  },
  {
   "cell_type": "markdown",
   "id": "pointed-corps",
   "metadata": {},
   "source": [
    "## What's in a name?\n",
    "\n",
    "Which is a better variable name, m, min, or minutes? Why? Hint: think about which code you would rather inherit from someone who is leaving the lab:\n",
    "```python\n",
    "ts = m * 60 + s\n",
    "tot_sec = min * 60 + sec\n",
    "total_seconds = minutes * 60 + seconds\n",
    "```"
   ]
  },
  {
   "cell_type": "markdown",
   "id": "competent-virginia",
   "metadata": {},
   "source": [
    "## Slicing practice\n",
    "\n",
    "What does the following program print?\n",
    "\n",
    "~~~python\n",
    "atom_name = 'carbon'\n",
    "print('atom_name[1:3] is:', atom_name[1:3])\n",
    "~~~"
   ]
  },
  {
   "cell_type": "code",
   "execution_count": null,
   "id": "ranging-wrist",
   "metadata": {},
   "outputs": [],
   "source": []
  },
  {
   "cell_type": "markdown",
   "id": "continued-divide",
   "metadata": {},
   "source": [
    "## Slicing concepts\n",
    "\n",
    "```python\n",
    "cell_name = 'neuron'\n",
    "```\n",
    "\n",
    "1.  What does `cell_name[1:5]` do?\n",
    "1.  What does `cell_name[0:5]` do?\n",
    "1.  What does `cell_name[0:6]` do?\n",
    "2.  What does `cell_name[0:]` (without a value after the colon) do?\n",
    "3.  What does `cell_name[:5]` (without a value before the colon) do?\n",
    "4.  What does `cell_name[:]` (just a colon) do?\n",
    "5.  What does `cell_name[1:-1]` do?\n",
    "6.  What happens when you choose a `high` value which is out of range? (i.e., try `cell_name[1:15]`) "
   ]
  },
  {
   "cell_type": "code",
   "execution_count": null,
   "id": "meaningful-france",
   "metadata": {},
   "outputs": [],
   "source": []
  },
  {
   "cell_type": "markdown",
   "id": "apparent-european",
   "metadata": {},
   "source": [
    "## Key Points Summary:\n",
    "- \"Use variables to store values.\"\n",
    "- \"Use `print` to display values.\"\n",
    "- \"Variables persist between cells.\"\n",
    "- \"Variables must be created before they are used.\"\n",
    "- \"Variables can be used in calculations.\"\n",
    "- \"Use an index to get a single character from a string.\"\n",
    "- \"Use a slice to get a substring.\"\n",
    "- \"Use the built-in function `len` to find the length of a string.\"\n",
    "- \"Python is case-sensitive.\"\n",
    "- \"Use meaningful variable names.\"\n",
    "\n"
   ]
  }
 ],
 "metadata": {
  "kernelspec": {
   "display_name": "Python 3",
   "language": "python",
   "name": "python3"
  },
  "language_info": {
   "codemirror_mode": {
    "name": "ipython",
    "version": 3
   },
   "file_extension": ".py",
   "mimetype": "text/x-python",
   "name": "python",
   "nbconvert_exporter": "python",
   "pygments_lexer": "ipython3",
   "version": "3.8.5"
  }
 },
 "nbformat": 4,
 "nbformat_minor": 5
}
