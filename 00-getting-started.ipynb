{
 "cells": [
  {
   "cell_type": "markdown",
   "id": "blocked-quick",
   "metadata": {},
   "source": [
    "<img src='images/surge_logo.png' width=300 alt='SURGE logo'>\n",
    "\n",
    "# Discover Coding - Python Gapminder lesson\n",
    "\n",
    "---\n",
    "\n",
    "## Introduction"
   ]
  },
  {
   "cell_type": "markdown",
   "id": "handled-heavy",
   "metadata": {},
   "source": [
    "Welcome to the [SURGE](https://surgeinnovation.ca) Discover Coding Python-Gapminder workshop! This workshop is aimed at people from science disciplines who have no previous experience with a programming language. We teach the basic of coding using Python, a very popular language used in science and data science. If you have programmed before, but are new to Python, you will also find this workshop useful, if perhaps a bit slow at times. \n",
    "\n",
    "### Our Approach\n",
    "\n",
    "This is not an introduction to computer science. The SURGE Discover series aims to teach people working in science how to use Python for working with data. As such, our focus is on:\n",
    "- learning the fundamentals of Python\n",
    "- data science, including\n",
    "    - reading data\n",
    "    - manipulating/processing data (e.g., extracting specific data, splitting data according to variables, applying functions, combining data)\n",
    "    - basic statistical analyses of data sets\n",
    "\n",
    "### Origins of this Material\n",
    "\n",
    "This workshop is adapted by one created by the [Software Carpentry](http://swcarpentry.github.io/python-novice-gapminder/index.html) foundation. It uses freely-available open source data from [Gapminder](https://www.gapminder.org), an independent Swedish foundation whose mission is to \"fight devastating ignorance with a fact-based worldview everyone can understand.\" Gapminder is perhaps most famous for the TED talks given by its co-founder, the late Dr. Hans Rosling (the other founders were Ola Rosling, Anna Rosling Rönnlund. Dr. Rosling's TED talk, [*The best statistics you’ve ever seen*](https://www.ted.com/talks/hans_rosling_the_best_stats_you_ve_ever_seen?language=en), became one of the most watched TED talks ever (nearly 15m views as of Feb. 4, 2021). The Gapminder data we will be working with here are a subset of those used in Dr. Rosling's talk. Specifically, the data are gross domestic product (GDP) of countries from around the world, over a time period from 1952 – 2007. \n",
    "\n",
    "While we could introduce Python with virtually any data, the Gapminder data are relatively easy to understand without deep technical knowledge of a domain (GDP is a measure of a country's wealth, and the data reflect how this change over time), the data files are open source and so support open sharing and transparency in science, and Dr. Rosling's talks provide a colourful and interesting introduction to the data. We have adapted the Software Carpentry (SC) version of the workshop based on experience teaching it, and finding that some parts of the SC workshop were unclear, or assumed certain background knowledge (particularly mathematics) that was not universally held by our target audience, or that concepts in the SC workshop were presented in a sequence that was not intuitive to us. We have great respect for the SC organization and its aims, and indeed most members of the SURGE Discover Coding teaching team are SC-certified instructors. Adapting and customizing the workshop is in the spirit of the open source movement and open educational resources, which SURGE wholeheartedly supports."
   ]
  },
  {
   "cell_type": "markdown",
   "id": "fallen-record",
   "metadata": {},
   "source": [
    "## Learning Objectives\n",
    "\n",
    "Upon completing this workshop, you will be able to:\n",
    "- understand and use variables\n",
    "- work with common Python data types like integers, floats, strings, characters, lists, dictionaries, as well as NumPy arrays and Pandas DataFrames.\n",
    "- read data from text files\n",
    "- obtain basic summary statistics from data files\n",
    "- manipulate and extract data from pandas DataFrames\n",
    "- visualize data using Python's Matplotlib package, and customize these plots\n",
    "- use basic flow control, including for loops and conditionals\n",
    "- write Python code according to standard style guidelines"
   ]
  },
  {
   "cell_type": "markdown",
   "id": "expanded-hayes",
   "metadata": {},
   "source": [
    "## Cloud-Based Python\n",
    "\n",
    "For this workshop, we will use a cloud-based resource ([CoCalc](https://cocalc.com)) for all of the programming. When you register for a workshop, you will receive instructions to create an account on CoCalc. Please do this *before* the start of the workshop to avoid delays. Then at the start of the workshop, attendees' CoCalc accounts will be updagraded to a paid version for the duration of the workshop. \n",
    "\n",
    "Using CoCalc has a number of advantages, including not needing to worry about installing Python on your own computer, or limitations of the type or specifications of the computer you have. As well, workshop attendees will have all the data files they need, and \"skeleton\" files for each workshop, automatically copied to their CoCalc accounts. An added advantage of the cloud platform is that members of the teaching team can see the work of any participant in the workshop. This is very useful when participants get stuck and need help.\n",
    "\n",
    "If you want to install Python on your own computer — either to follow along with a workshop, or to use afterwards — that's fine. We recommend you install [Anaconda Python](https://www.anaconda.com/products/individual), which is a complete scientific Python installation containing everything you'll need for the workshop, and likely for the majority of your future data science work as well. However, if you run Python on your own computer, instead of on the cloud server for this workshop, we will not be able to view your work if you are having trouble — so our ability to suport you will be more limited. \n",
    "\n",
    "If you do install Anaconda Python, the easiest way to run it is to launch the [Anaconda Navigator](https://docs.anaconda.com/anaconda/navigator/), and then start Jupyter Lab."
   ]
  }
 ],
 "metadata": {
  "kernelspec": {
   "display_name": "Python 3",
   "language": "python",
   "name": "python3"
  },
  "language_info": {
   "codemirror_mode": {
    "name": "ipython",
    "version": 3
   },
   "file_extension": ".py",
   "mimetype": "text/x-python",
   "name": "python",
   "nbconvert_exporter": "python",
   "pygments_lexer": "ipython3",
   "version": "3.8.5"
  }
 },
 "nbformat": 4,
 "nbformat_minor": 5
}
