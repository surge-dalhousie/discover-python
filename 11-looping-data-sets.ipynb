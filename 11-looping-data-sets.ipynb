{
 "cells": [
  {
   "cell_type": "markdown",
   "metadata": {},
   "source": [
    "# Looping Data Sets"
   ]
  },
  {
   "cell_type": "markdown",
   "metadata": {
    "jupyter": {
     "outputs_hidden": false
    }
   },
   "source": [
    "## Questions:\n",
    "- How can I process many data sets with a single command?\n",
    "\n",
    "## Objectives:\n",
    "- Be able to read and write globbing expressions that match sets of files.\n",
    "- Use glob to create lists of files.\n",
    "- Write for loops to perform operations on files given their names in a list."
   ]
  },
  {
   "cell_type": "markdown",
   "metadata": {
    "jupyter": {
     "outputs_hidden": false
    }
   },
   "source": [
    "## Use a `for` loop to process files given a list of their names.\n",
    "\n",
    "*   A filename is a character string.\n",
    "*   And lists can contain character strings.\n",
    "\n",
    "~~~python\n",
    "import pandas as pd\n",
    "for filename in ['data/gapminder_gdp_africa.csv', 'data/gapminder_gdp_asia.csv']:\n",
    "    data = pd.read_csv(filename, index_col='country')\n",
    "    print(filename, data.min())\n",
    "~~~"
   ]
  },
  {
   "cell_type": "code",
   "execution_count": null,
   "metadata": {},
   "outputs": [],
   "source": []
  },
  {
   "cell_type": "markdown",
   "metadata": {
    "jupyter": {
     "outputs_hidden": false
    }
   },
   "source": [
    "## Use [`glob.glob`](https://docs.python.org/3/library/glob.html#glob.glob) to find sets of files whose names match a pattern.\n",
    "\n",
    "*   In Unix, the term globbing means matching a set of files with a pattern.\n",
    "*   The most common patterns are:\n",
    "    *   `*` meaning match zero or more characters\n",
    "    *   `?` meaning match exactly one character\n",
    "*   Python's standard library contains the [`glob`](https://docs.python.org/3/library/glob.html) module to provide pattern matching functionality\n",
    "*   The [`glob`](https://docs.python.org/3/library/glob.html) module contains a function also called `glob` to match file patterns\n",
    "*   E.g., `glob.glob('*.txt')` matches all files in the current directory \n",
    "    whose names end with `.txt`.\n",
    "*   Result is a (possibly empty) list of character strings.\n",
    "\n",
    "~~~python\n",
    "import glob\n",
    "print('all csv files in data directory:', glob.glob('data/*.csv'))\n",
    "print('all PDB files:', glob.glob('*.pdb'))\n",
    "\n",
    "~~~"
   ]
  },
  {
   "cell_type": "code",
   "execution_count": null,
   "metadata": {},
   "outputs": [],
   "source": []
  },
  {
   "cell_type": "markdown",
   "metadata": {
    "jupyter": {
     "outputs_hidden": false
    }
   },
   "source": [
    "## Use `glob` and `for` to process batches of files.\n",
    "\n",
    "*   Helps a lot if the files are named and stored systematically and consistently\n",
    "    so that simple patterns will find the right data.\n",
    "\n",
    "~~~python\n",
    "for filename in glob.glob('data/gapminder_*.csv'):\n",
    "    data = pd.read_csv(filename)\n",
    "    print(filename, data['gdpPercap_1952'].min())\n",
    "~~~"
   ]
  },
  {
   "cell_type": "markdown",
   "metadata": {
    "jupyter": {
     "outputs_hidden": false
    }
   },
   "source": [
    "*   This includes all data, as well as per-region data.\n",
    "*   Use a more specific pattern in the exercises to exclude the whole data set.\n",
    "*   But note that the minimum of the entire data set is also the minimum of one of the data sets,\n",
    "    which is a nice check on correctness."
   ]
  },
  {
   "cell_type": "markdown",
   "metadata": {
    "jupyter": {
     "outputs_hidden": false
    }
   },
   "source": [
    "## Determining Matches\n",
    "\n",
    "Which of these files is *not* matched by the expression `glob.glob('data/*as*.csv')`?\n",
    "\n",
    "1. `data/gapminder_gdp_africa.csv`\n",
    "2. `data/gapminder_gdp_americas.csv`\n",
    "3. `data/gapminder_gdp_asia.csv`\n",
    "4. 1 and 2 are not matched."
   ]
  },
  {
   "cell_type": "markdown",
   "metadata": {
    "jupyter": {
     "outputs_hidden": false
    }
   },
   "source": [
    "## Minimum File Size\n",
    "\n",
    "Modify this program so that it prints the number of records in\n",
    "the file that has the fewest records.\n",
    "\n",
    "~~~python\n",
    "import glob\n",
    "import pandas as pd\n",
    "fewest = ____\n",
    "for filename in glob.glob('data/*.csv'):\n",
    "    dataframe = pd.____(filename)\n",
    "    fewest = min(____, dataframe.shape[0])\n",
    "print('smallest file has', fewest, 'records')\n",
    "~~~\n",
    "\n",
    "Note that the [shape method](https://pandas.pydata.org/pandas-docs/stable/reference/api/pandas.DataFrame.shape.html)\n",
    "returns a tuple with the number of rows and columns of the data frame."
   ]
  },
  {
   "cell_type": "code",
   "execution_count": 2,
   "metadata": {
    "collapsed": false,
    "jupyter": {
     "outputs_hidden": false
    }
   },
   "outputs": [
    {
     "name": "stdout",
     "output_type": "stream",
     "text": [
      "smallest file has 2 records\n"
     ]
    }
   ],
   "source": [
    "### BEGIN SOLUTION\n",
    "\n",
    "import glob\n",
    "import pandas as pd\n",
    "fewest = float('Inf')\n",
    "\n",
    "for filename in glob.glob('data/*.csv'):\n",
    "    dataframe = pd.read_csv(filename)\n",
    "    fewest = min(fewest, dataframe.shape[0])\n",
    "    \n",
    "print('smallest file has', fewest, 'records')\n",
    "\n",
    "### END SOLUTION"
   ]
  },
  {
   "cell_type": "markdown",
   "metadata": {
    "jupyter": {
     "outputs_hidden": false
    }
   },
   "source": [
    "## Comparing Data\n",
    "\n",
    "Write a program that reads in the regional data sets\n",
    "and plots the average GDP per capita for each region over time\n",
    "in a single chart.\n",
    "\n",
    "The ideal solution builds a useful legend by using the string [`split`](https://docs.python.org/3/library/stdtypes.html#str.split) method to\n",
    "extract the `region` from the path `data/gapminder_gdp_a_specific_region.csv`. The [`pathlib module`]\n",
    "also provides useful abstractions for file and path manipulation like returning the name of a file \n",
    "without the file extension."
   ]
  },
  {
   "cell_type": "code",
   "execution_count": 3,
   "metadata": {
    "collapsed": false,
    "jupyter": {
     "outputs_hidden": false
    }
   },
   "outputs": [
    {
     "data": {
      "image/png": "[encoded data removed]",
      "text/plain": [
       "<Figure size 432x288 with 1 Axes>"
      ]
     },
     "metadata": {
      "needs_background": "light"
     },
     "output_type": "display_data"
    }
   ],
   "source": [
    "### BEGIN SOLUTION\n",
    "\n",
    "import glob\n",
    "import pandas as pd\n",
    "import matplotlib.pyplot as plt\n",
    "fig, ax = plt.subplots(1,1)\n",
    "for filename in glob.glob('data/gapminder_gdp*.csv'):\n",
    "    dataframe = pd.read_csv(filename)\n",
    "    # extract <region from the filename, expected to be in the format 'data/gapminder_gdp_<region.csv'.\n",
    "    # we will split the string using the split method and `_` as our separator,\n",
    "    # retrieve the last string in the list that split returns (`<region.csv`), \n",
    "    # and then remove the `.csv` extension from that string.\n",
    "    region = filename.split('_')[-1][:-4] \n",
    "    dataframe.mean().plot(ax=ax, label=region)\n",
    "plt.legend()\n",
    "plt.show()\n",
    "\n",
    "### END SOLUTION"
   ]
  },
  {
   "cell_type": "markdown",
   "metadata": {
    "jupyter": {
     "outputs_hidden": false
    }
   },
   "source": [
    "---\n",
    "## Summary of Key Points:\n",
    "- Use a `for` loop to process files given a list of their names.\n",
    "- Use `glob.glob` to find sets of files whose names match a pattern.\n",
    "- Use `glob` and `for` to process batches of files."
   ]
  },
  {
   "cell_type": "code",
   "execution_count": null,
   "metadata": {},
   "outputs": [],
   "source": []
  },
  {
   "cell_type": "markdown",
   "metadata": {},
   "source": [
    "---\n",
    "This lesson is adapted from the [Software Carpentry](https://software-carpentry.org/lessons/) [Plotting and Programming in Python](http://swcarpentry.github.io/python-novice-gapminder/) workshop. \n",
    "\n",
    "Licensed under [CC-BY 4.0](https://creativecommons.org/licenses/by/4.0/) 2021 by Aaron J Newman"
   ]
  }
 ],
 "metadata": {
  "kernelspec": {
   "display_name": "Python 3",
   "language": "python",
   "name": "python3"
  },
  "language_info": {
   "codemirror_mode": {
    "name": "ipython",
    "version": 3
   },
   "file_extension": ".py",
   "mimetype": "text/x-python",
   "name": "python",
   "nbconvert_exporter": "python",
   "pygments_lexer": "ipython3",
   "version": "3.8.5"
  }
 },
 "nbformat": 4,
 "nbformat_minor": 4
}
