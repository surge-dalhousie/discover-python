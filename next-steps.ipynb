{
 "cells": [
  {
   "cell_type": "markdown",
   "id": "further-holmes",
   "metadata": {},
   "source": [
    "# Next Steps"
   ]
  },
  {
   "cell_type": "markdown",
   "id": "willing-newport",
   "metadata": {},
   "source": [
    "Congratulations! You have made it through the SURGE Discover Python workshop! While you still have much to learn, hopefully this workshop has provided you with a foundation in programming with Python, and understanding how to work with data in Python. Coding is a *process* more than it is a knowledge base. This means to get better at coding and data science, you need to practice it, and engage in the \"doing\". Reading and watching videos on Python and data science can be very informative, but ultimately these need to be complemented with actual practice for your skills and understanding to improve. \n",
    "\n",
    "To that end, we have a few suggestions for practice, as well as options for using Python outside of the CoCalc platform."
   ]
  },
  {
   "cell_type": "markdown",
   "id": "subsequent-turning",
   "metadata": {},
   "source": [
    "## Installing Python on your own computer"
   ]
  },
  {
   "cell_type": "markdown",
   "id": "prompt-receptor",
   "metadata": {},
   "source": [
    "## Resources for learning data science"
   ]
  },
  {
   "cell_type": "markdown",
   "id": "disciplinary-evanescence",
   "metadata": {},
   "source": [
    "## Resources for general Python practice"
   ]
  },
  {
   "cell_type": "code",
   "execution_count": null,
   "id": "dominant-campbell",
   "metadata": {},
   "outputs": [],
   "source": []
  }
 ],
 "metadata": {
  "kernelspec": {
   "display_name": "Python 3",
   "language": "python",
   "name": "python3"
  },
  "language_info": {
   "codemirror_mode": {
    "name": "ipython",
    "version": 3
   },
   "file_extension": ".py",
   "mimetype": "text/x-python",
   "name": "python",
   "nbconvert_exporter": "python",
   "pygments_lexer": "ipython3",
   "version": "3.8.5"
  }
 },
 "nbformat": 4,
 "nbformat_minor": 5
}
