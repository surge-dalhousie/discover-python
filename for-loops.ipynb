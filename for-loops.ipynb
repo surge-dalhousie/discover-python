{
 "cells": [
  {
   "cell_type": "markdown",
   "metadata": {},
   "source": [
    "# `for` Loops\n",
    "\n",
    "---"
   ]
  },
  {
   "cell_type": "markdown",
   "metadata": {},
   "source": [
    "## Questions:\n",
    "- How can I make a program do things repeatedly?\n",
    "\n",
    "## Learning Objectives:\n",
    "- Explain what for loops are normally used for.\n",
    "- Trace the execution of a simple (unnested) loop and correctly state the values of variables in each iteration.\n",
    "- Write for loops that use the Accumulator pattern to aggregate values.\n",
    "\n",
    "---"
   ]
  },
  {
   "cell_type": "markdown",
   "metadata": {},
   "source": [
    "## A `for` loop executes commands once for each value in a collection\n",
    "\n",
    "*   Doing calculations on the values in a list one by one is as painful as working with many individual variables rather than a list or dictionary (e.g., `life_exp_1900`, `life_exp_1920`, etc. rather than `life_exp = [48.1, 56.6, 64.0, 71.0, 75.2, 79.2]`\n",
    "*   A *for loop* tells Python to execute some statements once for each value in a list, a character string, or some other collection\n",
    "*  The `for` command means, \"for each thing in this group, do these operations\"\n",
    "\n",
    "~~~python\n",
    "for number in [2, 3, 5]:\n",
    "    print(number)\n",
    "~~~\n",
    "\n"
   ]
  },
  {
   "cell_type": "code",
   "execution_count": null,
   "metadata": {},
   "outputs": [],
   "source": []
  },
  {
   "cell_type": "markdown",
   "metadata": {},
   "source": [
    "The `for` loop above is equivalent to:\n",
    "\n",
    "~~~python\n",
    "print(2)\n",
    "print(3)\n",
    "print(5)\n",
    "~~~\n",
    "\n",
    "and the `for` loop's output is:\n",
    "\n",
    "~~~result\n",
    "2\n",
    "3\n",
    "5\n",
    "~~~\n",
    "\n",
    "However, the `for` loop is *scalable* to any length input. This makes it flexible, because we might not know in advance how many inputs we want to operate on."
   ]
  },
  {
   "cell_type": "markdown",
   "metadata": {},
   "source": [
    "## A `for` loop is made up of a collection, a loop variable, and a body.\n",
    "\n",
    "In our example:\n",
    "\n",
    "~~~python\n",
    "for number in [2, 3, 5]:\n",
    "    print(number)\n",
    "~~~\n",
    "\n",
    "- The **collection**, `[2, 3, 5]`, is what the loop is being run on.\n",
    "- The **loop variable**, `number`, is what changes for each *iteration* of the loop.\n",
    "    - This keeps track of where we are in the loop — the \"current thing\"\n",
    "- The **body**, `print(number)`, specifies what to do for each value in the collection.\n",
    "\n",
    "\n"
   ]
  },
  {
   "cell_type": "code",
   "execution_count": null,
   "metadata": {},
   "outputs": [],
   "source": []
  },
  {
   "cell_type": "markdown",
   "metadata": {},
   "source": [
    "## The first line of the `for` loop must end with a colon, and the body must be indented\n",
    "\n",
    "*   The colon at the end of the first line signals the start of a *block* of statements.\n",
    "*   Python uses indentation to show *nesting* (this is different from other languages, which often use explicit markers for the start and end (e.g., `{}` or `begin`/`end`) of a nesting.\n",
    "    *   Any consistent indentation is legal, but almost everyone uses four spaces.\n",
    "\n",
    "~~~python\n",
    "for number in [2, 3, 5]:\n",
    "    print(number)\n",
    "~~~\n",
    "\n"
   ]
  },
  {
   "cell_type": "code",
   "execution_count": null,
   "metadata": {},
   "outputs": [],
   "source": []
  },
  {
   "cell_type": "markdown",
   "metadata": {},
   "source": [
    "### Indentation is always meaningful in Python\n",
    "\n",
    "The code below generates an error:\n",
    "\n",
    "~~~python\n",
    "firstName = \"Jon\"\n",
    "  lastName = \"Smith\"\n",
    "~~~\n",
    "\n"
   ]
  },
  {
   "cell_type": "code",
   "execution_count": null,
   "metadata": {},
   "outputs": [],
   "source": []
  },
  {
   "cell_type": "markdown",
   "metadata": {},
   "source": [
    "This error can be fixed by removing the extra spaces at the beginning of the second line."
   ]
  },
  {
   "cell_type": "markdown",
   "metadata": {},
   "source": [
    "### Question\n",
    "Is an indentation error a syntax error or a runtime error?\n",
    "\n",
    "### Solution\n",
    "A Python IndentationError is a syntax error. Programs with syntax errors cannot be started.\n",
    "A program with a runtime error will start but an error will be thrown under certain conditions.\n"
   ]
  },
  {
   "cell_type": "markdown",
   "metadata": {},
   "source": [
    "## Loop variables can be called anything.\n",
    "\n",
    "As with all variables, loop variables are:\n",
    "- Created on demand\n",
    "- Meaningless: their names can be anything at all\n",
    "- But as always, clear and meaningful variable names are best practice\n",
    "\n",
    "~~~python\n",
    "for kitten in [2, 3, 5]:\n",
    "    print(kitten)\n",
    "\n",
    "for ytrjmn in [2, 3, 5]:\n",
    "    print(ytrjmn)   \n",
    "~~~\n"
   ]
  },
  {
   "cell_type": "code",
   "execution_count": null,
   "metadata": {},
   "outputs": [],
   "source": []
  },
  {
   "cell_type": "markdown",
   "metadata": {},
   "source": [
    "## The collection can be a list, dictionary, etc. that was defined previously\n",
    "\n",
    "~~~python\n",
    "life_exp = [48.1, 56.6, 64.0, 71.0, 75.2, 79.2]\n",
    "for e in life_exp:\n",
    "    print(e)\n",
    "~~~"
   ]
  },
  {
   "cell_type": "code",
   "execution_count": null,
   "metadata": {},
   "outputs": [],
   "source": []
  },
  {
   "cell_type": "markdown",
   "metadata": {},
   "source": [
    "Strings can also be used as the collection, in which case the loop will step through each character of the string:"
   ]
  },
  {
   "cell_type": "code",
   "execution_count": null,
   "metadata": {},
   "outputs": [],
   "source": [
    "for c in 'SURGE':\n",
    "    print(c)"
   ]
  },
  {
   "cell_type": "markdown",
   "metadata": {},
   "source": [
    "## The body of a loop can contain many statements.\n",
    "\n",
    "~~~python\n",
    "primes = [2, 3, 5]\n",
    "for p in primes:\n",
    "    squared = p ** 2\n",
    "    cubed = p ** 3\n",
    "    print(p, squared, cubed)\n",
    "~~~\n",
    "\n"
   ]
  },
  {
   "cell_type": "code",
   "execution_count": null,
   "metadata": {},
   "outputs": [],
   "source": []
  },
  {
   "cell_type": "markdown",
   "metadata": {},
   "source": [
    "## Use `range` to iterate over a sequence of numbers\n",
    "\n",
    "- This is an easy way to generate a sequence of numbers to make looping over large ranges more efficient\n",
    "- `range(n)` is the numbers 0 ... n-1\n",
    "    - recall that Python counts from zero\n",
    "    - as with slicing, `range()` goes up to, but does not include, the last value\n",
    "\n",
    "~~~python\n",
    "for i in range(10):\n",
    "    print(i)\n",
    "~~~"
   ]
  },
  {
   "cell_type": "code",
   "execution_count": null,
   "metadata": {},
   "outputs": [],
   "source": []
  },
  {
   "cell_type": "markdown",
   "metadata": {},
   "source": [
    "If we provide two arguments to `range()`, the first is the start and the second is the end of the range:\n",
    "\n",
    "~~~python\n",
    "for i in range(10, 15):\n",
    "    print(i)\n",
    "~~~"
   ]
  },
  {
   "cell_type": "code",
   "execution_count": null,
   "metadata": {},
   "outputs": [],
   "source": []
  },
  {
   "cell_type": "markdown",
   "metadata": {},
   "source": [
    "- It's good to know that although the `range()` function can substitute for typing out a list, it does not actually produce a list\n",
    "- The numbers are produced on demand to make looping over large ranges more efficient. We can see this by printing the result of calling the `range()` function:\n",
    "\n",
    "~~~python\n",
    "print(range(10))\n",
    "~~~"
   ]
  },
  {
   "cell_type": "code",
   "execution_count": null,
   "metadata": {},
   "outputs": [],
   "source": []
  },
  {
   "cell_type": "markdown",
   "metadata": {},
   "source": [
    "...or by printing its type:\n",
    "~~~python\n",
    "print(type(range(10)))\n",
    "~~~"
   ]
  },
  {
   "cell_type": "code",
   "execution_count": null,
   "metadata": {},
   "outputs": [],
   "source": []
  },
  {
   "cell_type": "markdown",
   "metadata": {},
   "source": [
    "## The \"accumulator\" pattern turns many values into one\n",
    "\n",
    "A common pattern in programs is to:\n",
    "1.  Initialize an *accumulator* variable to zero\n",
    "2.  Update the variable with values from a collection.\n",
    "\n",
    "~~~python\n",
    "# Sum the integers 1-10\n",
    "total = 0\n",
    "for number in range(1, 11):\n",
    "    total = total + number\n",
    "print(total)\n",
    "~~~\n",
    "\n",
    "Note that we specify a range of 1-11 because the `range()` goes up to, but does not include, the 'end' number"
   ]
  },
  {
   "cell_type": "code",
   "execution_count": null,
   "metadata": {},
   "outputs": [],
   "source": []
  },
  {
   "cell_type": "markdown",
   "metadata": {},
   "source": [
    "*   Read `total = total + number ` as:\n",
    "    *   Add 1 to the current value of the accumulator variable `total`.\n",
    "    *   Assign that to `total`, replacing the current value."
   ]
  },
  {
   "cell_type": "markdown",
   "metadata": {},
   "source": [
    "## Accumulators can also be empty lists\n",
    "\n",
    "This is where empty lists and the `.append()` method can be really useful: \n",
    "\n",
    "~~~python\n",
    "output = []\n",
    "for i in range(10):\n",
    "    output.append(i * 2)\n",
    "    \n",
    "print(output)\n",
    "~~~"
   ]
  },
  {
   "cell_type": "code",
   "execution_count": null,
   "metadata": {},
   "outputs": [],
   "source": []
  },
  {
   "cell_type": "markdown",
   "metadata": {},
   "source": [
    "---\n",
    "## Exercises"
   ]
  },
  {
   "cell_type": "markdown",
   "metadata": {},
   "source": [
    "### Tracing Execution\n",
    "\n",
    "In the Markdown cell below (not code!) trace the execution of the `for` loop as it would run. That is, type what you expect would be the values of `total` and `c` each time through the loop. Use a separate line for each pass through the loop.\n",
    "\n",
    "~~~python\n",
    "total = 0\n",
    "for c in 'tin':\n",
    "    total = total + 1\n",
    "~~~\n",
    "\n",
    "An interesting thing to note in this example is that we never use the looping variable (`c`) inside the loop; we only use it to control how many times we go through the loop."
   ]
  },
  {
   "cell_type": "markdown",
   "metadata": {},
   "source": []
  },
  {
   "cell_type": "markdown",
   "metadata": {},
   "source": [
    "### Reversing a String\n",
    "\n",
    "Fill in the blanks in the program below so that it reverses the order of the letters in `original`\n",
    "\n",
    "~~~python\n",
    "original = 'semordnilap'\n",
    "result = ____ \n",
    "for char in original:\n",
    "    result = ____\n",
    "\n",
    "print(result)\n",
    "~~~"
   ]
  },
  {
   "cell_type": "code",
   "execution_count": null,
   "metadata": {},
   "outputs": [],
   "source": [
    "### BEGIN SOLUTION\n",
    "original = 'semordnilap'\n",
    "result = ''\n",
    "\n",
    "for char in original:\n",
    "    result = char + result\n",
    "    \n",
    "print(result)\n",
    "\n",
    "### END SOLUTION"
   ]
  },
  {
   "cell_type": "markdown",
   "metadata": {},
   "source": [
    "### Practice Accumulating\n",
    "\n",
    "Fill in the blanks in each of the programs below\n",
    "to produce the indicated result.\n",
    "\n",
    "#### 1. Print the total number of characters in all of the words in the list \n",
    "(Correct answer is 12)\n",
    "\n",
    "~~~python\n",
    "total = 0\n",
    "for word in [\"red\", \"green\", \"blue\"]:\n",
    "    ____ = ____ + len(word)\n",
    "\n",
    "print(total)\n",
    "~~~"
   ]
  },
  {
   "cell_type": "code",
   "execution_count": null,
   "metadata": {},
   "outputs": [],
   "source": [
    "### BEGIN SOLUTION\n",
    "total = 0\n",
    "for word in [\"red\", \"green\", \"blue\"]:\n",
    "    total = total + len(word)\n",
    "print(total)\n",
    "### END SOLUTION"
   ]
  },
  {
   "cell_type": "markdown",
   "metadata": {},
   "source": [
    "#### 2. Print a list of the lengths of *each* word in the list \n",
    "(correct answer is `[3, 5, 4]`)"
   ]
  },
  {
   "cell_type": "markdown",
   "metadata": {},
   "source": [
    "~~~python\n",
    "lengths = ____\n",
    "for word in [\"red\", \"green\", \"blue\"]:\n",
    "    lengths.____(____)\n",
    "\n",
    "print(lengths)\n",
    "~~~"
   ]
  },
  {
   "cell_type": "code",
   "execution_count": null,
   "metadata": {},
   "outputs": [],
   "source": [
    "### BEGIN SOLUTION\n",
    "lengths = []\n",
    "for word in [\"red\", \"green\", \"blue\"]:\n",
    "  lengths.append(len(word))\n",
    "print(lengths)\n",
    "### END SOLUTION"
   ]
  },
  {
   "cell_type": "markdown",
   "metadata": {},
   "source": [
    "#### 3. Concatenate all of the words in the list into one string\n",
    "(correct answer is `\"redgreenblue\"`)"
   ]
  },
  {
   "cell_type": "markdown",
   "metadata": {},
   "source": [
    "```python\n",
    "words = [\"red\", \"green\", \"blue\"]\n",
    "result = ____\n",
    "for ____ in ____:\n",
    " ____\n",
    "print(result)\n",
    "```"
   ]
  },
  {
   "cell_type": "code",
   "execution_count": null,
   "metadata": {},
   "outputs": [],
   "source": [
    "### BEGIN SOLUTION\n",
    "\n",
    "words = [\"red\", \"green\", \"blue\"]\n",
    "result = \"\"\n",
    "for word in words:\n",
    "  result = result + word\n",
    "print(result)\n",
    "### END SOLUTION"
   ]
  },
  {
   "cell_type": "markdown",
   "metadata": {},
   "source": [
    "#### 4. Create acronym: [\"red\", \"green\", \"blue\"] = \"RGB\"\n",
    "\n",
    "Write all the code this time!\n",
    "\n",
    "Hint: Python as a `.upper()` method that works on characters and strings"
   ]
  },
  {
   "cell_type": "code",
   "execution_count": null,
   "metadata": {},
   "outputs": [],
   "source": []
  },
  {
   "cell_type": "code",
   "execution_count": null,
   "metadata": {},
   "outputs": [],
   "source": [
    "### BEGIN SOLUTION\n",
    "acronym = \"\"\n",
    "for word in [\"red\", \"green\", \"blue\"]:\n",
    "    acronym = acronym + word[0].upper()\n",
    "print(acronym)\n",
    "### END SOLUTION"
   ]
  },
  {
   "cell_type": "markdown",
   "metadata": {},
   "source": [
    "### Cumulative Sum\n",
    "\n",
    "Reorder and properly indent the lines of code below\n",
    "so that they print a list with the cumulative sum of data.\n",
    "The result should be `[1, 3, 5, 10]`.\n",
    "\n",
    "~~~python\n",
    "cumulative.append(sum)\n",
    "for number in data:\n",
    "cumulative = []\n",
    "sum += number\n",
    "sum = 0\n",
    "print(cumulative)\n",
    "data = [1,2,2,5]\n",
    "~~~"
   ]
  },
  {
   "cell_type": "code",
   "execution_count": null,
   "metadata": {},
   "outputs": [],
   "source": [
    "### BEGIN SOLUTION\n",
    "\n",
    "sum = 0\n",
    "data = [1,2,2,5]\n",
    "cumulative = []\n",
    "for number in data:\n",
    "    sum += number\n",
    "    cumulative.append(sum)\n",
    "print(cumulative)\n",
    "### END SOLUTION"
   ]
  },
  {
   "cell_type": "markdown",
   "metadata": {},
   "source": [
    "### Identifying Item Errors\n",
    "\n",
    "1. Read the code below and try to identify what the errors are *without* running it.\n",
    "1. Run the code, and read the error message. What type of error is it?\n",
    "1. Fix the error.\n",
    "\n",
    "~~~python\n",
    "seasons = ['Spring', 'Summer', 'Fall', 'Winter']\n",
    "print('My favorite season is ', seasons[4])\n",
    "~~~"
   ]
  },
  {
   "cell_type": "code",
   "execution_count": null,
   "metadata": {},
   "outputs": [],
   "source": [
    "### BEGIN SOLUTION\n",
    "\n",
    "# This list has 4 elements and the index to access the last element in the list is `3`.\n",
    "\n",
    "seasons = ['Spring', 'Summer', 'Fall', 'Winter']\n",
    "print('My favorite season is ', seasons[3])\n",
    "### END SOLUTION"
   ]
  },
  {
   "cell_type": "markdown",
   "metadata": {
    "jupyter": {
     "outputs_hidden": false
    }
   },
   "source": [
    "---\n",
    "## Summary of Key Points:\n",
    "\n",
    "- A *for loop* executes commands once for each value in a collection.\n",
    "- A `for` loop is made up of a collection, a loop variable, and a body.\n",
    "- The first line of the `for` loop must end with a colon, and the body must be indented.\n",
    "- Indentation is always meaningful in Python.\n",
    "- Loop variables can be called anything (but it is strongly advised to have a meaningful name to the looping variable).\n",
    "- The body of a loop can contain many statements.\n",
    "- Use `range` to iterate over a sequence of numbers.\n",
    "- The Accumulator pattern turns many values into one.\n",
    "\n"
   ]
  },
  {
   "cell_type": "markdown",
   "metadata": {},
   "source": [
    "---\n",
    "This lesson is adapted from the [Software Carpentry](https://software-carpentry.org/lessons/) [Plotting and Programming in Python](http://swcarpentry.github.io/python-novice-gapminder/) workshop. \n",
    "\n",
    "Licensed under [CC-BY 4.0](https://creativecommons.org/licenses/by/4.0/) 2021 by [SURGE](https://github.com/surge-dalhousie)"
   ]
  }
 ],
 "metadata": {
  "kernelspec": {
   "display_name": "Python 3",
   "language": "python",
   "name": "python3"
  },
  "language_info": {
   "codemirror_mode": {
    "name": "ipython",
    "version": 3
   },
   "file_extension": ".py",
   "mimetype": "text/x-python",
   "name": "python",
   "nbconvert_exporter": "python",
   "pygments_lexer": "ipython3",
   "version": "3.8.5"
  }
 },
 "nbformat": 4,
 "nbformat_minor": 4
}
